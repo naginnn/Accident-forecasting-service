{
 "cells": [
  {
   "cell_type": "code",
   "outputs": [],
   "source": [
    "import pandas as pd\n",
    "import numpy as np\n",
    "from sklearn import preprocessing\n",
    "\n",
    "# преобразует строковые параметры в числа \n",
    "# Exampe: \"Hello\" \"Hello\" \"world\" [0,0,1]\n",
    "class MultiColumnLabelEncoder:\n",
    "    def __init__(self, columns=None):\n",
    "        self.columns = columns  # array of column names to encode\n",
    "\n",
    "    def fit(self, X, y=None):\n",
    "        return self  # not relevant here\n",
    "\n",
    "    def transform(self, X):\n",
    "        '''\n",
    "        Transforms columns of X specified in self.columns using\n",
    "        LabelEncoder(). If no columns specified, transforms all\n",
    "        columns in X.\n",
    "        '''\n",
    "        output = X.copy()\n",
    "        if self.columns is not None:\n",
    "            for col in self.columns:\n",
    "                output[col] = preprocessing.LabelEncoder().fit_transform(output[col])\n",
    "        else:\n",
    "            for col_name, col in output.iteritems():\n",
    "                output[col_name] = preprocessing.LabelEncoder().fit_transform(col)\n",
    "        return output\n",
    "\n",
    "    def fit_transform(self, X, y=None):\n",
    "        return self.fit(X, y).transform(X)"
   ],
   "metadata": {
    "collapsed": false,
    "is_executing": true
   },
   "id": "9be48a6440e78e1d",
   "execution_count": null
  },
  {
   "cell_type": "code",
   "outputs": [],
   "source": [
    "# чтение файла с объектами\n",
    "df = pd.read_excel('1.xlsx')"
   ],
   "metadata": {
    "collapsed": false,
    "ExecuteTime": {
     "end_time": "2024-03-31T12:37:48.575731Z",
     "start_time": "2024-03-31T12:37:45.480519Z"
    }
   },
   "id": "464bfdb349dabce8",
   "execution_count": 2
  },
  {
   "cell_type": "code",
   "outputs": [
    {
     "data": {
      "text/plain": "                ID                                        NAME  PARENT_ID   \n0              NaN                                         NaN        NaN  \\\n1        1500923.0       Дом по адресу Красковская ул., д.121А        NaN   \n2        1500933.0    Дом по адресу Байкальская ул., д.18, к.2        NaN   \n3        1500943.0           Дом по адресу Перовская ул., д.48        NaN   \n4        1500951.0   Дом по адресу Парковая 3-я ул., д.39, к.3        NaN   \n...            ...                                         ...        ...   \n18428  544441568.0  Дом по адресу Салтыковская ул., д.6/1, к.5        NaN   \n18429  545483918.0       Дом по адресу Амурская ул., д.2А, к.1        NaN   \n18430  545483942.0       Дом по адресу Амурская ул., д.2А, к.2        NaN   \n18431  545483949.0       Дом по адресу Амурская ул., д.2А, к.3        NaN   \n18432  545483953.0       Дом по адресу Амурская ул., д.2А, к.4        NaN   \n\n           LOGIN                    COL_754              COL_755   \n0            NaN                 Назначение  Форма собственности  \\\n1             WS                        NaN                  NaN   \n2             WS                        NaN                  NaN   \n3             WS                        NaN                  NaN   \n4      404070001                        NaN                  NaN   \n...          ...                        ...                  ...   \n18428  operator2  Нет техпаспорта МосгорБТИ                  NaN   \n18429  operator2  Нет техпаспорта МосгорБТИ                  NaN   \n18430  operator2  Нет техпаспорта МосгорБТИ                  NaN   \n18431  operator2  Нет техпаспорта МосгорБТИ                  NaN   \n18432  operator2  Нет техпаспорта МосгорБТИ                  NaN   \n\n             COL_756            COL_757        COL_758            COL_759   \n0      Год постройки  Год реконструкции  Серия проекта  Количество этажей  \\\n1               1956                NaN        2048798                  1   \n2               2005                NaN        2048798                 18   \n3               1955                NaN        2048912                  4   \n4               1960                NaN        2048912                  5   \n...              ...                ...            ...                ...   \n18428            NaN                NaN            NaN                NaN   \n18429            NaN                NaN            NaN                NaN   \n18430            NaN                NaN            NaN                NaN   \n18431            NaN                NaN            NaN                NaN   \n18432            NaN                NaN            NaN                NaN   \n\n       ...                    COL_775          COL_781  COL_782   \n0      ...  Очередность уборки кровли  Материал кровли     UNOM  \\\n1      ...                        NaN         22289204    49928   \n2      ...                        NaN         22289201    64148   \n3      ...                   22289162         22289204    19485   \n4      ...                   22289162         22289201    18533   \n...    ...                        ...              ...      ...   \n18428  ...                        NaN              NaN  6003997   \n18429  ...                        NaN              NaN  5259334   \n18430  ...                        NaN              NaN  5259335   \n18431  ...                        NaN              NaN  5259332   \n18432  ...                        NaN              NaN  5259331   \n\n                      COL_2156             COL_2463    COL_3163   \n0      Вид социального объекта  Тип жилищного фонда  Статус МКД  \\\n1                          NaN             22741963    58761330   \n2                          NaN             42875644    58761330   \n3                          NaN             42875644    58761330   \n4                          NaN             42875644    58761330   \n...                        ...                  ...         ...   \n18428                      NaN             42875644    58761330   \n18429                      NaN             42875644    58761330   \n18430                      NaN             42875644    58761330   \n18431                      NaN             42875644    58761330   \n18432                      NaN             42875644    58761330   \n\n                    COL_3243                    COL_3363   \n0      Статус управления МКД  Количество грузовых лифтов  \\\n1                        NaN                           0   \n2                   45063584                           0   \n3                   45063584                           0   \n4                   45063584                           0   \n...                      ...                         ...   \n18428               45063584                         NaN   \n18429               45063584                         NaN   \n18430               45063584                         NaN   \n18431               45063584                         NaN   \n18432               45063584                         NaN   \n\n                            COL_3468     COL_103506  \n0      Причина Изменения Статуса МКД  Категория МКД  \n1                                NaN            NaN  \n2                                NaN            NaN  \n3                                NaN            NaN  \n4                                NaN            NaN  \n...                              ...            ...  \n18428                            NaN            NaN  \n18429                            NaN            NaN  \n18430                            NaN            NaN  \n18431                            NaN            NaN  \n18432                            NaN            NaN  \n\n[18433 rows x 32 columns]",
      "text/html": "<div>\n<style scoped>\n    .dataframe tbody tr th:only-of-type {\n        vertical-align: middle;\n    }\n\n    .dataframe tbody tr th {\n        vertical-align: top;\n    }\n\n    .dataframe thead th {\n        text-align: right;\n    }\n</style>\n<table border=\"1\" class=\"dataframe\">\n  <thead>\n    <tr style=\"text-align: right;\">\n      <th></th>\n      <th>ID</th>\n      <th>NAME</th>\n      <th>PARENT_ID</th>\n      <th>LOGIN</th>\n      <th>COL_754</th>\n      <th>COL_755</th>\n      <th>COL_756</th>\n      <th>COL_757</th>\n      <th>COL_758</th>\n      <th>COL_759</th>\n      <th>...</th>\n      <th>COL_775</th>\n      <th>COL_781</th>\n      <th>COL_782</th>\n      <th>COL_2156</th>\n      <th>COL_2463</th>\n      <th>COL_3163</th>\n      <th>COL_3243</th>\n      <th>COL_3363</th>\n      <th>COL_3468</th>\n      <th>COL_103506</th>\n    </tr>\n  </thead>\n  <tbody>\n    <tr>\n      <th>0</th>\n      <td>NaN</td>\n      <td>NaN</td>\n      <td>NaN</td>\n      <td>NaN</td>\n      <td>Назначение</td>\n      <td>Форма собственности</td>\n      <td>Год постройки</td>\n      <td>Год реконструкции</td>\n      <td>Серия проекта</td>\n      <td>Количество этажей</td>\n      <td>...</td>\n      <td>Очередность уборки кровли</td>\n      <td>Материал кровли</td>\n      <td>UNOM</td>\n      <td>Вид социального объекта</td>\n      <td>Тип жилищного фонда</td>\n      <td>Статус МКД</td>\n      <td>Статус управления МКД</td>\n      <td>Количество грузовых лифтов</td>\n      <td>Причина Изменения Статуса МКД</td>\n      <td>Категория МКД</td>\n    </tr>\n    <tr>\n      <th>1</th>\n      <td>1500923.0</td>\n      <td>Дом по адресу Красковская ул., д.121А</td>\n      <td>NaN</td>\n      <td>WS</td>\n      <td>NaN</td>\n      <td>NaN</td>\n      <td>1956</td>\n      <td>NaN</td>\n      <td>2048798</td>\n      <td>1</td>\n      <td>...</td>\n      <td>NaN</td>\n      <td>22289204</td>\n      <td>49928</td>\n      <td>NaN</td>\n      <td>22741963</td>\n      <td>58761330</td>\n      <td>NaN</td>\n      <td>0</td>\n      <td>NaN</td>\n      <td>NaN</td>\n    </tr>\n    <tr>\n      <th>2</th>\n      <td>1500933.0</td>\n      <td>Дом по адресу Байкальская ул., д.18, к.2</td>\n      <td>NaN</td>\n      <td>WS</td>\n      <td>NaN</td>\n      <td>NaN</td>\n      <td>2005</td>\n      <td>NaN</td>\n      <td>2048798</td>\n      <td>18</td>\n      <td>...</td>\n      <td>NaN</td>\n      <td>22289201</td>\n      <td>64148</td>\n      <td>NaN</td>\n      <td>42875644</td>\n      <td>58761330</td>\n      <td>45063584</td>\n      <td>0</td>\n      <td>NaN</td>\n      <td>NaN</td>\n    </tr>\n    <tr>\n      <th>3</th>\n      <td>1500943.0</td>\n      <td>Дом по адресу Перовская ул., д.48</td>\n      <td>NaN</td>\n      <td>WS</td>\n      <td>NaN</td>\n      <td>NaN</td>\n      <td>1955</td>\n      <td>NaN</td>\n      <td>2048912</td>\n      <td>4</td>\n      <td>...</td>\n      <td>22289162</td>\n      <td>22289204</td>\n      <td>19485</td>\n      <td>NaN</td>\n      <td>42875644</td>\n      <td>58761330</td>\n      <td>45063584</td>\n      <td>0</td>\n      <td>NaN</td>\n      <td>NaN</td>\n    </tr>\n    <tr>\n      <th>4</th>\n      <td>1500951.0</td>\n      <td>Дом по адресу Парковая 3-я ул., д.39, к.3</td>\n      <td>NaN</td>\n      <td>404070001</td>\n      <td>NaN</td>\n      <td>NaN</td>\n      <td>1960</td>\n      <td>NaN</td>\n      <td>2048912</td>\n      <td>5</td>\n      <td>...</td>\n      <td>22289162</td>\n      <td>22289201</td>\n      <td>18533</td>\n      <td>NaN</td>\n      <td>42875644</td>\n      <td>58761330</td>\n      <td>45063584</td>\n      <td>0</td>\n      <td>NaN</td>\n      <td>NaN</td>\n    </tr>\n    <tr>\n      <th>...</th>\n      <td>...</td>\n      <td>...</td>\n      <td>...</td>\n      <td>...</td>\n      <td>...</td>\n      <td>...</td>\n      <td>...</td>\n      <td>...</td>\n      <td>...</td>\n      <td>...</td>\n      <td>...</td>\n      <td>...</td>\n      <td>...</td>\n      <td>...</td>\n      <td>...</td>\n      <td>...</td>\n      <td>...</td>\n      <td>...</td>\n      <td>...</td>\n      <td>...</td>\n      <td>...</td>\n    </tr>\n    <tr>\n      <th>18428</th>\n      <td>544441568.0</td>\n      <td>Дом по адресу Салтыковская ул., д.6/1, к.5</td>\n      <td>NaN</td>\n      <td>operator2</td>\n      <td>Нет техпаспорта МосгорБТИ</td>\n      <td>NaN</td>\n      <td>NaN</td>\n      <td>NaN</td>\n      <td>NaN</td>\n      <td>NaN</td>\n      <td>...</td>\n      <td>NaN</td>\n      <td>NaN</td>\n      <td>6003997</td>\n      <td>NaN</td>\n      <td>42875644</td>\n      <td>58761330</td>\n      <td>45063584</td>\n      <td>NaN</td>\n      <td>NaN</td>\n      <td>NaN</td>\n    </tr>\n    <tr>\n      <th>18429</th>\n      <td>545483918.0</td>\n      <td>Дом по адресу Амурская ул., д.2А, к.1</td>\n      <td>NaN</td>\n      <td>operator2</td>\n      <td>Нет техпаспорта МосгорБТИ</td>\n      <td>NaN</td>\n      <td>NaN</td>\n      <td>NaN</td>\n      <td>NaN</td>\n      <td>NaN</td>\n      <td>...</td>\n      <td>NaN</td>\n      <td>NaN</td>\n      <td>5259334</td>\n      <td>NaN</td>\n      <td>42875644</td>\n      <td>58761330</td>\n      <td>45063584</td>\n      <td>NaN</td>\n      <td>NaN</td>\n      <td>NaN</td>\n    </tr>\n    <tr>\n      <th>18430</th>\n      <td>545483942.0</td>\n      <td>Дом по адресу Амурская ул., д.2А, к.2</td>\n      <td>NaN</td>\n      <td>operator2</td>\n      <td>Нет техпаспорта МосгорБТИ</td>\n      <td>NaN</td>\n      <td>NaN</td>\n      <td>NaN</td>\n      <td>NaN</td>\n      <td>NaN</td>\n      <td>...</td>\n      <td>NaN</td>\n      <td>NaN</td>\n      <td>5259335</td>\n      <td>NaN</td>\n      <td>42875644</td>\n      <td>58761330</td>\n      <td>45063584</td>\n      <td>NaN</td>\n      <td>NaN</td>\n      <td>NaN</td>\n    </tr>\n    <tr>\n      <th>18431</th>\n      <td>545483949.0</td>\n      <td>Дом по адресу Амурская ул., д.2А, к.3</td>\n      <td>NaN</td>\n      <td>operator2</td>\n      <td>Нет техпаспорта МосгорБТИ</td>\n      <td>NaN</td>\n      <td>NaN</td>\n      <td>NaN</td>\n      <td>NaN</td>\n      <td>NaN</td>\n      <td>...</td>\n      <td>NaN</td>\n      <td>NaN</td>\n      <td>5259332</td>\n      <td>NaN</td>\n      <td>42875644</td>\n      <td>58761330</td>\n      <td>45063584</td>\n      <td>NaN</td>\n      <td>NaN</td>\n      <td>NaN</td>\n    </tr>\n    <tr>\n      <th>18432</th>\n      <td>545483953.0</td>\n      <td>Дом по адресу Амурская ул., д.2А, к.4</td>\n      <td>NaN</td>\n      <td>operator2</td>\n      <td>Нет техпаспорта МосгорБТИ</td>\n      <td>NaN</td>\n      <td>NaN</td>\n      <td>NaN</td>\n      <td>NaN</td>\n      <td>NaN</td>\n      <td>...</td>\n      <td>NaN</td>\n      <td>NaN</td>\n      <td>5259331</td>\n      <td>NaN</td>\n      <td>42875644</td>\n      <td>58761330</td>\n      <td>45063584</td>\n      <td>NaN</td>\n      <td>NaN</td>\n      <td>NaN</td>\n    </tr>\n  </tbody>\n</table>\n<p>18433 rows × 32 columns</p>\n</div>"
     },
     "execution_count": 3,
     "metadata": {},
     "output_type": "execute_result"
    }
   ],
   "source": [
    "\n",
    "df"
   ],
   "metadata": {
    "collapsed": false,
    "ExecuteTime": {
     "end_time": "2024-03-31T12:37:48.608253Z",
     "start_time": "2024-03-31T12:37:48.576534Z"
    }
   },
   "id": "b8f5a38394662581",
   "execution_count": 3
  },
  {
   "cell_type": "code",
   "outputs": [],
   "source": [
    "# чистка\n",
    "df.drop([\n",
    "    'LOGIN', 'COL_755',\n",
    "    'COL_754', 'COL_765', 'COL_2156',\n",
    "    'COL_103506','PARENT_ID',\n",
    "], axis=1, inplace=True)"
   ],
   "metadata": {
    "collapsed": false,
    "ExecuteTime": {
     "end_time": "2024-03-31T12:37:48.619487Z",
     "start_time": "2024-03-31T12:37:48.612629Z"
    }
   },
   "id": "8d0739bf963e1399",
   "execution_count": 4
  },
  {
   "cell_type": "code",
   "outputs": [],
   "source": [],
   "metadata": {
    "collapsed": false
   },
   "id": "9778379e96f0a5dd"
  },
  {
   "cell_type": "code",
   "outputs": [],
   "source": [
    "df = df[1:]"
   ],
   "metadata": {
    "collapsed": false,
    "ExecuteTime": {
     "end_time": "2024-03-31T12:37:48.622337Z",
     "start_time": "2024-03-31T12:37:48.620268Z"
    }
   },
   "id": "c276267845609ae1",
   "execution_count": 5
  },
  {
   "cell_type": "code",
   "outputs": [],
   "source": [
    "# преобразуем колонку в единый вид\n",
    "def get_word(x):\n",
    "    x = x.lower().split(' ')\n",
    "    res = ' '\n",
    "    if 'распоряжение' in x:\n",
    "        res = 'распоряжение'\n",
    "    elif 'обращение' in x:\n",
    "        res = 'обращение'\n",
    "    elif 'письмо' in x:\n",
    "        res = 'письмо'\n",
    "    return res\n",
    "\n",
    "# pd.options.mode.chained_assignment = None \n",
    "df.loc[:, 'COL_3468'] = df['COL_3468'].astype('str').apply(lambda x: get_word(x))"
   ],
   "metadata": {
    "collapsed": false,
    "ExecuteTime": {
     "end_time": "2024-03-31T12:37:48.631345Z",
     "start_time": "2024-03-31T12:37:48.623079Z"
    }
   },
   "id": "aba0a0aa6328b531",
   "execution_count": 6
  },
  {
   "cell_type": "code",
   "outputs": [],
   "source": [
    "# Преобразуем в числовые параметры\n",
    "df = MultiColumnLabelEncoder(columns=[\n",
    "    'COL_757', 'COL_763', 'COL_764',\n",
    "    'COL_766', 'COL_767', 'COL_772',\n",
    "    'COL_775', 'COL_781', 'COL_2463',\n",
    "    'COL_3468', 'COL_762',\n",
    "]).fit_transform(df)"
   ],
   "metadata": {
    "collapsed": false,
    "ExecuteTime": {
     "end_time": "2024-03-31T12:37:48.662660Z",
     "start_time": "2024-03-31T12:37:48.632082Z"
    }
   },
   "id": "3f1b4bac558b40ed",
   "execution_count": 7
  },
  {
   "cell_type": "code",
   "outputs": [],
   "source": [
    "# Чистка\n",
    "df.fillna({\n",
    "    'COL_758': 0, 'COL_759': 0, 'COL_760': 0,\n",
    "    'COL_761': 0, 'COL_770': 0, 'COL_771': 0,\n",
    "    'COL_2463': 0, 'COL_3243': 0, 'COL_3363': 0,\n",
    "}, inplace=True)\n",
    "# Выделяем связь с инцидентами\n",
    "df.rename({\n",
    "    'COL_782':'UNOM',\n",
    "}, axis=1, inplace=True)"
   ],
   "metadata": {
    "collapsed": false,
    "ExecuteTime": {
     "end_time": "2024-03-31T12:37:48.673937Z",
     "start_time": "2024-03-31T12:37:48.663541Z"
    }
   },
   "id": "4611563644053ac6",
   "execution_count": 8
  },
  {
   "cell_type": "code",
   "outputs": [
    {
     "data": {
      "text/plain": "                ID                                        NAME COL_756   \n1        1500923.0       Дом по адресу Красковская ул., д.121А    1956  \\\n2        1500933.0    Дом по адресу Байкальская ул., д.18, к.2    2005   \n3        1500943.0           Дом по адресу Перовская ул., д.48    1955   \n4        1500951.0   Дом по адресу Парковая 3-я ул., д.39, к.3    1960   \n5        1500954.0   Дом по адресу Свободный просп., д.11, к.2    1973   \n...            ...                                         ...     ...   \n18428  544441568.0  Дом по адресу Салтыковская ул., д.6/1, к.5     NaN   \n18429  545483918.0       Дом по адресу Амурская ул., д.2А, к.1     NaN   \n18430  545483942.0       Дом по адресу Амурская ул., д.2А, к.2     NaN   \n18431  545483949.0       Дом по адресу Амурская ул., д.2А, к.3     NaN   \n18432  545483953.0       Дом по адресу Амурская ул., д.2А, к.4     NaN   \n\n       COL_757  COL_758 COL_759 COL_760 COL_761  COL_762  COL_763  ...   \n1            1  2048798       1       2       1     5319     3035  ...  \\\n2            1  2048798      18       2     148     5523     3131  ...   \n3            1  2048912       4       2      20      584      124  ...   \n4            1  2048912       5       3      60     2181     1145  ...   \n5            1  2048755       9      12     431     1796      908  ...   \n...        ...      ...     ...     ...     ...      ...      ...  ...   \n18428        1        0       0       0       0     6022     3381  ...   \n18429        1        0       0       0       0     6022     3381  ...   \n18430        1        0       0       0       0     6022     3381  ...   \n18431        1        0       0       0       0     6022     3381  ...   \n18432        1        0       0       0       0     6022     3381  ...   \n\n       COL_771  COL_772  COL_775 COL_781     UNOM COL_2463  COL_3163   \n1            0        0        2       2    49928        1  58761330  \\\n2            2        7        2       0    64148        3  58761330   \n3            0        0        0       2    19485        3  58761330   \n4            0        0        0       0    18533        3  58761330   \n5           12        0        2       0    22830        3  58761330   \n...        ...      ...      ...     ...      ...      ...       ...   \n18428        0       16        2      10  6003997        3  58761330   \n18429        0       16        2      10  5259334        3  58761330   \n18430        0       16        2      10  5259335        3  58761330   \n18431        0       16        2      10  5259332        3  58761330   \n18432        0       16        2      10  5259331        3  58761330   \n\n       COL_3243  COL_3363 COL_3468  \n1             0         0        0  \n2      45063584         0        0  \n3      45063584         0        0  \n4      45063584         0        0  \n5      45063584         0        0  \n...         ...       ...      ...  \n18428  45063584         0        0  \n18429  45063584         0        0  \n18430  45063584         0        0  \n18431  45063584         0        0  \n18432  45063584         0        0  \n\n[18432 rows x 25 columns]",
      "text/html": "<div>\n<style scoped>\n    .dataframe tbody tr th:only-of-type {\n        vertical-align: middle;\n    }\n\n    .dataframe tbody tr th {\n        vertical-align: top;\n    }\n\n    .dataframe thead th {\n        text-align: right;\n    }\n</style>\n<table border=\"1\" class=\"dataframe\">\n  <thead>\n    <tr style=\"text-align: right;\">\n      <th></th>\n      <th>ID</th>\n      <th>NAME</th>\n      <th>COL_756</th>\n      <th>COL_757</th>\n      <th>COL_758</th>\n      <th>COL_759</th>\n      <th>COL_760</th>\n      <th>COL_761</th>\n      <th>COL_762</th>\n      <th>COL_763</th>\n      <th>...</th>\n      <th>COL_771</th>\n      <th>COL_772</th>\n      <th>COL_775</th>\n      <th>COL_781</th>\n      <th>UNOM</th>\n      <th>COL_2463</th>\n      <th>COL_3163</th>\n      <th>COL_3243</th>\n      <th>COL_3363</th>\n      <th>COL_3468</th>\n    </tr>\n  </thead>\n  <tbody>\n    <tr>\n      <th>1</th>\n      <td>1500923.0</td>\n      <td>Дом по адресу Красковская ул., д.121А</td>\n      <td>1956</td>\n      <td>1</td>\n      <td>2048798</td>\n      <td>1</td>\n      <td>2</td>\n      <td>1</td>\n      <td>5319</td>\n      <td>3035</td>\n      <td>...</td>\n      <td>0</td>\n      <td>0</td>\n      <td>2</td>\n      <td>2</td>\n      <td>49928</td>\n      <td>1</td>\n      <td>58761330</td>\n      <td>0</td>\n      <td>0</td>\n      <td>0</td>\n    </tr>\n    <tr>\n      <th>2</th>\n      <td>1500933.0</td>\n      <td>Дом по адресу Байкальская ул., д.18, к.2</td>\n      <td>2005</td>\n      <td>1</td>\n      <td>2048798</td>\n      <td>18</td>\n      <td>2</td>\n      <td>148</td>\n      <td>5523</td>\n      <td>3131</td>\n      <td>...</td>\n      <td>2</td>\n      <td>7</td>\n      <td>2</td>\n      <td>0</td>\n      <td>64148</td>\n      <td>3</td>\n      <td>58761330</td>\n      <td>45063584</td>\n      <td>0</td>\n      <td>0</td>\n    </tr>\n    <tr>\n      <th>3</th>\n      <td>1500943.0</td>\n      <td>Дом по адресу Перовская ул., д.48</td>\n      <td>1955</td>\n      <td>1</td>\n      <td>2048912</td>\n      <td>4</td>\n      <td>2</td>\n      <td>20</td>\n      <td>584</td>\n      <td>124</td>\n      <td>...</td>\n      <td>0</td>\n      <td>0</td>\n      <td>0</td>\n      <td>2</td>\n      <td>19485</td>\n      <td>3</td>\n      <td>58761330</td>\n      <td>45063584</td>\n      <td>0</td>\n      <td>0</td>\n    </tr>\n    <tr>\n      <th>4</th>\n      <td>1500951.0</td>\n      <td>Дом по адресу Парковая 3-я ул., д.39, к.3</td>\n      <td>1960</td>\n      <td>1</td>\n      <td>2048912</td>\n      <td>5</td>\n      <td>3</td>\n      <td>60</td>\n      <td>2181</td>\n      <td>1145</td>\n      <td>...</td>\n      <td>0</td>\n      <td>0</td>\n      <td>0</td>\n      <td>0</td>\n      <td>18533</td>\n      <td>3</td>\n      <td>58761330</td>\n      <td>45063584</td>\n      <td>0</td>\n      <td>0</td>\n    </tr>\n    <tr>\n      <th>5</th>\n      <td>1500954.0</td>\n      <td>Дом по адресу Свободный просп., д.11, к.2</td>\n      <td>1973</td>\n      <td>1</td>\n      <td>2048755</td>\n      <td>9</td>\n      <td>12</td>\n      <td>431</td>\n      <td>1796</td>\n      <td>908</td>\n      <td>...</td>\n      <td>12</td>\n      <td>0</td>\n      <td>2</td>\n      <td>0</td>\n      <td>22830</td>\n      <td>3</td>\n      <td>58761330</td>\n      <td>45063584</td>\n      <td>0</td>\n      <td>0</td>\n    </tr>\n    <tr>\n      <th>...</th>\n      <td>...</td>\n      <td>...</td>\n      <td>...</td>\n      <td>...</td>\n      <td>...</td>\n      <td>...</td>\n      <td>...</td>\n      <td>...</td>\n      <td>...</td>\n      <td>...</td>\n      <td>...</td>\n      <td>...</td>\n      <td>...</td>\n      <td>...</td>\n      <td>...</td>\n      <td>...</td>\n      <td>...</td>\n      <td>...</td>\n      <td>...</td>\n      <td>...</td>\n      <td>...</td>\n    </tr>\n    <tr>\n      <th>18428</th>\n      <td>544441568.0</td>\n      <td>Дом по адресу Салтыковская ул., д.6/1, к.5</td>\n      <td>NaN</td>\n      <td>1</td>\n      <td>0</td>\n      <td>0</td>\n      <td>0</td>\n      <td>0</td>\n      <td>6022</td>\n      <td>3381</td>\n      <td>...</td>\n      <td>0</td>\n      <td>16</td>\n      <td>2</td>\n      <td>10</td>\n      <td>6003997</td>\n      <td>3</td>\n      <td>58761330</td>\n      <td>45063584</td>\n      <td>0</td>\n      <td>0</td>\n    </tr>\n    <tr>\n      <th>18429</th>\n      <td>545483918.0</td>\n      <td>Дом по адресу Амурская ул., д.2А, к.1</td>\n      <td>NaN</td>\n      <td>1</td>\n      <td>0</td>\n      <td>0</td>\n      <td>0</td>\n      <td>0</td>\n      <td>6022</td>\n      <td>3381</td>\n      <td>...</td>\n      <td>0</td>\n      <td>16</td>\n      <td>2</td>\n      <td>10</td>\n      <td>5259334</td>\n      <td>3</td>\n      <td>58761330</td>\n      <td>45063584</td>\n      <td>0</td>\n      <td>0</td>\n    </tr>\n    <tr>\n      <th>18430</th>\n      <td>545483942.0</td>\n      <td>Дом по адресу Амурская ул., д.2А, к.2</td>\n      <td>NaN</td>\n      <td>1</td>\n      <td>0</td>\n      <td>0</td>\n      <td>0</td>\n      <td>0</td>\n      <td>6022</td>\n      <td>3381</td>\n      <td>...</td>\n      <td>0</td>\n      <td>16</td>\n      <td>2</td>\n      <td>10</td>\n      <td>5259335</td>\n      <td>3</td>\n      <td>58761330</td>\n      <td>45063584</td>\n      <td>0</td>\n      <td>0</td>\n    </tr>\n    <tr>\n      <th>18431</th>\n      <td>545483949.0</td>\n      <td>Дом по адресу Амурская ул., д.2А, к.3</td>\n      <td>NaN</td>\n      <td>1</td>\n      <td>0</td>\n      <td>0</td>\n      <td>0</td>\n      <td>0</td>\n      <td>6022</td>\n      <td>3381</td>\n      <td>...</td>\n      <td>0</td>\n      <td>16</td>\n      <td>2</td>\n      <td>10</td>\n      <td>5259332</td>\n      <td>3</td>\n      <td>58761330</td>\n      <td>45063584</td>\n      <td>0</td>\n      <td>0</td>\n    </tr>\n    <tr>\n      <th>18432</th>\n      <td>545483953.0</td>\n      <td>Дом по адресу Амурская ул., д.2А, к.4</td>\n      <td>NaN</td>\n      <td>1</td>\n      <td>0</td>\n      <td>0</td>\n      <td>0</td>\n      <td>0</td>\n      <td>6022</td>\n      <td>3381</td>\n      <td>...</td>\n      <td>0</td>\n      <td>16</td>\n      <td>2</td>\n      <td>10</td>\n      <td>5259331</td>\n      <td>3</td>\n      <td>58761330</td>\n      <td>45063584</td>\n      <td>0</td>\n      <td>0</td>\n    </tr>\n  </tbody>\n</table>\n<p>18432 rows × 25 columns</p>\n</div>"
     },
     "execution_count": 9,
     "metadata": {},
     "output_type": "execute_result"
    }
   ],
   "source": [
    "df"
   ],
   "metadata": {
    "collapsed": false,
    "ExecuteTime": {
     "end_time": "2024-03-31T12:37:48.692352Z",
     "start_time": "2024-03-31T12:37:48.674483Z"
    }
   },
   "id": "4a58d0419967febb",
   "execution_count": 9
  },
  {
   "cell_type": "code",
   "outputs": [
    {
     "data": {
      "text/plain": "                                             Наименование Источник   \n0                                          Открыт колодец      MVK  \\\n1            Отклонение ГВС ниже нормы ночью (мониторинг)    ASUPR   \n2             Отклонение ГВС ниже нормы днем (мониторинг)    ASUPR   \n3                              Температура ГВС ниже нормы    ASUPR   \n4                              Температура ГВС ниже нормы    ASUPR   \n...                                                   ...      ...   \n1048570  Отсутствие освещения в местах общего пользования      EDC   \n1048571           Температура в квартире ниже нормативной      EDC   \n1048572                                      Недогрев ГВС      EDC   \n1048573  Отсутствие освещения в местах общего пользования      EDC   \n1048574           Температура в квартире ниже нормативной      EDC   \n\n        Дата создания во внешней системе               Дата закрытия Округ   \n0             2022-08-30 14:41:53.000000  2022-08-30 15:40:26.565000   ВАО  \\\n1             2022-02-20 06:24:07.000000  2022-04-04 02:43:22.101000   ВАО   \n2             2022-03-07 21:04:01.000000  2022-03-09 09:33:24.894000   ВАО   \n3             2022-03-05 22:13:33.000000  2022-03-05 19:14:00.190000   ВАО   \n4             2022-02-18 21:43:54.000000  2022-02-18 18:44:14.682000   ВАО   \n...                                  ...                         ...   ...   \n1048570       2022-11-23 11:56:32.000000  2022-11-23 12:22:34.591000   ВАО   \n1048571       2022-11-23 15:37:33.000000  2022-11-23 16:57:53.149000   ВАО   \n1048572       2022-11-24 08:01:52.000000  2022-11-24 09:08:46.374000   ВАО   \n1048573       2022-11-24 11:56:22.000000  2022-11-24 13:56:41.609000   ВАО   \n1048574       2022-11-24 12:32:13.000000  2022-11-24 12:58:00.838000   ВАО   \n\n                                                     Адрес     unom   \n0        внутригородская территория муниципальный округ...  2115191  \\\n1        внутригородская территория муниципальный округ...  2404461   \n2        внутригородская территория муниципальный округ...  2404461   \n3        внутригородская территория муниципальный округ...  2404461   \n4        внутригородская территория муниципальный округ...  2404461   \n...                                                    ...      ...   \n1048570  внутригородская территория муниципальный округ...     4086   \n1048571  внутригородская территория муниципальный округ...     4086   \n1048572  внутригородская территория муниципальный округ...     4086   \n1048573  внутригородская территория муниципальный округ...     4086   \n1048574  внутригородская территория муниципальный округ...     4086   \n\n        Дата и время завершения события во  \n0                                      NaN  \n1                                      NaN  \n2                                      NaN  \n3                                      NaN  \n4                                      NaN  \n...                                    ...  \n1048570         2022-11-23 12:22:34.045000  \n1048571         2022-11-23 16:57:53.149000  \n1048572         2022-11-24 09:08:46.374000  \n1048573         2022-11-24 13:56:41.609000  \n1048574         2022-11-24 12:58:00.435000  \n\n[1048575 rows x 8 columns]",
      "text/html": "<div>\n<style scoped>\n    .dataframe tbody tr th:only-of-type {\n        vertical-align: middle;\n    }\n\n    .dataframe tbody tr th {\n        vertical-align: top;\n    }\n\n    .dataframe thead th {\n        text-align: right;\n    }\n</style>\n<table border=\"1\" class=\"dataframe\">\n  <thead>\n    <tr style=\"text-align: right;\">\n      <th></th>\n      <th>Наименование</th>\n      <th>Источник</th>\n      <th>Дата создания во внешней системе</th>\n      <th>Дата закрытия</th>\n      <th>Округ</th>\n      <th>Адрес</th>\n      <th>unom</th>\n      <th>Дата и время завершения события во</th>\n    </tr>\n  </thead>\n  <tbody>\n    <tr>\n      <th>0</th>\n      <td>Открыт колодец</td>\n      <td>MVK</td>\n      <td>2022-08-30 14:41:53.000000</td>\n      <td>2022-08-30 15:40:26.565000</td>\n      <td>ВАО</td>\n      <td>внутригородская территория муниципальный округ...</td>\n      <td>2115191</td>\n      <td>NaN</td>\n    </tr>\n    <tr>\n      <th>1</th>\n      <td>Отклонение ГВС ниже нормы ночью (мониторинг)</td>\n      <td>ASUPR</td>\n      <td>2022-02-20 06:24:07.000000</td>\n      <td>2022-04-04 02:43:22.101000</td>\n      <td>ВАО</td>\n      <td>внутригородская территория муниципальный округ...</td>\n      <td>2404461</td>\n      <td>NaN</td>\n    </tr>\n    <tr>\n      <th>2</th>\n      <td>Отклонение ГВС ниже нормы днем (мониторинг)</td>\n      <td>ASUPR</td>\n      <td>2022-03-07 21:04:01.000000</td>\n      <td>2022-03-09 09:33:24.894000</td>\n      <td>ВАО</td>\n      <td>внутригородская территория муниципальный округ...</td>\n      <td>2404461</td>\n      <td>NaN</td>\n    </tr>\n    <tr>\n      <th>3</th>\n      <td>Температура ГВС ниже нормы</td>\n      <td>ASUPR</td>\n      <td>2022-03-05 22:13:33.000000</td>\n      <td>2022-03-05 19:14:00.190000</td>\n      <td>ВАО</td>\n      <td>внутригородская территория муниципальный округ...</td>\n      <td>2404461</td>\n      <td>NaN</td>\n    </tr>\n    <tr>\n      <th>4</th>\n      <td>Температура ГВС ниже нормы</td>\n      <td>ASUPR</td>\n      <td>2022-02-18 21:43:54.000000</td>\n      <td>2022-02-18 18:44:14.682000</td>\n      <td>ВАО</td>\n      <td>внутригородская территория муниципальный округ...</td>\n      <td>2404461</td>\n      <td>NaN</td>\n    </tr>\n    <tr>\n      <th>...</th>\n      <td>...</td>\n      <td>...</td>\n      <td>...</td>\n      <td>...</td>\n      <td>...</td>\n      <td>...</td>\n      <td>...</td>\n      <td>...</td>\n    </tr>\n    <tr>\n      <th>1048570</th>\n      <td>Отсутствие освещения в местах общего пользования</td>\n      <td>EDC</td>\n      <td>2022-11-23 11:56:32.000000</td>\n      <td>2022-11-23 12:22:34.591000</td>\n      <td>ВАО</td>\n      <td>внутригородская территория муниципальный округ...</td>\n      <td>4086</td>\n      <td>2022-11-23 12:22:34.045000</td>\n    </tr>\n    <tr>\n      <th>1048571</th>\n      <td>Температура в квартире ниже нормативной</td>\n      <td>EDC</td>\n      <td>2022-11-23 15:37:33.000000</td>\n      <td>2022-11-23 16:57:53.149000</td>\n      <td>ВАО</td>\n      <td>внутригородская территория муниципальный округ...</td>\n      <td>4086</td>\n      <td>2022-11-23 16:57:53.149000</td>\n    </tr>\n    <tr>\n      <th>1048572</th>\n      <td>Недогрев ГВС</td>\n      <td>EDC</td>\n      <td>2022-11-24 08:01:52.000000</td>\n      <td>2022-11-24 09:08:46.374000</td>\n      <td>ВАО</td>\n      <td>внутригородская территория муниципальный округ...</td>\n      <td>4086</td>\n      <td>2022-11-24 09:08:46.374000</td>\n    </tr>\n    <tr>\n      <th>1048573</th>\n      <td>Отсутствие освещения в местах общего пользования</td>\n      <td>EDC</td>\n      <td>2022-11-24 11:56:22.000000</td>\n      <td>2022-11-24 13:56:41.609000</td>\n      <td>ВАО</td>\n      <td>внутригородская территория муниципальный округ...</td>\n      <td>4086</td>\n      <td>2022-11-24 13:56:41.609000</td>\n    </tr>\n    <tr>\n      <th>1048574</th>\n      <td>Температура в квартире ниже нормативной</td>\n      <td>EDC</td>\n      <td>2022-11-24 12:32:13.000000</td>\n      <td>2022-11-24 12:58:00.838000</td>\n      <td>ВАО</td>\n      <td>внутригородская территория муниципальный округ...</td>\n      <td>4086</td>\n      <td>2022-11-24 12:58:00.435000</td>\n    </tr>\n  </tbody>\n</table>\n<p>1048575 rows × 8 columns</p>\n</div>"
     },
     "execution_count": 10,
     "metadata": {},
     "output_type": "execute_result"
    }
   ],
   "source": [
    "# df = df.join() COL782 - UNOM\n",
    "# открываем файл с инцидентами лист 1\n",
    "work_types = pd.read_excel('2.xlsx', sheet_name='Result 1')\n",
    "work_types"
   ],
   "metadata": {
    "collapsed": false,
    "ExecuteTime": {
     "end_time": "2024-03-31T12:38:48.637998Z",
     "start_time": "2024-03-31T12:37:48.694780Z"
    }
   },
   "id": "46f0f28ecd25058d",
   "execution_count": 10
  },
  {
   "cell_type": "code",
   "outputs": [
    {
     "data": {
      "text/plain": "                                          Наименование Источник   \n0     Отсутствие освещения в местах общего пользования      EDC  \\\n1     Отсутствие освещения в местах общего пользования      EDC   \n2     Отсутствие освещения в местах общего пользования      EDC   \n3     Отсутствие освещения в местах общего пользования      EDC   \n4              Температура в квартире ниже нормативной      EDC   \n...                                                ...      ...   \n5301                                 Засор канализации      EDC   \n5302                                      Недогрев ГВС      EDC   \n5303                                      Недогрев ГВС      EDC   \n5304                                      Недогрев ГВС      EDC   \n5305            Аномальное значение разницы температур    ASUPR   \n\n     Дата создания во внешней системе               Дата закрытия Округ   \n0          2022-11-24 13:37:48.000000  2022-11-24 16:34:46.849000   ВАО  \\\n1          2022-11-24 16:12:45.000000  2022-11-24 16:34:10.370000   ВАО   \n2          2022-11-24 16:26:15.000000  2022-11-24 17:08:52.549000   ВАО   \n3          2022-11-24 16:39:24.000000  2022-11-24 17:09:27.741000   ВАО   \n4          2022-11-24 16:42:50.000000  2022-11-24 17:09:45.926000   ВАО   \n...                               ...                         ...   ...   \n5301       2022-10-28 08:26:59.000000  2022-10-28 08:45:46.634000   ВАО   \n5302       2022-11-02 17:51:03.000000  2022-11-02 19:42:59.116000   ВАО   \n5303       2022-11-03 10:19:13.000000  2022-11-03 10:47:10.487000   ВАО   \n5304       2022-11-03 10:20:33.000000  2022-11-03 10:47:15.575000   ВАО   \n5305       2022-11-04 05:30:49.000000  2022-12-07 13:00:32.687000   ВАО   \n\n                                                  Адрес   unom   \n0     внутригородская территория муниципальный округ...   4086  \\\n1     внутригородская территория муниципальный округ...   4086   \n2     внутригородская территория муниципальный округ...   4086   \n3     внутригородская территория муниципальный округ...   4086   \n4     внутригородская территория муниципальный округ...   4086   \n...                                                 ...    ...   \n5301  внутригородская территория муниципальный округ...  14257   \n5302  внутригородская территория муниципальный округ...  14257   \n5303  внутригородская территория муниципальный округ...  14257   \n5304  внутригородская территория муниципальный округ...  14257   \n5305  внутригородская территория муниципальный округ...  14257   \n\n     Дата и время завершения события во  \n0            2022-11-24 16:34:46.849000  \n1            2022-11-24 16:34:09.752000  \n2            2022-11-24 17:08:52.548000  \n3            2022-11-24 17:09:27.491000  \n4            2022-11-24 17:09:43.627000  \n...                                 ...  \n5301         2022-10-28 08:45:46.634000  \n5302         2022-11-02 19:42:59.116000  \n5303         2022-11-03 10:47:10.487000  \n5304         2022-11-03 10:47:15.575000  \n5305         2022-12-07 13:00:32.667000  \n\n[5306 rows x 8 columns]",
      "text/html": "<div>\n<style scoped>\n    .dataframe tbody tr th:only-of-type {\n        vertical-align: middle;\n    }\n\n    .dataframe tbody tr th {\n        vertical-align: top;\n    }\n\n    .dataframe thead th {\n        text-align: right;\n    }\n</style>\n<table border=\"1\" class=\"dataframe\">\n  <thead>\n    <tr style=\"text-align: right;\">\n      <th></th>\n      <th>Наименование</th>\n      <th>Источник</th>\n      <th>Дата создания во внешней системе</th>\n      <th>Дата закрытия</th>\n      <th>Округ</th>\n      <th>Адрес</th>\n      <th>unom</th>\n      <th>Дата и время завершения события во</th>\n    </tr>\n  </thead>\n  <tbody>\n    <tr>\n      <th>0</th>\n      <td>Отсутствие освещения в местах общего пользования</td>\n      <td>EDC</td>\n      <td>2022-11-24 13:37:48.000000</td>\n      <td>2022-11-24 16:34:46.849000</td>\n      <td>ВАО</td>\n      <td>внутригородская территория муниципальный округ...</td>\n      <td>4086</td>\n      <td>2022-11-24 16:34:46.849000</td>\n    </tr>\n    <tr>\n      <th>1</th>\n      <td>Отсутствие освещения в местах общего пользования</td>\n      <td>EDC</td>\n      <td>2022-11-24 16:12:45.000000</td>\n      <td>2022-11-24 16:34:10.370000</td>\n      <td>ВАО</td>\n      <td>внутригородская территория муниципальный округ...</td>\n      <td>4086</td>\n      <td>2022-11-24 16:34:09.752000</td>\n    </tr>\n    <tr>\n      <th>2</th>\n      <td>Отсутствие освещения в местах общего пользования</td>\n      <td>EDC</td>\n      <td>2022-11-24 16:26:15.000000</td>\n      <td>2022-11-24 17:08:52.549000</td>\n      <td>ВАО</td>\n      <td>внутригородская территория муниципальный округ...</td>\n      <td>4086</td>\n      <td>2022-11-24 17:08:52.548000</td>\n    </tr>\n    <tr>\n      <th>3</th>\n      <td>Отсутствие освещения в местах общего пользования</td>\n      <td>EDC</td>\n      <td>2022-11-24 16:39:24.000000</td>\n      <td>2022-11-24 17:09:27.741000</td>\n      <td>ВАО</td>\n      <td>внутригородская территория муниципальный округ...</td>\n      <td>4086</td>\n      <td>2022-11-24 17:09:27.491000</td>\n    </tr>\n    <tr>\n      <th>4</th>\n      <td>Температура в квартире ниже нормативной</td>\n      <td>EDC</td>\n      <td>2022-11-24 16:42:50.000000</td>\n      <td>2022-11-24 17:09:45.926000</td>\n      <td>ВАО</td>\n      <td>внутригородская территория муниципальный округ...</td>\n      <td>4086</td>\n      <td>2022-11-24 17:09:43.627000</td>\n    </tr>\n    <tr>\n      <th>...</th>\n      <td>...</td>\n      <td>...</td>\n      <td>...</td>\n      <td>...</td>\n      <td>...</td>\n      <td>...</td>\n      <td>...</td>\n      <td>...</td>\n    </tr>\n    <tr>\n      <th>5301</th>\n      <td>Засор канализации</td>\n      <td>EDC</td>\n      <td>2022-10-28 08:26:59.000000</td>\n      <td>2022-10-28 08:45:46.634000</td>\n      <td>ВАО</td>\n      <td>внутригородская территория муниципальный округ...</td>\n      <td>14257</td>\n      <td>2022-10-28 08:45:46.634000</td>\n    </tr>\n    <tr>\n      <th>5302</th>\n      <td>Недогрев ГВС</td>\n      <td>EDC</td>\n      <td>2022-11-02 17:51:03.000000</td>\n      <td>2022-11-02 19:42:59.116000</td>\n      <td>ВАО</td>\n      <td>внутригородская территория муниципальный округ...</td>\n      <td>14257</td>\n      <td>2022-11-02 19:42:59.116000</td>\n    </tr>\n    <tr>\n      <th>5303</th>\n      <td>Недогрев ГВС</td>\n      <td>EDC</td>\n      <td>2022-11-03 10:19:13.000000</td>\n      <td>2022-11-03 10:47:10.487000</td>\n      <td>ВАО</td>\n      <td>внутригородская территория муниципальный округ...</td>\n      <td>14257</td>\n      <td>2022-11-03 10:47:10.487000</td>\n    </tr>\n    <tr>\n      <th>5304</th>\n      <td>Недогрев ГВС</td>\n      <td>EDC</td>\n      <td>2022-11-03 10:20:33.000000</td>\n      <td>2022-11-03 10:47:15.575000</td>\n      <td>ВАО</td>\n      <td>внутригородская территория муниципальный округ...</td>\n      <td>14257</td>\n      <td>2022-11-03 10:47:15.575000</td>\n    </tr>\n    <tr>\n      <th>5305</th>\n      <td>Аномальное значение разницы температур</td>\n      <td>ASUPR</td>\n      <td>2022-11-04 05:30:49.000000</td>\n      <td>2022-12-07 13:00:32.687000</td>\n      <td>ВАО</td>\n      <td>внутригородская территория муниципальный округ...</td>\n      <td>14257</td>\n      <td>2022-12-07 13:00:32.667000</td>\n    </tr>\n  </tbody>\n</table>\n<p>5306 rows × 8 columns</p>\n</div>"
     },
     "execution_count": 11,
     "metadata": {},
     "output_type": "execute_result"
    }
   ],
   "source": [
    "# открываем файл с инцидентами лист 2\n",
    "work_types2 = pd.read_excel('2.xlsx', sheet_name='Result 2')\n",
    "work_types2"
   ],
   "metadata": {
    "collapsed": false,
    "ExecuteTime": {
     "end_time": "2024-03-31T12:39:04.823842Z",
     "start_time": "2024-03-31T12:38:48.638698Z"
    }
   },
   "id": "eb510910cf7f29ff",
   "execution_count": 11
  },
  {
   "cell_type": "code",
   "outputs": [
    {
     "data": {
      "text/plain": "                                         WORK_NAME CREATE_DATE  CLOSE_DATE   \n0                                   Открыт колодец  2022.08.30  2022.08.30  \\\n1     Отклонение ГВС ниже нормы ночью (мониторинг)  2022.02.20  2022.04.04   \n2      Отклонение ГВС ниже нормы днем (мониторинг)  2022.03.07  2022.03.09   \n3                       Температура ГВС ниже нормы  2022.03.05  2022.03.05   \n4                       Температура ГВС ниже нормы  2022.02.18  2022.02.18   \n...                                            ...         ...         ...   \n5301                             Засор канализации  2022.10.28  2022.10.28   \n5302                                  Недогрев ГВС  2022.11.02  2022.11.02   \n5303                                  Недогрев ГВС  2022.11.03  2022.11.03   \n5304                                  Недогрев ГВС  2022.11.03  2022.11.03   \n5305        Аномальное значение разницы температур  2022.11.04  2022.12.07   \n\n     SOURCE     UNOM  \n0       MVK  2115191  \n1     ASUPR  2404461  \n2     ASUPR  2404461  \n3     ASUPR  2404461  \n4     ASUPR  2404461  \n...     ...      ...  \n5301    EDC    14257  \n5302    EDC    14257  \n5303    EDC    14257  \n5304    EDC    14257  \n5305  ASUPR    14257  \n\n[1053881 rows x 5 columns]",
      "text/html": "<div>\n<style scoped>\n    .dataframe tbody tr th:only-of-type {\n        vertical-align: middle;\n    }\n\n    .dataframe tbody tr th {\n        vertical-align: top;\n    }\n\n    .dataframe thead th {\n        text-align: right;\n    }\n</style>\n<table border=\"1\" class=\"dataframe\">\n  <thead>\n    <tr style=\"text-align: right;\">\n      <th></th>\n      <th>WORK_NAME</th>\n      <th>CREATE_DATE</th>\n      <th>CLOSE_DATE</th>\n      <th>SOURCE</th>\n      <th>UNOM</th>\n    </tr>\n  </thead>\n  <tbody>\n    <tr>\n      <th>0</th>\n      <td>Открыт колодец</td>\n      <td>2022.08.30</td>\n      <td>2022.08.30</td>\n      <td>MVK</td>\n      <td>2115191</td>\n    </tr>\n    <tr>\n      <th>1</th>\n      <td>Отклонение ГВС ниже нормы ночью (мониторинг)</td>\n      <td>2022.02.20</td>\n      <td>2022.04.04</td>\n      <td>ASUPR</td>\n      <td>2404461</td>\n    </tr>\n    <tr>\n      <th>2</th>\n      <td>Отклонение ГВС ниже нормы днем (мониторинг)</td>\n      <td>2022.03.07</td>\n      <td>2022.03.09</td>\n      <td>ASUPR</td>\n      <td>2404461</td>\n    </tr>\n    <tr>\n      <th>3</th>\n      <td>Температура ГВС ниже нормы</td>\n      <td>2022.03.05</td>\n      <td>2022.03.05</td>\n      <td>ASUPR</td>\n      <td>2404461</td>\n    </tr>\n    <tr>\n      <th>4</th>\n      <td>Температура ГВС ниже нормы</td>\n      <td>2022.02.18</td>\n      <td>2022.02.18</td>\n      <td>ASUPR</td>\n      <td>2404461</td>\n    </tr>\n    <tr>\n      <th>...</th>\n      <td>...</td>\n      <td>...</td>\n      <td>...</td>\n      <td>...</td>\n      <td>...</td>\n    </tr>\n    <tr>\n      <th>5301</th>\n      <td>Засор канализации</td>\n      <td>2022.10.28</td>\n      <td>2022.10.28</td>\n      <td>EDC</td>\n      <td>14257</td>\n    </tr>\n    <tr>\n      <th>5302</th>\n      <td>Недогрев ГВС</td>\n      <td>2022.11.02</td>\n      <td>2022.11.02</td>\n      <td>EDC</td>\n      <td>14257</td>\n    </tr>\n    <tr>\n      <th>5303</th>\n      <td>Недогрев ГВС</td>\n      <td>2022.11.03</td>\n      <td>2022.11.03</td>\n      <td>EDC</td>\n      <td>14257</td>\n    </tr>\n    <tr>\n      <th>5304</th>\n      <td>Недогрев ГВС</td>\n      <td>2022.11.03</td>\n      <td>2022.11.03</td>\n      <td>EDC</td>\n      <td>14257</td>\n    </tr>\n    <tr>\n      <th>5305</th>\n      <td>Аномальное значение разницы температур</td>\n      <td>2022.11.04</td>\n      <td>2022.12.07</td>\n      <td>ASUPR</td>\n      <td>14257</td>\n    </tr>\n  </tbody>\n</table>\n<p>1053881 rows × 5 columns</p>\n</div>"
     },
     "execution_count": 12,
     "metadata": {},
     "output_type": "execute_result"
    }
   ],
   "source": [
    "# Матчим листы и приводим к единому виду\n",
    "work_types = pd.concat([work_types, work_types2])\n",
    "work_types['Дата создания во внешней системе'].fillna('01-01-1970 ', inplace=True)\n",
    "work_types['Дата закрытия'].fillna('01-01-1970 ', inplace=True)\n",
    "work_types['Дата создания во внешней системе'] = (work_types['Дата создания во внешней системе']\n",
    "                             .apply(\n",
    "    lambda x: x.split(' ')[0].replace('-', '.'))\n",
    ")\n",
    "work_types['Дата закрытия'] = (work_types['Дата закрытия']\n",
    "                             .apply(\n",
    "    lambda x: x.split(' ')[0].replace('-', '.'))\n",
    ")\n",
    "work_types.rename({\n",
    "    'Наименование':'WORK_NAME',\n",
    "    'Дата создания во внешней системе':'CREATE_DATE',\n",
    "    'Дата закрытия':'CLOSE_DATE',\n",
    "    'Источник':'SOURCE',\n",
    "    'unom':'UNOM',\n",
    "}, axis=1, inplace=True)\n",
    "work_types = work_types[['WORK_NAME', 'CREATE_DATE', 'CLOSE_DATE', 'SOURCE', 'UNOM']]\n",
    "\n",
    "\n",
    "work_types"
   ],
   "metadata": {
    "collapsed": false,
    "ExecuteTime": {
     "end_time": "2024-03-31T12:39:05.695757Z",
     "start_time": "2024-03-31T12:39:04.824659Z"
    }
   },
   "id": "9350e80df19b4aa8",
   "execution_count": 12
  },
  {
   "cell_type": "code",
   "outputs": [],
   "source": [
    "# окрываем файл с инцидентами, действем по аналогии с предыдушим, чистим и приводим к единому виду\n",
    "work_types3 = pd.read_excel('3.xlsx')\n",
    "work_types3['SOURCE'] = 'DST'\n",
    "\n",
    "work_types3.rename({\n",
    "    'FACT_DATE_START':'CREATE_DATE',\n",
    "    'FACT_DATE_END':'CLOSE_DATE',\n",
    "}, axis=1, inplace=True)\n",
    "work_types3 = work_types3[['WORK_NAME', 'CREATE_DATE', 'CLOSE_DATE', 'SOURCE', 'UNOM']]"
   ],
   "metadata": {
    "collapsed": false,
    "ExecuteTime": {
     "end_time": "2024-03-31T12:39:05.857716Z",
     "start_time": "2024-03-31T12:39:05.709312Z"
    }
   },
   "id": "c4e9daccc50a9bd0",
   "execution_count": 13
  },
  {
   "cell_type": "code",
   "outputs": [
    {
     "data": {
      "text/plain": "                                              WORK_NAME CREATE_DATE   \n0                         замена лифтового оборудования  2022.06.27  \\\n1                         замена лифтового оборудования  2022.09.30   \n2     ремонт внутридомовых инженерных систем водоотв...  2022.02.01   \n3     ремонт внутридомовых инженерных систем теплосн...  2022.05.07   \n4     ремонт внутридомовых инженерных систем холодно...  2022.02.01   \n...                                                 ...         ...   \n1742  ремонт внутридомовых инженерных систем теплосн...  2022.03.07   \n1743  ремонт подвальных помещений, относящихся к общ...  2022.02.04   \n1744  ремонт внутридомовых инженерных систем водоотв...  2022.02.04   \n1745                       ремонт внутреннего водостока  2022.10.10   \n1746                       ремонт внутреннего водостока  2022.10.10   \n\n      CLOSE_DATE SOURCE   UNOM  \n0     2022.10.14    DST  20151  \n1     2022.10.21    DST  20151  \n2     2022.05.25    DST  11466  \n3     2022.08.03    DST  11466  \n4     2022.06.27    DST  11466  \n...          ...    ...    ...  \n1742  2022.08.11    DST   9177  \n1743  2022.06.17    DST   9177  \n1744  2022.08.04    DST   9177  \n1745  2022.11.30    DST  12178  \n1746  2022.11.30    DST  12174  \n\n[1747 rows x 5 columns]",
      "text/html": "<div>\n<style scoped>\n    .dataframe tbody tr th:only-of-type {\n        vertical-align: middle;\n    }\n\n    .dataframe tbody tr th {\n        vertical-align: top;\n    }\n\n    .dataframe thead th {\n        text-align: right;\n    }\n</style>\n<table border=\"1\" class=\"dataframe\">\n  <thead>\n    <tr style=\"text-align: right;\">\n      <th></th>\n      <th>WORK_NAME</th>\n      <th>CREATE_DATE</th>\n      <th>CLOSE_DATE</th>\n      <th>SOURCE</th>\n      <th>UNOM</th>\n    </tr>\n  </thead>\n  <tbody>\n    <tr>\n      <th>0</th>\n      <td>замена лифтового оборудования</td>\n      <td>2022.06.27</td>\n      <td>2022.10.14</td>\n      <td>DST</td>\n      <td>20151</td>\n    </tr>\n    <tr>\n      <th>1</th>\n      <td>замена лифтового оборудования</td>\n      <td>2022.09.30</td>\n      <td>2022.10.21</td>\n      <td>DST</td>\n      <td>20151</td>\n    </tr>\n    <tr>\n      <th>2</th>\n      <td>ремонт внутридомовых инженерных систем водоотв...</td>\n      <td>2022.02.01</td>\n      <td>2022.05.25</td>\n      <td>DST</td>\n      <td>11466</td>\n    </tr>\n    <tr>\n      <th>3</th>\n      <td>ремонт внутридомовых инженерных систем теплосн...</td>\n      <td>2022.05.07</td>\n      <td>2022.08.03</td>\n      <td>DST</td>\n      <td>11466</td>\n    </tr>\n    <tr>\n      <th>4</th>\n      <td>ремонт внутридомовых инженерных систем холодно...</td>\n      <td>2022.02.01</td>\n      <td>2022.06.27</td>\n      <td>DST</td>\n      <td>11466</td>\n    </tr>\n    <tr>\n      <th>...</th>\n      <td>...</td>\n      <td>...</td>\n      <td>...</td>\n      <td>...</td>\n      <td>...</td>\n    </tr>\n    <tr>\n      <th>1742</th>\n      <td>ремонт внутридомовых инженерных систем теплосн...</td>\n      <td>2022.03.07</td>\n      <td>2022.08.11</td>\n      <td>DST</td>\n      <td>9177</td>\n    </tr>\n    <tr>\n      <th>1743</th>\n      <td>ремонт подвальных помещений, относящихся к общ...</td>\n      <td>2022.02.04</td>\n      <td>2022.06.17</td>\n      <td>DST</td>\n      <td>9177</td>\n    </tr>\n    <tr>\n      <th>1744</th>\n      <td>ремонт внутридомовых инженерных систем водоотв...</td>\n      <td>2022.02.04</td>\n      <td>2022.08.04</td>\n      <td>DST</td>\n      <td>9177</td>\n    </tr>\n    <tr>\n      <th>1745</th>\n      <td>ремонт внутреннего водостока</td>\n      <td>2022.10.10</td>\n      <td>2022.11.30</td>\n      <td>DST</td>\n      <td>12178</td>\n    </tr>\n    <tr>\n      <th>1746</th>\n      <td>ремонт внутреннего водостока</td>\n      <td>2022.10.10</td>\n      <td>2022.11.30</td>\n      <td>DST</td>\n      <td>12174</td>\n    </tr>\n  </tbody>\n</table>\n<p>1747 rows × 5 columns</p>\n</div>"
     },
     "execution_count": 14,
     "metadata": {},
     "output_type": "execute_result"
    }
   ],
   "source": [
    "# приводим даты к общему виду из файла3 к файлу2 (именно в этот файл т.к. он меньше)\n",
    "def reverse_date(x):\n",
    "    date = x.split('.')\n",
    "    return date[2] + '.' + date[1] + '.' + date[0]\n",
    "\n",
    "work_types3['CREATE_DATE'] = (work_types3['CREATE_DATE']\n",
    "                             .apply(\n",
    "    lambda x: reverse_date(x))\n",
    ")\n",
    "work_types3['CLOSE_DATE'] = (work_types3['CLOSE_DATE']\n",
    "                             .apply(\n",
    "    lambda x: reverse_date(x))\n",
    ")\n",
    "work_types3"
   ],
   "metadata": {
    "collapsed": false,
    "ExecuteTime": {
     "end_time": "2024-03-31T12:39:05.865406Z",
     "start_time": "2024-03-31T12:39:05.858558Z"
    }
   },
   "id": "cdd677dbd3dcd5aa",
   "execution_count": 14
  },
  {
   "cell_type": "code",
   "outputs": [
    {
     "data": {
      "text/plain": "                                              WORK_NAME CREATE_DATE   \n0                                        Открыт колодец  2022.08.30  \\\n1          Отклонение ГВС ниже нормы ночью (мониторинг)  2022.02.20   \n2           Отклонение ГВС ниже нормы днем (мониторинг)  2022.03.07   \n3                            Температура ГВС ниже нормы  2022.03.05   \n4                            Температура ГВС ниже нормы  2022.02.18   \n...                                                 ...         ...   \n1742  ремонт внутридомовых инженерных систем теплосн...  2022.03.07   \n1743  ремонт подвальных помещений, относящихся к общ...  2022.02.04   \n1744  ремонт внутридомовых инженерных систем водоотв...  2022.02.04   \n1745                       ремонт внутреннего водостока  2022.10.10   \n1746                       ремонт внутреннего водостока  2022.10.10   \n\n      CLOSE_DATE SOURCE     UNOM  \n0     2022.08.30    MVK  2115191  \n1     2022.04.04  ASUPR  2404461  \n2     2022.03.09  ASUPR  2404461  \n3     2022.03.05  ASUPR  2404461  \n4     2022.02.18  ASUPR  2404461  \n...          ...    ...      ...  \n1742  2022.08.11    DST     9177  \n1743  2022.06.17    DST     9177  \n1744  2022.08.04    DST     9177  \n1745  2022.11.30    DST    12178  \n1746  2022.11.30    DST    12174  \n\n[1055628 rows x 5 columns]",
      "text/html": "<div>\n<style scoped>\n    .dataframe tbody tr th:only-of-type {\n        vertical-align: middle;\n    }\n\n    .dataframe tbody tr th {\n        vertical-align: top;\n    }\n\n    .dataframe thead th {\n        text-align: right;\n    }\n</style>\n<table border=\"1\" class=\"dataframe\">\n  <thead>\n    <tr style=\"text-align: right;\">\n      <th></th>\n      <th>WORK_NAME</th>\n      <th>CREATE_DATE</th>\n      <th>CLOSE_DATE</th>\n      <th>SOURCE</th>\n      <th>UNOM</th>\n    </tr>\n  </thead>\n  <tbody>\n    <tr>\n      <th>0</th>\n      <td>Открыт колодец</td>\n      <td>2022.08.30</td>\n      <td>2022.08.30</td>\n      <td>MVK</td>\n      <td>2115191</td>\n    </tr>\n    <tr>\n      <th>1</th>\n      <td>Отклонение ГВС ниже нормы ночью (мониторинг)</td>\n      <td>2022.02.20</td>\n      <td>2022.04.04</td>\n      <td>ASUPR</td>\n      <td>2404461</td>\n    </tr>\n    <tr>\n      <th>2</th>\n      <td>Отклонение ГВС ниже нормы днем (мониторинг)</td>\n      <td>2022.03.07</td>\n      <td>2022.03.09</td>\n      <td>ASUPR</td>\n      <td>2404461</td>\n    </tr>\n    <tr>\n      <th>3</th>\n      <td>Температура ГВС ниже нормы</td>\n      <td>2022.03.05</td>\n      <td>2022.03.05</td>\n      <td>ASUPR</td>\n      <td>2404461</td>\n    </tr>\n    <tr>\n      <th>4</th>\n      <td>Температура ГВС ниже нормы</td>\n      <td>2022.02.18</td>\n      <td>2022.02.18</td>\n      <td>ASUPR</td>\n      <td>2404461</td>\n    </tr>\n    <tr>\n      <th>...</th>\n      <td>...</td>\n      <td>...</td>\n      <td>...</td>\n      <td>...</td>\n      <td>...</td>\n    </tr>\n    <tr>\n      <th>1742</th>\n      <td>ремонт внутридомовых инженерных систем теплосн...</td>\n      <td>2022.03.07</td>\n      <td>2022.08.11</td>\n      <td>DST</td>\n      <td>9177</td>\n    </tr>\n    <tr>\n      <th>1743</th>\n      <td>ремонт подвальных помещений, относящихся к общ...</td>\n      <td>2022.02.04</td>\n      <td>2022.06.17</td>\n      <td>DST</td>\n      <td>9177</td>\n    </tr>\n    <tr>\n      <th>1744</th>\n      <td>ремонт внутридомовых инженерных систем водоотв...</td>\n      <td>2022.02.04</td>\n      <td>2022.08.04</td>\n      <td>DST</td>\n      <td>9177</td>\n    </tr>\n    <tr>\n      <th>1745</th>\n      <td>ремонт внутреннего водостока</td>\n      <td>2022.10.10</td>\n      <td>2022.11.30</td>\n      <td>DST</td>\n      <td>12178</td>\n    </tr>\n    <tr>\n      <th>1746</th>\n      <td>ремонт внутреннего водостока</td>\n      <td>2022.10.10</td>\n      <td>2022.11.30</td>\n      <td>DST</td>\n      <td>12174</td>\n    </tr>\n  </tbody>\n</table>\n<p>1055628 rows × 5 columns</p>\n</div>"
     },
     "execution_count": 15,
     "metadata": {},
     "output_type": "execute_result"
    }
   ],
   "source": [
    "# объединяем все инциденты\n",
    "work_types = pd.concat([work_types, work_types3])\n",
    "work_types"
   ],
   "metadata": {
    "collapsed": false,
    "ExecuteTime": {
     "end_time": "2024-03-31T12:39:05.902277Z",
     "start_time": "2024-03-31T12:39:05.866193Z"
    }
   },
   "id": "85930ab1f12dcd86",
   "execution_count": 15
  },
  {
   "cell_type": "code",
   "outputs": [
    {
     "data": {
      "text/plain": "array(['открыт колодец', 'отклонение гвс ниже нормы ночью (мониторинг)',\n       'отклонение гвс ниже нормы днем (мониторинг)',\n       'температура гвс ниже нормы', 'отсутствует циркуляция гвс',\n       't1 > max', 'изменение конфигурации успд',\n       'расхождение времени пу',\n       'критичное отклонение температуры гвс ниже нормы днем (мониторинг)',\n       'низкий уровень сигнала gsm', 'нет связи с пу',\n       'отсутствуют актуальные суточные значения',\n       'отсутствуют актуальные мгновенные значения',\n       'критичное отклонение температуры гвс ниже нормы ночью (мониторинг)',\n       'нет питания успд', 'открыт шкаф успд', 'нет связи с успд',\n       'угроза взрыва',\n       'отсутствие освещения в местах общего пользования',\n       'загрязнение/замусоренность подъезда',\n       'повреждение системы электропроводки/щитового оборудования',\n       'повреждение отделочных покрытий пола/стены/ступеней/перил/других элементов',\n       'загрязнение воды', 'повреждение элементов входной двери',\n       'повреждение элементов фасада', 'отсутствие хвс в доме',\n       'загрязнение лифта', 'неочищенная кровля', 'засор мусоропровода',\n       'неисправность запирающего устройства',\n       'отсутствие освещения в лифте',\n       'неудовлетворительное техническое содержание мусоропровода',\n       'лифт требует ремонта', 'колодцы, хлопает крышка',\n       'отсутствие гвс в доме', 'аномальное значение разницы температур',\n       'засоры, засор на дворовой сети', 't1 < min',\n       'температура в квартире ниже нормативной', 'недогрев гвс',\n       'поломка освещения перед подъездом', 'колодцы, люк занижен',\n       'поломка лифта', 'повреждение межпанельных швов',\n       'наличие крыс/мышей/насекомых в местах общего пользования',\n       'аварийное повреждение лестницы', 'засор канализации',\n       'повреждение внутренней двери', 'отсутствие связи',\n       'датчик вибрации', 'протечка труб в подъезде',\n       'повреждение кровли', 'провал',\n       'колодцы, разрушен асфальт вокруг колодца',\n       'повреждение козырька подъезда', 'утечка воды из земли, прочее',\n       'запах газа в доме', 'сильная течь в системе отопления',\n       'поломка почтовых ящиков', 'запах газа на улице',\n       'подтопление строений', 'утечка воды, прочее',\n       'загрязнение/замусоренность козырька',\n       'повреждение инженерных сетей',\n       'разбито/сломано/повреждено окно в местах общего пользования',\n       'запах газа в кухне',\n       'подтопление, течь трубопровода на водомерном узле',\n       'протечка в подъезде', 'несовпадение серийного номера пу на успд',\n       'качество воды - вода с осадком',\n       'подтопление, повреждение водопровода во внутриквартальном коллекторе',\n       'застревание в лифте', 'открыт колодец на газоне', 'пожар',\n       'колодцы, прочее', 'протечка с кровли',\n       'аварийная протечка в подъезде', 'аварийная протечка с кровли',\n       'загрязнение окна в местах общего пользования',\n       'загрязнение отделочных покрытий',\n       'неудовлетворительное санитарное содержание мусоропровода',\n       'запах газа от колонки',\n       'утечка воды, течет водопроводная колонка или подводка',\n       'отсутствие отопления в доме',\n       'температура в помещении общего пользования ниже нормативной',\n       'задымление', 'отрицательные интегральные значения',\n       'аномальное значение времени наработки',\n       'повреждение пола/стены/ступеней/перил/других элементов',\n       'блокировка входной двери', 'нарушение на настенном газопроводе',\n       'течь в системе отопления', 'запах газа из закрытой квартиры',\n       'провал на проезжей части', 'запах газа в квартире (помещении)',\n       'прорыв теплосети (водопровода)', 'утечка воды из колодца, прочее',\n       'запах газа в подъезде', 'протечка с балкона/козырька',\n       'пожар; задымление', 'неисправность пожарной сигнализации',\n       'неработоспособность подъемной платформы для инвалидов',\n       'нарушение в работе газового оборудования',\n       'недокомплект пожарного шкафа', 'поломка пандуса',\n       'наличие грибка/плесени', 'проверить настенный газопровод',\n       'подтопление, вода поступает в котлован строителей',\n       'повреждение/поломка светильника', 'подтопление канала теплосети',\n       'утечка воды из-под асфальта, прочее', 'изменение канала связи',\n       'нарушение подачи воды, нет воды в здании', 'хлопок газа',\n       'аномальное значение объема в обратном трубопроводе',\n       'загрязнение/замусоренность территории',\n       'аномальное значение температуры в подающем трубопроводе',\n       'аномальное значение температуры в обратном трубопроводе',\n       'аномальное значение объема в подающем трубопроводе',\n       'аномальное значение отпущенной тепловой энергии',\n       'аномальное значение массы в подающем трубопроводе',\n       'слабое горение', 'наличие надписей/объявлений',\n       'утечка воды из колодца, поступает на проезжую часть',\n       'запах газа в квартире', 'загрязнение входной двери',\n       'качество воды - вода с запахом', 'колодцы, люк завышен',\n       'подтопление, поступает вода в камеру теплосети',\n       'нарушение подачи воды, не работает водопроводная колонка',\n       'обрушение', 'загрязнение/замусоренность подвала/полуподвала',\n       'запах газа от газового оборудования',\n       'запах гари в квартире/подъезде', 'загрязнение внутренней двери',\n       'засор на городской сети', 'запах в подъезде',\n       'течет вода из колонки.', 'подтопление, прочее', 'нет газа',\n       'запах газа в холле', 'задымление в подъезде',\n       'качество воды - ржавая вода',\n       'нарушение подачи воды, слабое давление',\n       'подтопление приямка цтп', 'запах газа в подъезде и на улице',\n       'описание отсутствует', 'запах газа по вентиляции',\n       'колодцы, провал колодца', 'колодцы, нет люка и крышки',\n       'колодцы, люк расколот', 'нарушение подачи воды, прочее',\n       'восстановление трубопровода, пневмопробойник',\n       'открыта крышка колодца', 'провал на месте старой раскопки',\n       'колодцы, люк сдвинут', nan,\n       'запах газа на улице; запах газа в доме', 'не  работает  агв',\n       'взрыв', 'засоры, запах', 'засоры, прочее',\n       'колодцы на проезжей части, хлопает крышка',\n       'утечка воды из земли, поступает на проезжую часть',\n       'открыт колодец на проезжей части', 'запах газа в кухне от стояка',\n       'запах газа с улицы в квартиру', 'качество воды - окрашенная вода',\n       'повреждение асфальтобетонного покрытия', 'p1 <= 0',\n       'нет газа в кваптире', 'колодцы, люк на боку',\n       'отсутствует крышка люка',\n       'утечка воды из колодца, поступает в канализацию/водосток',\n       'провалы, прочее', 'загазованность крана № г2 40162 2,6%',\n       'провал на газоне', 'гул (шум, вибрация) от газопровода',\n       'запах газа от колодца; открыт колодец',\n       'подтопление, течь задвижки на водомерном узле',\n       'погас вечный огонь', 'колодцы на проезжей части, провал колодца',\n       'утечка воды, течет спец. вывод', 'вибрирует газовая труба',\n       'аномальное значение разницы объемов',\n       'утечка воды из-под асфальта, поступает на проезжую часть',\n       'запах газа в квартире (помещении); запах газа в доме',\n       'занижен  газ/ковер', 'просел ковер', 'p2 <= 0',\n       'запах газа в квартире с улицы', 'проверить работу эхз',\n       'проверить квартиру после пожара',\n       'гул (шум) на объекте ао мосгаз', 'провал ковера',\n       'запах газа в кухне; запах газа от газового оборудования',\n       'провал колодца', 'запах газа от стояка', 'занижен ковер',\n       'запах газа от колодца',\n       'запах газа от газового оборудования; запах газа в доме',\n       'запах газа от настенного газопровода', 'запах газа в ванной',\n       'иные нарушения', 'запах газа в кухне; запах газа в доме',\n       'нет  газа', 'качество воды - мутная вода',\n       'загрязнение почтовых ящиков',\n       'нарушение подачи воды, нет воды в цтп', 'качество воды, прочее',\n       'провал асфальтобетонного покрытия',\n       'запах газа на улице, в подъезде', 'угроза обрушения',\n       'колодцы на проезжей части, разрушен асфальт вокруг колодца',\n       'запах газа в кухне и в холле', 'отсутствует крышка колодца',\n       'пожар; обрушение', 'хлопает крышка ковера', 'перекрытие полос',\n       'нарушение на настенном газопроводе; запах газа в квартире (помещении)',\n       'запах газа из подвала', 'открыт колодец; провал', 'взрыв; пожар',\n       'установить дежурство на грп № вешняки кв. 76',\n       'запах газа в частном доме',\n       'колодцы на проезжей части, люк занижен',\n       'восстановление трубопровода, работа по графику',\n       'прорыв теплосети (водопровода); открыт колодец',\n       'проверить подпор, отключить грп № вешняки, кв.79.',\n       'запах газа в помещении', 'нарушение в работе аогв',\n       'провал грунта вокруг ковера',\n       'подтопление, вода поступает в городской коллектор (извне)',\n       'колодцы на проезжей части, люк завышен',\n       'подтопление сооружений метрополитена', 'запах газа в туалете',\n       'открата крышка ковера',\n       'запах газа в кухне; запах газа в квартире (помещении)',\n       'нарушение подачи воды, нет воды на верхних этажах',\n       'гремят крышки коверов', 'гремит крышка ковера',\n       'повреждение подъемной платформы для инвалидов',\n       'повреждение плиточного/брусчатого покрытия', 'нет газа по стояку',\n       'занижен ковер м/г', 'аварийная протечка труб в подъезде',\n       'пожар; запах газа в квартире (помещении)',\n       'нарушение в работе газового оборудования; запах газа в кухне',\n       'нарушение в работе газового оборудования; нет газа',\n       'запах газа у агв', 'завышено давление газа',\n       'пожар; запах газа в доме', 'запах газа от шбдг',\n       'запах  газа  на  улице и в подъезде',\n       'запах газа на улице и в квартире',\n       'поврежден настенный газопровод', 'подтопление телефонной сети',\n       'запах газа в подъезде и квартире',\n       'запах газа на улице и в подъезде', 'гремит  крышка ковера',\n       'открыта крышка колодца (трещит крышка ковера)',\n       'стучит крышка ковера',\n       'запах газа в квартире (помещении); запах газа на улице; запах газа в доме',\n       'прорыв теплосети (водопровода); задымление',\n       'запах газа в подъезде и в квартире.',\n       'провал плиточного/брусчатого покрытия',\n       'отсутствует крышка ковера',\n       'нарушение на настенном газопроводе; гул (шум, вибрация) от газопровода',\n       'взрыв; пожар; задымление',\n       'гул (шум) на объекте ао мосгаз; запах газа на улице',\n       'нарушение на настенном газопроводе; запах газа в кухне',\n       'запах газа в коллекторе',\n       'запах газа в квартире (помещении); запах газа от газового оборудования',\n       'колодцы на проезжей части, прочее',\n       'восстановление трубопровода, санация',\n       'восстановление трубопровода, прочее', 'не работает колонка.',\n       'запах газа в котельной', 'угроза взрыва; запах газа в доме',\n       'пожар; запах газа в кухне', 'запах газа в подъезде и в квартире',\n       'просадка асфальта( колодец)', 'занижен колодец',\n       'запах газа в холле и квартире',\n       'запах газа в частном доме; запах газа от газового оборудования',\n       'нет газа в квартире', 'открыт колодец мг', 'провал грунта',\n       'восстановление трубопровода, просадка грунта на трассе трубопровода',\n       'провис настенный газопровод', 'просадка асфальта вокруг колодца',\n       'утечка воды из-под асфальта, поступает в канализацию/водосток',\n       'колодцы на проезжей части, открыт колодец', 'провал, промоина',\n       'хлопок газа; нарушение в работе газового оборудования',\n       'не работает агв', 'запах газа в доме от агв',\n       'нарушение в работе газового оборудования; слабое горение',\n       'проверить работу грп',\n       'утечка воды из земли, поступает в канализацию/водосток',\n       'нет  газа в квартире',\n       'подтопление, повреждение водопровода в городском коллекторе',\n       'разрушение асвальта вокруг колодца', 'засоры, помощь водостоку',\n       'замена лифтового оборудования',\n       'ремонт внутридомовых инженерных систем водоотведения (канализации) (выпуски и сборные трубопроводы)',\n       'ремонт внутридомовых инженерных систем теплоснабжения (разводящие магистрали)',\n       'ремонт внутридомовых инженерных систем холодного водоснабжения (разводящие магистрали)',\n       'ремонт внутридомовых инженерных систем горячего водоснабжения (разводящие магистрали)',\n       'ремонт подвальных помещений, относящихся к общему имуществу в многоквартирном доме',\n       'ремонт внутридомовых инженерных систем газоснабжения',\n       'ремонт подъездов, направленный на восстановление их надлежащего состояния и проводимый при выполнении иных работ по капитальному ремонту общего имущества в многоквартирном доме',\n       'ремонт фасадов', 'ремонт крыши',\n       'ремонт внутридомовых инженерных систем электроснабжения',\n       'ремонт мусоропровода',\n       'замена оконных блоков, расположенных в помещениях общего пользования',\n       'ремонт внутридомовых инженерных систем горячего водоснабжения (стояки)',\n       'ремонт пожарного водопровода',\n       'ремонт внутридомовых инженерных систем теплоснабжения (стояки)',\n       'ремонт внутридомовых инженерных систем холодного водоснабжения (стояки)',\n       'ремонт внутреннего водостока',\n       'ремонт внутридомовых инженерных систем водоотведения (канализации) (стояки)'],\n      dtype=object)"
     },
     "execution_count": 16,
     "metadata": {},
     "output_type": "execute_result"
    }
   ],
   "source": [
    "# приводим все описания инцидентов в lowercase и смотрим какие уникальные\n",
    "work_types['WORK_NAME'] = work_types['WORK_NAME'].str.lower()\n",
    "work_types['WORK_NAME'].unique()"
   ],
   "metadata": {
    "collapsed": false,
    "ExecuteTime": {
     "end_time": "2024-03-31T12:39:06.215749Z",
     "start_time": "2024-03-31T12:39:05.903293Z"
    }
   },
   "id": "3931c159d277fc62",
   "execution_count": 16
  },
  {
   "cell_type": "code",
   "outputs": [
    {
     "name": "stdout",
     "output_type": "stream",
     "text": [
      "16\n"
     ]
    }
   ],
   "source": [
    "# определяем словарь и расбиваем признаки на категории в идеале использовать нужно nltk \n",
    "alpabet = {\n",
    "'СК': ['строительный', 'контроль', 'ск'],\n",
    "'Подъезд': ['подъездов,', 'подъезд', 'инвалид', 'инвалид', 'полос', 'почтовый', 'почтовых',\n",
    "            'входной двери', 'входная дверь', 'панельных швов', 'панельные швы', 'отделочных', 'отделка',\n",
    "            'пандус', 'светильник'],\n",
    "'Окна': ['оконных', 'окна', 'окно'],\n",
    "'Проведение экспертизы': ['проведение', 'экспертизы', 'проектной', 'документации', 'проведение экспертизы'],\n",
    "'ПСД': ['проектная', 'проектной', 'документации', 'документация', 'псд'],\n",
    "'ЦО-М': ['теплоснабжения', 'цо-м', 'теплоснабжение', 'тепло', 'отопление', 'отопления'],\n",
    "'КАН-М': ['водоотведения','водоотведение', 'канализации', 'канализация', 'трубопроводы', 'кан-м',  \n",
    "          'воды', 'вода', 'трубопровод', 'колодца', 'подтопление', 'подтопления'],\n",
    "'ГВС-М': ['горячего', 'горячее', 'водоснабжения', 'водоснабжение', 'гвс-м'],\n",
    "'ХВС-М': ['холодного', 'холодное', 'водоснабжения', 'водоснабжение', 'хвс-м'],\n",
    "'Мусоропровод': ['мусоропровода', 'мусоропровод', 'мусор'],\n",
    "'ПВ': ['пожарного', 'пожарный', 'водопровода', 'водопровод', 'пв'],\n",
    "'ППАиДУ': ['дым', 'внутридомовой', 'системы', 'дымоудаления', 'противопожарной', 'автоматики', 'ппаиду',\n",
    "           'пожарной'],\n",
    "'ЭС': ['электроснабжения', 'проводка', 'проводка', 'эс', 'электро', 'электропроводка', 'электропроводки'],\n",
    "'ГАЗ': ['газоснабжения', 'газоснабжение', 'газ', 'ковера', 'ковер'],\n",
    "'Подвал': ['подвальных', 'подвальный', 'подвал'],\n",
    "'ЦО': [ 'теплоснабжения','тепло', 'стояки', 'цо'],\n",
    "'КАН': [ 'водоотведения', 'водоотведение', 'канализации', 'канализация', 'кан', 'колодцы', 'колодец', 'засоры', 'засор'],\n",
    "'ГВС': [ 'горячего', 'горячее', 'горячий', 'водоснабжения', 'водоснабжениие', 'гвс'],\n",
    "'Фундамент': [ 'фундамента', 'фундамент'],\n",
    "'ХВС': [ 'холодного', 'водоснабжения', 'водоснабжение', 'хвс'],\n",
    "'Крыша': [ 'крыши', 'крыша', 'кровля', 'кровли'],\n",
    "'ВДСК': [ 'водостока','водосток', 'вдск'],\n",
    "'Балкон': [ 'балконов', 'балкон', 'балконы'],\n",
    "'Фасад': [ 'фасада', 'фасад', 'фасадов', 'фасады'],\n",
    "'Разработка и проведение экспертизы ПД, в том числе АН за проведением работ по сохранению ОКН, выявленных ОКН, научное руководство проведением указанных работ в случае проведения работ по КР ОИ в МКД  г. Москвы, являющихся ОКН, выявленными ОКН.':\n",
    " ['разработка', 'проведение', 'экспертизы', 'числе', 'проведением', 'работ', 'сохранению', 'окн,', 'выявленных', 'окн,', 'научное', 'руководство', 'проведением', 'указанных', 'работ', 'случае', 'проведения', 'работ', 'москвы,', 'являющихся', 'окн,', 'выявленными', 'окн.', 'разработка и проведение экспертизы пд, в том числе ан за проведением работ по сохранению окн, выявленных окн, научное руководство проведением указанных работ в случае проведения работ по кр ои в мкд  г. москвы, являющихся окн, выявленными окн.'],\n",
    "'Авторский надзор': ['авторский', 'надзор', 'авторский надзор'],\n",
    "'ПСД лифты': ['разработка', 'проектной', 'документации', 'лифтам', 'псд лифты'],\n",
    "'Лифт': ['лифтового', 'оборудования', 'лифт', 'лифты'],\n",
    "'Телемеханика':['нет связи с пу', 'отсутствуют ',\n",
    " 'актуальные', 'значения', 'dsa',\n",
    " 'успд', 'угроза', 'взрыв', 'устройства', 'устройство', 'аномальное', 'значение',\n",
    " 'связь', 'связи', 'вибрации', 'датчик', 'интегральные', 't1', 'p1', 'p2', 'расхождение', 'расхождения', 'gsm'],\n",
    "'Освещение': ['освещения', 'освещение']}\n",
    "print(list(alpabet.keys()).index(\"КАН\"))"
   ],
   "metadata": {
    "collapsed": false,
    "ExecuteTime": {
     "end_time": "2024-03-31T12:39:06.224563Z",
     "start_time": "2024-03-31T12:39:06.216824Z"
    }
   },
   "id": "92d0655da735a3b0",
   "execution_count": 17
  },
  {
   "cell_type": "code",
   "outputs": [],
   "source": [
    "# types_workin = pd.read_excel('4.xlsx')[1:]\n",
    "# матчим инцидент с конкретным видом работ из категории выше (чисто тест)\n",
    "def check_in_type(x, alpabet):\n",
    "    alpabet.keys()\n",
    "    scores = {}\n",
    "    for k, v in alpabet.items():\n",
    "        for tp in v:\n",
    "            if not isinstance(x, str) or x == '':\n",
    "                scores['Другое'] = scores['Другое'] + 1 if scores.get('Другое') else 1\n",
    "                continue\n",
    "            if tp in x:\n",
    "                if scores.get(k):\n",
    "                    scores[k] += 1\n",
    "                else:\n",
    "                    scores[k] = 1\n",
    "    # print('Очки', scores)\n",
    "    if scores:\n",
    "        # return max(scores, key=scores.get)\n",
    "        res = max(scores, key=scores.get)\n",
    "        if res == 'Другое':\n",
    "            return 30\n",
    "        return list(alpabet.keys()).index(res)\n",
    "    else:\n",
    "        return -1\n",
    "        # return 30\n",
    "\n",
    "        \n",
    "# print(check_in_type(\"\", alpabet))\n",
    "work_types['WORK_CLASS'] = (work_types['WORK_NAME']\n",
    "                            .apply(lambda x: check_in_type(x, alpabet)))\n",
    "# work_types[['WORK_CLASS', 'WORK_NAME']]\n"
   ],
   "metadata": {
    "collapsed": false,
    "ExecuteTime": {
     "end_time": "2024-03-31T12:39:21.805729Z",
     "start_time": "2024-03-31T12:39:06.225332Z"
    }
   },
   "id": "734e4711b034b032",
   "execution_count": 18
  },
  {
   "cell_type": "code",
   "outputs": [],
   "source": [],
   "metadata": {
    "collapsed": false,
    "ExecuteTime": {
     "end_time": "2024-03-31T12:39:21.808390Z",
     "start_time": "2024-03-31T12:39:21.806595Z"
    }
   },
   "id": "8e9c7d391c666d1",
   "execution_count": 18
  },
  {
   "cell_type": "code",
   "outputs": [
    {
     "data": {
      "text/plain": "                                              WORK_NAME CREATE_DATE   \n0                                        открыт колодец  2022.08.30  \\\n1          отклонение гвс ниже нормы ночью (мониторинг)  2022.02.20   \n2           отклонение гвс ниже нормы днем (мониторинг)  2022.03.07   \n3                            температура гвс ниже нормы  2022.03.05   \n4                            температура гвс ниже нормы  2022.02.18   \n...                                                 ...         ...   \n1742  ремонт внутридомовых инженерных систем теплосн...  2022.03.07   \n1743  ремонт подвальных помещений, относящихся к общ...  2022.02.04   \n1744  ремонт внутридомовых инженерных систем водоотв...  2022.02.04   \n1745                       ремонт внутреннего водостока  2022.10.10   \n1746                       ремонт внутреннего водостока  2022.10.10   \n\n      CLOSE_DATE SOURCE     UNOM  WORK_CLASS  \n0     2022.08.30    MVK  2115191          15  \n1     2022.04.04  ASUPR  2404461          16  \n2     2022.03.09  ASUPR  2404461          16  \n3     2022.03.05  ASUPR  2404461          16  \n4     2022.02.18  ASUPR  2404461          16  \n...          ...    ...      ...         ...  \n1742  2022.08.11    DST     9177           4  \n1743  2022.06.17    DST     9177          13  \n1744  2022.08.04    DST     9177           5  \n1745  2022.11.30    DST    12178          19  \n1746  2022.11.30    DST    12174          19  \n\n[1055628 rows x 6 columns]",
      "text/html": "<div>\n<style scoped>\n    .dataframe tbody tr th:only-of-type {\n        vertical-align: middle;\n    }\n\n    .dataframe tbody tr th {\n        vertical-align: top;\n    }\n\n    .dataframe thead th {\n        text-align: right;\n    }\n</style>\n<table border=\"1\" class=\"dataframe\">\n  <thead>\n    <tr style=\"text-align: right;\">\n      <th></th>\n      <th>WORK_NAME</th>\n      <th>CREATE_DATE</th>\n      <th>CLOSE_DATE</th>\n      <th>SOURCE</th>\n      <th>UNOM</th>\n      <th>WORK_CLASS</th>\n    </tr>\n  </thead>\n  <tbody>\n    <tr>\n      <th>0</th>\n      <td>открыт колодец</td>\n      <td>2022.08.30</td>\n      <td>2022.08.30</td>\n      <td>MVK</td>\n      <td>2115191</td>\n      <td>15</td>\n    </tr>\n    <tr>\n      <th>1</th>\n      <td>отклонение гвс ниже нормы ночью (мониторинг)</td>\n      <td>2022.02.20</td>\n      <td>2022.04.04</td>\n      <td>ASUPR</td>\n      <td>2404461</td>\n      <td>16</td>\n    </tr>\n    <tr>\n      <th>2</th>\n      <td>отклонение гвс ниже нормы днем (мониторинг)</td>\n      <td>2022.03.07</td>\n      <td>2022.03.09</td>\n      <td>ASUPR</td>\n      <td>2404461</td>\n      <td>16</td>\n    </tr>\n    <tr>\n      <th>3</th>\n      <td>температура гвс ниже нормы</td>\n      <td>2022.03.05</td>\n      <td>2022.03.05</td>\n      <td>ASUPR</td>\n      <td>2404461</td>\n      <td>16</td>\n    </tr>\n    <tr>\n      <th>4</th>\n      <td>температура гвс ниже нормы</td>\n      <td>2022.02.18</td>\n      <td>2022.02.18</td>\n      <td>ASUPR</td>\n      <td>2404461</td>\n      <td>16</td>\n    </tr>\n    <tr>\n      <th>...</th>\n      <td>...</td>\n      <td>...</td>\n      <td>...</td>\n      <td>...</td>\n      <td>...</td>\n      <td>...</td>\n    </tr>\n    <tr>\n      <th>1742</th>\n      <td>ремонт внутридомовых инженерных систем теплосн...</td>\n      <td>2022.03.07</td>\n      <td>2022.08.11</td>\n      <td>DST</td>\n      <td>9177</td>\n      <td>4</td>\n    </tr>\n    <tr>\n      <th>1743</th>\n      <td>ремонт подвальных помещений, относящихся к общ...</td>\n      <td>2022.02.04</td>\n      <td>2022.06.17</td>\n      <td>DST</td>\n      <td>9177</td>\n      <td>13</td>\n    </tr>\n    <tr>\n      <th>1744</th>\n      <td>ремонт внутридомовых инженерных систем водоотв...</td>\n      <td>2022.02.04</td>\n      <td>2022.08.04</td>\n      <td>DST</td>\n      <td>9177</td>\n      <td>5</td>\n    </tr>\n    <tr>\n      <th>1745</th>\n      <td>ремонт внутреннего водостока</td>\n      <td>2022.10.10</td>\n      <td>2022.11.30</td>\n      <td>DST</td>\n      <td>12178</td>\n      <td>19</td>\n    </tr>\n    <tr>\n      <th>1746</th>\n      <td>ремонт внутреннего водостока</td>\n      <td>2022.10.10</td>\n      <td>2022.11.30</td>\n      <td>DST</td>\n      <td>12174</td>\n      <td>19</td>\n    </tr>\n  </tbody>\n</table>\n<p>1055628 rows × 6 columns</p>\n</div>"
     },
     "execution_count": 19,
     "metadata": {},
     "output_type": "execute_result"
    }
   ],
   "source": [
    "pd.DataFrame.iteritems = pd.DataFrame.items\n",
    "# преобразуем в числа\n",
    "work_types = MultiColumnLabelEncoder(columns=['WORK_CLASS']).fit_transform(work_types)\n",
    "work_types"
   ],
   "metadata": {
    "collapsed": false,
    "ExecuteTime": {
     "end_time": "2024-03-31T12:39:21.921824Z",
     "start_time": "2024-03-31T12:39:21.809255Z"
    }
   },
   "id": "270abdd22e614d9",
   "execution_count": 19
  },
  {
   "cell_type": "markdown",
   "source": [],
   "metadata": {
    "collapsed": false
   },
   "id": "36b581a217e36fed"
  },
  {
   "cell_type": "code",
   "outputs": [
    {
     "data": {
      "text/plain": "                                              WORK_NAME CREATE_DATE   \n0                                        открыт колодец  2022.08.30  \\\n1          отклонение гвс ниже нормы ночью (мониторинг)  2022.02.20   \n2           отклонение гвс ниже нормы днем (мониторинг)  2022.03.07   \n3                            температура гвс ниже нормы  2022.03.05   \n4                            температура гвс ниже нормы  2022.02.18   \n...                                                 ...         ...   \n1742  ремонт внутридомовых инженерных систем теплосн...  2022.03.07   \n1743  ремонт подвальных помещений, относящихся к общ...  2022.02.04   \n1744  ремонт внутридомовых инженерных систем водоотв...  2022.02.04   \n1745                       ремонт внутреннего водостока  2022.10.10   \n1746                       ремонт внутреннего водостока  2022.10.10   \n\n      CLOSE_DATE SOURCE     UNOM  WORK_CLASS  \n0     2022.08.30    MVK  2115191          15  \n1     2022.04.04  ASUPR  2404461          16  \n2     2022.03.09  ASUPR  2404461          16  \n3     2022.03.05  ASUPR  2404461          16  \n4     2022.02.18  ASUPR  2404461          16  \n...          ...    ...      ...         ...  \n1742  2022.08.11    DST     9177           4  \n1743  2022.06.17    DST     9177          13  \n1744  2022.08.04    DST     9177           5  \n1745  2022.11.30    DST    12178          19  \n1746  2022.11.30    DST    12174          19  \n\n[1055584 rows x 6 columns]",
      "text/html": "<div>\n<style scoped>\n    .dataframe tbody tr th:only-of-type {\n        vertical-align: middle;\n    }\n\n    .dataframe tbody tr th {\n        vertical-align: top;\n    }\n\n    .dataframe thead th {\n        text-align: right;\n    }\n</style>\n<table border=\"1\" class=\"dataframe\">\n  <thead>\n    <tr style=\"text-align: right;\">\n      <th></th>\n      <th>WORK_NAME</th>\n      <th>CREATE_DATE</th>\n      <th>CLOSE_DATE</th>\n      <th>SOURCE</th>\n      <th>UNOM</th>\n      <th>WORK_CLASS</th>\n    </tr>\n  </thead>\n  <tbody>\n    <tr>\n      <th>0</th>\n      <td>открыт колодец</td>\n      <td>2022.08.30</td>\n      <td>2022.08.30</td>\n      <td>MVK</td>\n      <td>2115191</td>\n      <td>15</td>\n    </tr>\n    <tr>\n      <th>1</th>\n      <td>отклонение гвс ниже нормы ночью (мониторинг)</td>\n      <td>2022.02.20</td>\n      <td>2022.04.04</td>\n      <td>ASUPR</td>\n      <td>2404461</td>\n      <td>16</td>\n    </tr>\n    <tr>\n      <th>2</th>\n      <td>отклонение гвс ниже нормы днем (мониторинг)</td>\n      <td>2022.03.07</td>\n      <td>2022.03.09</td>\n      <td>ASUPR</td>\n      <td>2404461</td>\n      <td>16</td>\n    </tr>\n    <tr>\n      <th>3</th>\n      <td>температура гвс ниже нормы</td>\n      <td>2022.03.05</td>\n      <td>2022.03.05</td>\n      <td>ASUPR</td>\n      <td>2404461</td>\n      <td>16</td>\n    </tr>\n    <tr>\n      <th>4</th>\n      <td>температура гвс ниже нормы</td>\n      <td>2022.02.18</td>\n      <td>2022.02.18</td>\n      <td>ASUPR</td>\n      <td>2404461</td>\n      <td>16</td>\n    </tr>\n    <tr>\n      <th>...</th>\n      <td>...</td>\n      <td>...</td>\n      <td>...</td>\n      <td>...</td>\n      <td>...</td>\n      <td>...</td>\n    </tr>\n    <tr>\n      <th>1742</th>\n      <td>ремонт внутридомовых инженерных систем теплосн...</td>\n      <td>2022.03.07</td>\n      <td>2022.08.11</td>\n      <td>DST</td>\n      <td>9177</td>\n      <td>4</td>\n    </tr>\n    <tr>\n      <th>1743</th>\n      <td>ремонт подвальных помещений, относящихся к общ...</td>\n      <td>2022.02.04</td>\n      <td>2022.06.17</td>\n      <td>DST</td>\n      <td>9177</td>\n      <td>13</td>\n    </tr>\n    <tr>\n      <th>1744</th>\n      <td>ремонт внутридомовых инженерных систем водоотв...</td>\n      <td>2022.02.04</td>\n      <td>2022.08.04</td>\n      <td>DST</td>\n      <td>9177</td>\n      <td>5</td>\n    </tr>\n    <tr>\n      <th>1745</th>\n      <td>ремонт внутреннего водостока</td>\n      <td>2022.10.10</td>\n      <td>2022.11.30</td>\n      <td>DST</td>\n      <td>12178</td>\n      <td>19</td>\n    </tr>\n    <tr>\n      <th>1746</th>\n      <td>ремонт внутреннего водостока</td>\n      <td>2022.10.10</td>\n      <td>2022.11.30</td>\n      <td>DST</td>\n      <td>12174</td>\n      <td>19</td>\n    </tr>\n  </tbody>\n</table>\n<p>1055584 rows × 6 columns</p>\n</div>"
     },
     "execution_count": 20,
     "metadata": {},
     "output_type": "execute_result"
    }
   ],
   "source": [
    "# чистим инциденты\n",
    "work_types = work_types[work_types['WORK_NAME'].notna()]\n",
    "work_types"
   ],
   "metadata": {
    "collapsed": false,
    "ExecuteTime": {
     "end_time": "2024-03-31T12:39:21.990061Z",
     "start_time": "2024-03-31T12:39:21.922640Z"
    }
   },
   "id": "fc8b1a101c3aff9d",
   "execution_count": 20
  },
  {
   "cell_type": "code",
   "outputs": [
    {
     "data": {
      "text/plain": "      WORK_NAME  CREATE_DATE  CLOSE_DATE  SOURCE     UNOM  WORK_CLASS\n0           186          241         242       7  2115191          15\n1           184           50          94       0  2404461          16\n2           183           65          68       0  2404461          16\n3           300           63          64       0  2404461          16\n4           300           48          49       0  2404461          16\n...         ...          ...         ...     ...      ...         ...\n1742        284           65         223       2     9177           4\n1743        291           34         168       2     9177          13\n1744        279           34         216       2     9177           5\n1745        278          282         334       2    12178          19\n1746        278          282         334       2    12174          19\n\n[1055584 rows x 6 columns]",
      "text/html": "<div>\n<style scoped>\n    .dataframe tbody tr th:only-of-type {\n        vertical-align: middle;\n    }\n\n    .dataframe tbody tr th {\n        vertical-align: top;\n    }\n\n    .dataframe thead th {\n        text-align: right;\n    }\n</style>\n<table border=\"1\" class=\"dataframe\">\n  <thead>\n    <tr style=\"text-align: right;\">\n      <th></th>\n      <th>WORK_NAME</th>\n      <th>CREATE_DATE</th>\n      <th>CLOSE_DATE</th>\n      <th>SOURCE</th>\n      <th>UNOM</th>\n      <th>WORK_CLASS</th>\n    </tr>\n  </thead>\n  <tbody>\n    <tr>\n      <th>0</th>\n      <td>186</td>\n      <td>241</td>\n      <td>242</td>\n      <td>7</td>\n      <td>2115191</td>\n      <td>15</td>\n    </tr>\n    <tr>\n      <th>1</th>\n      <td>184</td>\n      <td>50</td>\n      <td>94</td>\n      <td>0</td>\n      <td>2404461</td>\n      <td>16</td>\n    </tr>\n    <tr>\n      <th>2</th>\n      <td>183</td>\n      <td>65</td>\n      <td>68</td>\n      <td>0</td>\n      <td>2404461</td>\n      <td>16</td>\n    </tr>\n    <tr>\n      <th>3</th>\n      <td>300</td>\n      <td>63</td>\n      <td>64</td>\n      <td>0</td>\n      <td>2404461</td>\n      <td>16</td>\n    </tr>\n    <tr>\n      <th>4</th>\n      <td>300</td>\n      <td>48</td>\n      <td>49</td>\n      <td>0</td>\n      <td>2404461</td>\n      <td>16</td>\n    </tr>\n    <tr>\n      <th>...</th>\n      <td>...</td>\n      <td>...</td>\n      <td>...</td>\n      <td>...</td>\n      <td>...</td>\n      <td>...</td>\n    </tr>\n    <tr>\n      <th>1742</th>\n      <td>284</td>\n      <td>65</td>\n      <td>223</td>\n      <td>2</td>\n      <td>9177</td>\n      <td>4</td>\n    </tr>\n    <tr>\n      <th>1743</th>\n      <td>291</td>\n      <td>34</td>\n      <td>168</td>\n      <td>2</td>\n      <td>9177</td>\n      <td>13</td>\n    </tr>\n    <tr>\n      <th>1744</th>\n      <td>279</td>\n      <td>34</td>\n      <td>216</td>\n      <td>2</td>\n      <td>9177</td>\n      <td>5</td>\n    </tr>\n    <tr>\n      <th>1745</th>\n      <td>278</td>\n      <td>282</td>\n      <td>334</td>\n      <td>2</td>\n      <td>12178</td>\n      <td>19</td>\n    </tr>\n    <tr>\n      <th>1746</th>\n      <td>278</td>\n      <td>282</td>\n      <td>334</td>\n      <td>2</td>\n      <td>12174</td>\n      <td>19</td>\n    </tr>\n  </tbody>\n</table>\n<p>1055584 rows × 6 columns</p>\n</div>"
     },
     "execution_count": 21,
     "metadata": {},
     "output_type": "execute_result"
    }
   ],
   "source": [
    "# по хорошему преобразовать дату к числу (int - timestamp) и отсортировать\n",
    "work_types = MultiColumnLabelEncoder(columns=[\n",
    "    'WORK_NAME', 'CREATE_DATE', 'CLOSE_DATE',\n",
    "    'SOURCE',\n",
    "]).fit_transform(work_types)\n",
    "work_types"
   ],
   "metadata": {
    "collapsed": false,
    "ExecuteTime": {
     "end_time": "2024-03-31T12:39:22.416872Z",
     "start_time": "2024-03-31T12:39:21.991115Z"
    }
   },
   "id": "ee1e0b23274c04ec",
   "execution_count": 21
  },
  {
   "cell_type": "code",
   "outputs": [],
   "source": [
    "# Навсякий случай приводим к int\n",
    "df['UNOM'] = df['UNOM'].astype(int)\n",
    "work_types['UNOM'] = work_types['UNOM'].astype(int)\n",
    "# объединяем с таблицей объктов\n",
    "big_df = df.merge(work_types, on='UNOM', how='left')\n"
   ],
   "metadata": {
    "collapsed": false,
    "ExecuteTime": {
     "end_time": "2024-03-31T12:39:22.770375Z",
     "start_time": "2024-03-31T12:39:22.417801Z"
    }
   },
   "id": "344ae4d6ef50fdda",
   "execution_count": 22
  },
  {
   "cell_type": "code",
   "outputs": [
    {
     "data": {
      "text/plain": "                  ID                                        NAME COL_756   \n0          1500923.0       Дом по адресу Красковская ул., д.121А    1956  \\\n1          1500933.0    Дом по адресу Байкальская ул., д.18, к.2    2005   \n2          1500933.0    Дом по адресу Байкальская ул., д.18, к.2    2005   \n3          1500933.0    Дом по адресу Байкальская ул., д.18, к.2    2005   \n4          1500933.0    Дом по адресу Байкальская ул., д.18, к.2    2005   \n...              ...                                         ...     ...   \n1066468  544441568.0  Дом по адресу Салтыковская ул., д.6/1, к.5     NaN   \n1066469  545483918.0       Дом по адресу Амурская ул., д.2А, к.1     NaN   \n1066470  545483942.0       Дом по адресу Амурская ул., д.2А, к.2     NaN   \n1066471  545483949.0       Дом по адресу Амурская ул., д.2А, к.3     NaN   \n1066472  545483953.0       Дом по адресу Амурская ул., д.2А, к.4     NaN   \n\n         COL_757  COL_758 COL_759 COL_760 COL_761  COL_762  COL_763  ...   \n0              1  2048798       1       2       1     5319     3035  ...  \\\n1              1  2048798      18       2     148     5523     3131  ...   \n2              1  2048798      18       2     148     5523     3131  ...   \n3              1  2048798      18       2     148     5523     3131  ...   \n4              1  2048798      18       2     148     5523     3131  ...   \n...          ...      ...     ...     ...     ...      ...      ...  ...   \n1066468        1        0       0       0       0     6022     3381  ...   \n1066469        1        0       0       0       0     6022     3381  ...   \n1066470        1        0       0       0       0     6022     3381  ...   \n1066471        1        0       0       0       0     6022     3381  ...   \n1066472        1        0       0       0       0     6022     3381  ...   \n\n         COL_2463  COL_3163  COL_3243 COL_3363 COL_3468 WORK_NAME   \n0               1  58761330         0        0        0       NaN  \\\n1               3  58761330  45063584        0        0     298.0   \n2               3  58761330  45063584        0        0     298.0   \n3               3  58761330  45063584        0        0     104.0   \n4               3  58761330  45063584        0        0     298.0   \n...           ...       ...       ...      ...      ...       ...   \n1066468         3  58761330  45063584        0        0       NaN   \n1066469         3  58761330  45063584        0        0       NaN   \n1066470         3  58761330  45063584        0        0       NaN   \n1066471         3  58761330  45063584        0        0       NaN   \n1066472         3  58761330  45063584        0        0       NaN   \n\n         CREATE_DATE  CLOSE_DATE  SOURCE  WORK_CLASS  \n0                NaN         NaN     NaN         NaN  \n1                6.0         7.0     3.0         0.0  \n2                6.0         7.0     3.0         0.0  \n3                5.0         7.0     3.0        15.0  \n4                6.0         7.0     3.0         0.0  \n...              ...         ...     ...         ...  \n1066468          NaN         NaN     NaN         NaN  \n1066469          NaN         NaN     NaN         NaN  \n1066470          NaN         NaN     NaN         NaN  \n1066471          NaN         NaN     NaN         NaN  \n1066472          NaN         NaN     NaN         NaN  \n\n[1066473 rows x 30 columns]",
      "text/html": "<div>\n<style scoped>\n    .dataframe tbody tr th:only-of-type {\n        vertical-align: middle;\n    }\n\n    .dataframe tbody tr th {\n        vertical-align: top;\n    }\n\n    .dataframe thead th {\n        text-align: right;\n    }\n</style>\n<table border=\"1\" class=\"dataframe\">\n  <thead>\n    <tr style=\"text-align: right;\">\n      <th></th>\n      <th>ID</th>\n      <th>NAME</th>\n      <th>COL_756</th>\n      <th>COL_757</th>\n      <th>COL_758</th>\n      <th>COL_759</th>\n      <th>COL_760</th>\n      <th>COL_761</th>\n      <th>COL_762</th>\n      <th>COL_763</th>\n      <th>...</th>\n      <th>COL_2463</th>\n      <th>COL_3163</th>\n      <th>COL_3243</th>\n      <th>COL_3363</th>\n      <th>COL_3468</th>\n      <th>WORK_NAME</th>\n      <th>CREATE_DATE</th>\n      <th>CLOSE_DATE</th>\n      <th>SOURCE</th>\n      <th>WORK_CLASS</th>\n    </tr>\n  </thead>\n  <tbody>\n    <tr>\n      <th>0</th>\n      <td>1500923.0</td>\n      <td>Дом по адресу Красковская ул., д.121А</td>\n      <td>1956</td>\n      <td>1</td>\n      <td>2048798</td>\n      <td>1</td>\n      <td>2</td>\n      <td>1</td>\n      <td>5319</td>\n      <td>3035</td>\n      <td>...</td>\n      <td>1</td>\n      <td>58761330</td>\n      <td>0</td>\n      <td>0</td>\n      <td>0</td>\n      <td>NaN</td>\n      <td>NaN</td>\n      <td>NaN</td>\n      <td>NaN</td>\n      <td>NaN</td>\n    </tr>\n    <tr>\n      <th>1</th>\n      <td>1500933.0</td>\n      <td>Дом по адресу Байкальская ул., д.18, к.2</td>\n      <td>2005</td>\n      <td>1</td>\n      <td>2048798</td>\n      <td>18</td>\n      <td>2</td>\n      <td>148</td>\n      <td>5523</td>\n      <td>3131</td>\n      <td>...</td>\n      <td>3</td>\n      <td>58761330</td>\n      <td>45063584</td>\n      <td>0</td>\n      <td>0</td>\n      <td>298.0</td>\n      <td>6.0</td>\n      <td>7.0</td>\n      <td>3.0</td>\n      <td>0.0</td>\n    </tr>\n    <tr>\n      <th>2</th>\n      <td>1500933.0</td>\n      <td>Дом по адресу Байкальская ул., д.18, к.2</td>\n      <td>2005</td>\n      <td>1</td>\n      <td>2048798</td>\n      <td>18</td>\n      <td>2</td>\n      <td>148</td>\n      <td>5523</td>\n      <td>3131</td>\n      <td>...</td>\n      <td>3</td>\n      <td>58761330</td>\n      <td>45063584</td>\n      <td>0</td>\n      <td>0</td>\n      <td>298.0</td>\n      <td>6.0</td>\n      <td>7.0</td>\n      <td>3.0</td>\n      <td>0.0</td>\n    </tr>\n    <tr>\n      <th>3</th>\n      <td>1500933.0</td>\n      <td>Дом по адресу Байкальская ул., д.18, к.2</td>\n      <td>2005</td>\n      <td>1</td>\n      <td>2048798</td>\n      <td>18</td>\n      <td>2</td>\n      <td>148</td>\n      <td>5523</td>\n      <td>3131</td>\n      <td>...</td>\n      <td>3</td>\n      <td>58761330</td>\n      <td>45063584</td>\n      <td>0</td>\n      <td>0</td>\n      <td>104.0</td>\n      <td>5.0</td>\n      <td>7.0</td>\n      <td>3.0</td>\n      <td>15.0</td>\n    </tr>\n    <tr>\n      <th>4</th>\n      <td>1500933.0</td>\n      <td>Дом по адресу Байкальская ул., д.18, к.2</td>\n      <td>2005</td>\n      <td>1</td>\n      <td>2048798</td>\n      <td>18</td>\n      <td>2</td>\n      <td>148</td>\n      <td>5523</td>\n      <td>3131</td>\n      <td>...</td>\n      <td>3</td>\n      <td>58761330</td>\n      <td>45063584</td>\n      <td>0</td>\n      <td>0</td>\n      <td>298.0</td>\n      <td>6.0</td>\n      <td>7.0</td>\n      <td>3.0</td>\n      <td>0.0</td>\n    </tr>\n    <tr>\n      <th>...</th>\n      <td>...</td>\n      <td>...</td>\n      <td>...</td>\n      <td>...</td>\n      <td>...</td>\n      <td>...</td>\n      <td>...</td>\n      <td>...</td>\n      <td>...</td>\n      <td>...</td>\n      <td>...</td>\n      <td>...</td>\n      <td>...</td>\n      <td>...</td>\n      <td>...</td>\n      <td>...</td>\n      <td>...</td>\n      <td>...</td>\n      <td>...</td>\n      <td>...</td>\n      <td>...</td>\n    </tr>\n    <tr>\n      <th>1066468</th>\n      <td>544441568.0</td>\n      <td>Дом по адресу Салтыковская ул., д.6/1, к.5</td>\n      <td>NaN</td>\n      <td>1</td>\n      <td>0</td>\n      <td>0</td>\n      <td>0</td>\n      <td>0</td>\n      <td>6022</td>\n      <td>3381</td>\n      <td>...</td>\n      <td>3</td>\n      <td>58761330</td>\n      <td>45063584</td>\n      <td>0</td>\n      <td>0</td>\n      <td>NaN</td>\n      <td>NaN</td>\n      <td>NaN</td>\n      <td>NaN</td>\n      <td>NaN</td>\n    </tr>\n    <tr>\n      <th>1066469</th>\n      <td>545483918.0</td>\n      <td>Дом по адресу Амурская ул., д.2А, к.1</td>\n      <td>NaN</td>\n      <td>1</td>\n      <td>0</td>\n      <td>0</td>\n      <td>0</td>\n      <td>0</td>\n      <td>6022</td>\n      <td>3381</td>\n      <td>...</td>\n      <td>3</td>\n      <td>58761330</td>\n      <td>45063584</td>\n      <td>0</td>\n      <td>0</td>\n      <td>NaN</td>\n      <td>NaN</td>\n      <td>NaN</td>\n      <td>NaN</td>\n      <td>NaN</td>\n    </tr>\n    <tr>\n      <th>1066470</th>\n      <td>545483942.0</td>\n      <td>Дом по адресу Амурская ул., д.2А, к.2</td>\n      <td>NaN</td>\n      <td>1</td>\n      <td>0</td>\n      <td>0</td>\n      <td>0</td>\n      <td>0</td>\n      <td>6022</td>\n      <td>3381</td>\n      <td>...</td>\n      <td>3</td>\n      <td>58761330</td>\n      <td>45063584</td>\n      <td>0</td>\n      <td>0</td>\n      <td>NaN</td>\n      <td>NaN</td>\n      <td>NaN</td>\n      <td>NaN</td>\n      <td>NaN</td>\n    </tr>\n    <tr>\n      <th>1066471</th>\n      <td>545483949.0</td>\n      <td>Дом по адресу Амурская ул., д.2А, к.3</td>\n      <td>NaN</td>\n      <td>1</td>\n      <td>0</td>\n      <td>0</td>\n      <td>0</td>\n      <td>0</td>\n      <td>6022</td>\n      <td>3381</td>\n      <td>...</td>\n      <td>3</td>\n      <td>58761330</td>\n      <td>45063584</td>\n      <td>0</td>\n      <td>0</td>\n      <td>NaN</td>\n      <td>NaN</td>\n      <td>NaN</td>\n      <td>NaN</td>\n      <td>NaN</td>\n    </tr>\n    <tr>\n      <th>1066472</th>\n      <td>545483953.0</td>\n      <td>Дом по адресу Амурская ул., д.2А, к.4</td>\n      <td>NaN</td>\n      <td>1</td>\n      <td>0</td>\n      <td>0</td>\n      <td>0</td>\n      <td>0</td>\n      <td>6022</td>\n      <td>3381</td>\n      <td>...</td>\n      <td>3</td>\n      <td>58761330</td>\n      <td>45063584</td>\n      <td>0</td>\n      <td>0</td>\n      <td>NaN</td>\n      <td>NaN</td>\n      <td>NaN</td>\n      <td>NaN</td>\n      <td>NaN</td>\n    </tr>\n  </tbody>\n</table>\n<p>1066473 rows × 30 columns</p>\n</div>"
     },
     "execution_count": 23,
     "metadata": {},
     "output_type": "execute_result"
    }
   ],
   "source": [
    "big_df"
   ],
   "metadata": {
    "collapsed": false,
    "ExecuteTime": {
     "end_time": "2024-03-31T12:39:23.203940Z",
     "start_time": "2024-03-31T12:39:22.771188Z"
    }
   },
   "id": "a543427a5a37b47d",
   "execution_count": 23
  },
  {
   "cell_type": "code",
   "outputs": [
    {
     "data": {
      "text/plain": "                  ID                                        NAME COL_756   \n1          1500933.0    Дом по адресу Байкальская ул., д.18, к.2    2005  \\\n2          1500933.0    Дом по адресу Байкальская ул., д.18, к.2    2005   \n3          1500933.0    Дом по адресу Байкальская ул., д.18, к.2    2005   \n4          1500933.0    Дом по адресу Байкальская ул., д.18, к.2    2005   \n5          1500933.0    Дом по адресу Байкальская ул., д.18, к.2    2005   \n...              ...                                         ...     ...   \n1066431  464022234.0       Дом по адресу Тюменский пр., д.3, к.5     NaN   \n1066437  464781953.0  Дом по адресу Парковая 15-я ул., д.42, к.5     NaN   \n1066438  464781953.0  Дом по адресу Парковая 15-я ул., д.42, к.5     NaN   \n1066439  464781953.0  Дом по адресу Парковая 15-я ул., д.42, к.5     NaN   \n1066440  464781953.0  Дом по адресу Парковая 15-я ул., д.42, к.5     NaN   \n\n         COL_757  COL_758 COL_759 COL_760 COL_761  COL_762  COL_763  ...   \n1              1  2048798      18       2     148     5523     3131  ...  \\\n2              1  2048798      18       2     148     5523     3131  ...   \n3              1  2048798      18       2     148     5523     3131  ...   \n4              1  2048798      18       2     148     5523     3131  ...   \n5              1  2048798      18       2     148     5523     3131  ...   \n...          ...      ...     ...     ...     ...      ...      ...  ...   \n1066431        1        0       0       0       0     6022     3381  ...   \n1066437        1        0       0       0       0     6022     3381  ...   \n1066438        1        0       0       0       0     6022     3381  ...   \n1066439        1        0       0       0       0     6022     3381  ...   \n1066440        1        0       0       0       0     6022     3381  ...   \n\n         COL_2463  COL_3163  COL_3243 COL_3363 COL_3468 WORK_NAME   \n1               3  58761330  45063584        0        0     298.0  \\\n2               3  58761330  45063584        0        0     298.0   \n3               3  58761330  45063584        0        0     104.0   \n4               3  58761330  45063584        0        0     298.0   \n5               3  58761330  45063584        0        0     298.0   \n...           ...       ...       ...      ...      ...       ...   \n1066431         3  58761330  45063584        0        0     115.0   \n1066437         3  58761330  45063584        0        0     108.0   \n1066438         3  58761330  45063584        0        0     108.0   \n1066439         3  58761330  45063584        0        0     312.0   \n1066440         3  58761330  45063584        0        0     312.0   \n\n         CREATE_DATE  CLOSE_DATE  SOURCE  WORK_CLASS  \n1                6.0         7.0     3.0         0.0  \n2                6.0         7.0     3.0         0.0  \n3                5.0         7.0     3.0        15.0  \n4                6.0         7.0     3.0         0.0  \n5                6.0         7.0     3.0         0.0  \n...              ...         ...     ...         ...  \n1066431        222.0       255.0     7.0         5.0  \n1066437         89.0       174.0     7.0        15.0  \n1066438         87.0       174.0     7.0        15.0  \n1066439        104.0       209.0     7.0         5.0  \n1066440        104.0       105.0     7.0         5.0  \n\n[1054718 rows x 30 columns]",
      "text/html": "<div>\n<style scoped>\n    .dataframe tbody tr th:only-of-type {\n        vertical-align: middle;\n    }\n\n    .dataframe tbody tr th {\n        vertical-align: top;\n    }\n\n    .dataframe thead th {\n        text-align: right;\n    }\n</style>\n<table border=\"1\" class=\"dataframe\">\n  <thead>\n    <tr style=\"text-align: right;\">\n      <th></th>\n      <th>ID</th>\n      <th>NAME</th>\n      <th>COL_756</th>\n      <th>COL_757</th>\n      <th>COL_758</th>\n      <th>COL_759</th>\n      <th>COL_760</th>\n      <th>COL_761</th>\n      <th>COL_762</th>\n      <th>COL_763</th>\n      <th>...</th>\n      <th>COL_2463</th>\n      <th>COL_3163</th>\n      <th>COL_3243</th>\n      <th>COL_3363</th>\n      <th>COL_3468</th>\n      <th>WORK_NAME</th>\n      <th>CREATE_DATE</th>\n      <th>CLOSE_DATE</th>\n      <th>SOURCE</th>\n      <th>WORK_CLASS</th>\n    </tr>\n  </thead>\n  <tbody>\n    <tr>\n      <th>1</th>\n      <td>1500933.0</td>\n      <td>Дом по адресу Байкальская ул., д.18, к.2</td>\n      <td>2005</td>\n      <td>1</td>\n      <td>2048798</td>\n      <td>18</td>\n      <td>2</td>\n      <td>148</td>\n      <td>5523</td>\n      <td>3131</td>\n      <td>...</td>\n      <td>3</td>\n      <td>58761330</td>\n      <td>45063584</td>\n      <td>0</td>\n      <td>0</td>\n      <td>298.0</td>\n      <td>6.0</td>\n      <td>7.0</td>\n      <td>3.0</td>\n      <td>0.0</td>\n    </tr>\n    <tr>\n      <th>2</th>\n      <td>1500933.0</td>\n      <td>Дом по адресу Байкальская ул., д.18, к.2</td>\n      <td>2005</td>\n      <td>1</td>\n      <td>2048798</td>\n      <td>18</td>\n      <td>2</td>\n      <td>148</td>\n      <td>5523</td>\n      <td>3131</td>\n      <td>...</td>\n      <td>3</td>\n      <td>58761330</td>\n      <td>45063584</td>\n      <td>0</td>\n      <td>0</td>\n      <td>298.0</td>\n      <td>6.0</td>\n      <td>7.0</td>\n      <td>3.0</td>\n      <td>0.0</td>\n    </tr>\n    <tr>\n      <th>3</th>\n      <td>1500933.0</td>\n      <td>Дом по адресу Байкальская ул., д.18, к.2</td>\n      <td>2005</td>\n      <td>1</td>\n      <td>2048798</td>\n      <td>18</td>\n      <td>2</td>\n      <td>148</td>\n      <td>5523</td>\n      <td>3131</td>\n      <td>...</td>\n      <td>3</td>\n      <td>58761330</td>\n      <td>45063584</td>\n      <td>0</td>\n      <td>0</td>\n      <td>104.0</td>\n      <td>5.0</td>\n      <td>7.0</td>\n      <td>3.0</td>\n      <td>15.0</td>\n    </tr>\n    <tr>\n      <th>4</th>\n      <td>1500933.0</td>\n      <td>Дом по адресу Байкальская ул., д.18, к.2</td>\n      <td>2005</td>\n      <td>1</td>\n      <td>2048798</td>\n      <td>18</td>\n      <td>2</td>\n      <td>148</td>\n      <td>5523</td>\n      <td>3131</td>\n      <td>...</td>\n      <td>3</td>\n      <td>58761330</td>\n      <td>45063584</td>\n      <td>0</td>\n      <td>0</td>\n      <td>298.0</td>\n      <td>6.0</td>\n      <td>7.0</td>\n      <td>3.0</td>\n      <td>0.0</td>\n    </tr>\n    <tr>\n      <th>5</th>\n      <td>1500933.0</td>\n      <td>Дом по адресу Байкальская ул., д.18, к.2</td>\n      <td>2005</td>\n      <td>1</td>\n      <td>2048798</td>\n      <td>18</td>\n      <td>2</td>\n      <td>148</td>\n      <td>5523</td>\n      <td>3131</td>\n      <td>...</td>\n      <td>3</td>\n      <td>58761330</td>\n      <td>45063584</td>\n      <td>0</td>\n      <td>0</td>\n      <td>298.0</td>\n      <td>6.0</td>\n      <td>7.0</td>\n      <td>3.0</td>\n      <td>0.0</td>\n    </tr>\n    <tr>\n      <th>...</th>\n      <td>...</td>\n      <td>...</td>\n      <td>...</td>\n      <td>...</td>\n      <td>...</td>\n      <td>...</td>\n      <td>...</td>\n      <td>...</td>\n      <td>...</td>\n      <td>...</td>\n      <td>...</td>\n      <td>...</td>\n      <td>...</td>\n      <td>...</td>\n      <td>...</td>\n      <td>...</td>\n      <td>...</td>\n      <td>...</td>\n      <td>...</td>\n      <td>...</td>\n      <td>...</td>\n    </tr>\n    <tr>\n      <th>1066431</th>\n      <td>464022234.0</td>\n      <td>Дом по адресу Тюменский пр., д.3, к.5</td>\n      <td>NaN</td>\n      <td>1</td>\n      <td>0</td>\n      <td>0</td>\n      <td>0</td>\n      <td>0</td>\n      <td>6022</td>\n      <td>3381</td>\n      <td>...</td>\n      <td>3</td>\n      <td>58761330</td>\n      <td>45063584</td>\n      <td>0</td>\n      <td>0</td>\n      <td>115.0</td>\n      <td>222.0</td>\n      <td>255.0</td>\n      <td>7.0</td>\n      <td>5.0</td>\n    </tr>\n    <tr>\n      <th>1066437</th>\n      <td>464781953.0</td>\n      <td>Дом по адресу Парковая 15-я ул., д.42, к.5</td>\n      <td>NaN</td>\n      <td>1</td>\n      <td>0</td>\n      <td>0</td>\n      <td>0</td>\n      <td>0</td>\n      <td>6022</td>\n      <td>3381</td>\n      <td>...</td>\n      <td>3</td>\n      <td>58761330</td>\n      <td>45063584</td>\n      <td>0</td>\n      <td>0</td>\n      <td>108.0</td>\n      <td>89.0</td>\n      <td>174.0</td>\n      <td>7.0</td>\n      <td>15.0</td>\n    </tr>\n    <tr>\n      <th>1066438</th>\n      <td>464781953.0</td>\n      <td>Дом по адресу Парковая 15-я ул., д.42, к.5</td>\n      <td>NaN</td>\n      <td>1</td>\n      <td>0</td>\n      <td>0</td>\n      <td>0</td>\n      <td>0</td>\n      <td>6022</td>\n      <td>3381</td>\n      <td>...</td>\n      <td>3</td>\n      <td>58761330</td>\n      <td>45063584</td>\n      <td>0</td>\n      <td>0</td>\n      <td>108.0</td>\n      <td>87.0</td>\n      <td>174.0</td>\n      <td>7.0</td>\n      <td>15.0</td>\n    </tr>\n    <tr>\n      <th>1066439</th>\n      <td>464781953.0</td>\n      <td>Дом по адресу Парковая 15-я ул., д.42, к.5</td>\n      <td>NaN</td>\n      <td>1</td>\n      <td>0</td>\n      <td>0</td>\n      <td>0</td>\n      <td>0</td>\n      <td>6022</td>\n      <td>3381</td>\n      <td>...</td>\n      <td>3</td>\n      <td>58761330</td>\n      <td>45063584</td>\n      <td>0</td>\n      <td>0</td>\n      <td>312.0</td>\n      <td>104.0</td>\n      <td>209.0</td>\n      <td>7.0</td>\n      <td>5.0</td>\n    </tr>\n    <tr>\n      <th>1066440</th>\n      <td>464781953.0</td>\n      <td>Дом по адресу Парковая 15-я ул., д.42, к.5</td>\n      <td>NaN</td>\n      <td>1</td>\n      <td>0</td>\n      <td>0</td>\n      <td>0</td>\n      <td>0</td>\n      <td>6022</td>\n      <td>3381</td>\n      <td>...</td>\n      <td>3</td>\n      <td>58761330</td>\n      <td>45063584</td>\n      <td>0</td>\n      <td>0</td>\n      <td>312.0</td>\n      <td>104.0</td>\n      <td>105.0</td>\n      <td>7.0</td>\n      <td>5.0</td>\n    </tr>\n  </tbody>\n</table>\n<p>1054718 rows × 30 columns</p>\n</div>"
     },
     "execution_count": 24,
     "metadata": {},
     "output_type": "execute_result"
    }
   ],
   "source": [
    "# снова чистим, если нет класса\n",
    "big_df = big_df[big_df['WORK_CLASS'].notna()]\n",
    "big_df"
   ],
   "metadata": {
    "collapsed": false,
    "ExecuteTime": {
     "end_time": "2024-03-31T12:39:23.883430Z",
     "start_time": "2024-03-31T12:39:23.206826Z"
    }
   },
   "id": "20da5d3e440f3333",
   "execution_count": 24
  },
  {
   "cell_type": "code",
   "outputs": [],
   "source": [
    "big_df = MultiColumnLabelEncoder(columns=['COL_756', 'COL_769']).fit_transform(big_df)\n",
    "big_df['ID'] = big_df['ID'].astype(int)"
   ],
   "metadata": {
    "collapsed": false,
    "ExecuteTime": {
     "end_time": "2024-03-31T12:39:24.333122Z",
     "start_time": "2024-03-31T12:39:23.884941Z"
    }
   },
   "id": "94d26476dd966254",
   "execution_count": 25
  },
  {
   "cell_type": "code",
   "outputs": [
    {
     "data": {
      "text/plain": "'\\nid      name            unom        create_date\\n1       Парковая 15     123123      01.01.23\\n1       Парковая 15     123124      02.01.23\\n1       Парковая 15     321321      03.01.23\\n\\nИтог:\\nid      name            unom        create_date\\n1       Парковая 15     123123          0\\n1       Парковая 15     246246          1\\n1       Парковая 15     567567          2\\n\\nМожно так: преобразуем unom и дату \\nid      name            unom        create_date\\n1       Парковая 15     0          0\\n1       Парковая 15     1          1\\n1       Парковая 15     2          2\\n\\nНа выходе:\\nid      name            unom        create_date\\n1       Парковая 15     0          0\\n1       Парковая 15     1          1\\n1       Парковая 15     3          2\\n\\nКонкретный адрес с максимальной суммой unom сохраняем в бд, а обучаем на исторических\\nНапример:\\nСохраняем в БД\\nid      name            unom        create_date\\n1       Парковая 15     3          2\\nОбучаем на интеграционной таблице\\nid      name            unom        create_date\\n1       Парковая 15     0          0\\n1       Парковая 15     1          1\\n1       Парковая 15     3          2\\n\\n'"
     },
     "execution_count": 26,
     "metadata": {},
     "output_type": "execute_result"
    }
   ],
   "source": [
    "# готовим веса (по конкретному адресу) по признаку unom:\n",
    "# \n",
    "\"\"\"\n",
    "id      name            unom        create_date\n",
    "1       Парковая 15     123123      01.01.23\n",
    "1       Парковая 15     123124      02.01.23\n",
    "1       Парковая 15     321321      03.01.23\n",
    "\n",
    "Итог:\n",
    "id      name            unom        create_date\n",
    "1       Парковая 15     123123          0\n",
    "1       Парковая 15     246246          1\n",
    "1       Парковая 15     567567          2\n",
    "\n",
    "Можно так: преобразуем unom и дату \n",
    "id      name            unom        create_date\n",
    "1       Парковая 15     0          0\n",
    "1       Парковая 15     1          1\n",
    "1       Парковая 15     2          2\n",
    "\n",
    "На выходе:\n",
    "id      name            unom        create_date\n",
    "1       Парковая 15     0          0\n",
    "1       Парковая 15     1          1\n",
    "1       Парковая 15     3          2\n",
    "\n",
    "Конкретный адрес с максимальной суммой unom сохраняем в бд, а обучаем на исторических\n",
    "Например:\n",
    "Сохраняем в БД\n",
    "id      name            unom        create_date\n",
    "1       Парковая 15     3          2\n",
    "Обучаем на интеграционной таблице\n",
    "id      name            unom        create_date\n",
    "1       Парковая 15     0          0\n",
    "1       Парковая 15     1          1\n",
    "1       Парковая 15     3          2\n",
    "\n",
    "\"\"\""
   ],
   "metadata": {
    "collapsed": false,
    "ExecuteTime": {
     "end_time": "2024-03-31T12:39:24.337098Z",
     "start_time": "2024-03-31T12:39:24.333984Z"
    }
   },
   "id": "4b7bed69496f10d2",
   "execution_count": 26
  },
  {
   "cell_type": "code",
   "outputs": [
    {
     "data": {
      "text/plain": "      index         ID                                        NAME  COL_756   \n0        76    1500933    Дом по адресу Байкальская ул., д.18, к.2      124  \\\n1        77    1500933    Дом по адресу Байкальская ул., д.18, к.2      124   \n2        85    1500933    Дом по адресу Байкальская ул., д.18, к.2      124   \n3        37    1500933    Дом по адресу Байкальская ул., д.18, к.2      124   \n4        75    1500933    Дом по адресу Байкальская ул., д.18, к.2      124   \n..      ...        ...                                         ...      ...   \n1   1066431  464022234       Дом по адресу Тюменский пр., д.3, к.5      139   \n0   1066438  464781953  Дом по адресу Парковая 15-я ул., д.42, к.5      139   \n1   1066437  464781953  Дом по адресу Парковая 15-я ул., д.42, к.5      139   \n2   1066439  464781953  Дом по адресу Парковая 15-я ул., д.42, к.5      139   \n3   1066440  464781953  Дом по адресу Парковая 15-я ул., д.42, к.5      139   \n\n    COL_757  COL_758 COL_759 COL_760 COL_761  COL_762  ...  COL_2463   \n0         1  2048798      18       2     148     5523  ...         3  \\\n1         1  2048798      18       2     148     5523  ...         3   \n2         1  2048798      18       2     148     5523  ...         3   \n3         1  2048798      18       2     148     5523  ...         3   \n4         1  2048798      18       2     148     5523  ...         3   \n..      ...      ...     ...     ...     ...      ...  ...       ...   \n1         1        0       0       0       0     6022  ...         3   \n0         1        0       0       0       0     6022  ...         3   \n1         1        0       0       0       0     6022  ...         3   \n2         1        0       0       0       0     6022  ...         3   \n3         1        0       0       0       0     6022  ...         3   \n\n    COL_3163  COL_3243  COL_3363  COL_3468 WORK_NAME CREATE_DATE  CLOSE_DATE   \n0   58761330  45063584         0         0     197.0         0.0         1.0  \\\n1   58761330  45063584         0         0     111.0         0.0         1.0   \n2   58761330  45063584         0         0     140.0         0.0         1.0   \n3   58761330  45063584         0         0       4.0         1.0         2.0   \n4   58761330  45063584         0         0     298.0         2.0         3.0   \n..       ...       ...       ...       ...       ...         ...         ...   \n1   58761330  45063584         0         0     115.0       222.0       255.0   \n0   58761330  45063584         0         0     108.0        87.0       174.0   \n1   58761330  45063584         0         0     108.0        89.0       174.0   \n2   58761330  45063584         0         0     312.0       104.0       209.0   \n3   58761330  45063584         0         0     312.0       104.0       105.0   \n\n    SOURCE  WORK_CLASS  \n0      3.0        25.0  \n1      3.0        23.0  \n2      3.0        23.0  \n3      3.0         2.0  \n4      3.0         0.0  \n..     ...         ...  \n1      7.0         5.0  \n0      7.0        15.0  \n1      7.0        15.0  \n2      7.0         5.0  \n3      7.0         5.0  \n\n[1054718 rows x 31 columns]",
      "text/html": "<div>\n<style scoped>\n    .dataframe tbody tr th:only-of-type {\n        vertical-align: middle;\n    }\n\n    .dataframe tbody tr th {\n        vertical-align: top;\n    }\n\n    .dataframe thead th {\n        text-align: right;\n    }\n</style>\n<table border=\"1\" class=\"dataframe\">\n  <thead>\n    <tr style=\"text-align: right;\">\n      <th></th>\n      <th>index</th>\n      <th>ID</th>\n      <th>NAME</th>\n      <th>COL_756</th>\n      <th>COL_757</th>\n      <th>COL_758</th>\n      <th>COL_759</th>\n      <th>COL_760</th>\n      <th>COL_761</th>\n      <th>COL_762</th>\n      <th>...</th>\n      <th>COL_2463</th>\n      <th>COL_3163</th>\n      <th>COL_3243</th>\n      <th>COL_3363</th>\n      <th>COL_3468</th>\n      <th>WORK_NAME</th>\n      <th>CREATE_DATE</th>\n      <th>CLOSE_DATE</th>\n      <th>SOURCE</th>\n      <th>WORK_CLASS</th>\n    </tr>\n  </thead>\n  <tbody>\n    <tr>\n      <th>0</th>\n      <td>76</td>\n      <td>1500933</td>\n      <td>Дом по адресу Байкальская ул., д.18, к.2</td>\n      <td>124</td>\n      <td>1</td>\n      <td>2048798</td>\n      <td>18</td>\n      <td>2</td>\n      <td>148</td>\n      <td>5523</td>\n      <td>...</td>\n      <td>3</td>\n      <td>58761330</td>\n      <td>45063584</td>\n      <td>0</td>\n      <td>0</td>\n      <td>197.0</td>\n      <td>0.0</td>\n      <td>1.0</td>\n      <td>3.0</td>\n      <td>25.0</td>\n    </tr>\n    <tr>\n      <th>1</th>\n      <td>77</td>\n      <td>1500933</td>\n      <td>Дом по адресу Байкальская ул., д.18, к.2</td>\n      <td>124</td>\n      <td>1</td>\n      <td>2048798</td>\n      <td>18</td>\n      <td>2</td>\n      <td>148</td>\n      <td>5523</td>\n      <td>...</td>\n      <td>3</td>\n      <td>58761330</td>\n      <td>45063584</td>\n      <td>0</td>\n      <td>0</td>\n      <td>111.0</td>\n      <td>0.0</td>\n      <td>1.0</td>\n      <td>3.0</td>\n      <td>23.0</td>\n    </tr>\n    <tr>\n      <th>2</th>\n      <td>85</td>\n      <td>1500933</td>\n      <td>Дом по адресу Байкальская ул., д.18, к.2</td>\n      <td>124</td>\n      <td>1</td>\n      <td>2048798</td>\n      <td>18</td>\n      <td>2</td>\n      <td>148</td>\n      <td>5523</td>\n      <td>...</td>\n      <td>3</td>\n      <td>58761330</td>\n      <td>45063584</td>\n      <td>0</td>\n      <td>0</td>\n      <td>140.0</td>\n      <td>0.0</td>\n      <td>1.0</td>\n      <td>3.0</td>\n      <td>23.0</td>\n    </tr>\n    <tr>\n      <th>3</th>\n      <td>37</td>\n      <td>1500933</td>\n      <td>Дом по адресу Байкальская ул., д.18, к.2</td>\n      <td>124</td>\n      <td>1</td>\n      <td>2048798</td>\n      <td>18</td>\n      <td>2</td>\n      <td>148</td>\n      <td>5523</td>\n      <td>...</td>\n      <td>3</td>\n      <td>58761330</td>\n      <td>45063584</td>\n      <td>0</td>\n      <td>0</td>\n      <td>4.0</td>\n      <td>1.0</td>\n      <td>2.0</td>\n      <td>3.0</td>\n      <td>2.0</td>\n    </tr>\n    <tr>\n      <th>4</th>\n      <td>75</td>\n      <td>1500933</td>\n      <td>Дом по адресу Байкальская ул., д.18, к.2</td>\n      <td>124</td>\n      <td>1</td>\n      <td>2048798</td>\n      <td>18</td>\n      <td>2</td>\n      <td>148</td>\n      <td>5523</td>\n      <td>...</td>\n      <td>3</td>\n      <td>58761330</td>\n      <td>45063584</td>\n      <td>0</td>\n      <td>0</td>\n      <td>298.0</td>\n      <td>2.0</td>\n      <td>3.0</td>\n      <td>3.0</td>\n      <td>0.0</td>\n    </tr>\n    <tr>\n      <th>...</th>\n      <td>...</td>\n      <td>...</td>\n      <td>...</td>\n      <td>...</td>\n      <td>...</td>\n      <td>...</td>\n      <td>...</td>\n      <td>...</td>\n      <td>...</td>\n      <td>...</td>\n      <td>...</td>\n      <td>...</td>\n      <td>...</td>\n      <td>...</td>\n      <td>...</td>\n      <td>...</td>\n      <td>...</td>\n      <td>...</td>\n      <td>...</td>\n      <td>...</td>\n      <td>...</td>\n    </tr>\n    <tr>\n      <th>1</th>\n      <td>1066431</td>\n      <td>464022234</td>\n      <td>Дом по адресу Тюменский пр., д.3, к.5</td>\n      <td>139</td>\n      <td>1</td>\n      <td>0</td>\n      <td>0</td>\n      <td>0</td>\n      <td>0</td>\n      <td>6022</td>\n      <td>...</td>\n      <td>3</td>\n      <td>58761330</td>\n      <td>45063584</td>\n      <td>0</td>\n      <td>0</td>\n      <td>115.0</td>\n      <td>222.0</td>\n      <td>255.0</td>\n      <td>7.0</td>\n      <td>5.0</td>\n    </tr>\n    <tr>\n      <th>0</th>\n      <td>1066438</td>\n      <td>464781953</td>\n      <td>Дом по адресу Парковая 15-я ул., д.42, к.5</td>\n      <td>139</td>\n      <td>1</td>\n      <td>0</td>\n      <td>0</td>\n      <td>0</td>\n      <td>0</td>\n      <td>6022</td>\n      <td>...</td>\n      <td>3</td>\n      <td>58761330</td>\n      <td>45063584</td>\n      <td>0</td>\n      <td>0</td>\n      <td>108.0</td>\n      <td>87.0</td>\n      <td>174.0</td>\n      <td>7.0</td>\n      <td>15.0</td>\n    </tr>\n    <tr>\n      <th>1</th>\n      <td>1066437</td>\n      <td>464781953</td>\n      <td>Дом по адресу Парковая 15-я ул., д.42, к.5</td>\n      <td>139</td>\n      <td>1</td>\n      <td>0</td>\n      <td>0</td>\n      <td>0</td>\n      <td>0</td>\n      <td>6022</td>\n      <td>...</td>\n      <td>3</td>\n      <td>58761330</td>\n      <td>45063584</td>\n      <td>0</td>\n      <td>0</td>\n      <td>108.0</td>\n      <td>89.0</td>\n      <td>174.0</td>\n      <td>7.0</td>\n      <td>15.0</td>\n    </tr>\n    <tr>\n      <th>2</th>\n      <td>1066439</td>\n      <td>464781953</td>\n      <td>Дом по адресу Парковая 15-я ул., д.42, к.5</td>\n      <td>139</td>\n      <td>1</td>\n      <td>0</td>\n      <td>0</td>\n      <td>0</td>\n      <td>0</td>\n      <td>6022</td>\n      <td>...</td>\n      <td>3</td>\n      <td>58761330</td>\n      <td>45063584</td>\n      <td>0</td>\n      <td>0</td>\n      <td>312.0</td>\n      <td>104.0</td>\n      <td>209.0</td>\n      <td>7.0</td>\n      <td>5.0</td>\n    </tr>\n    <tr>\n      <th>3</th>\n      <td>1066440</td>\n      <td>464781953</td>\n      <td>Дом по адресу Парковая 15-я ул., д.42, к.5</td>\n      <td>139</td>\n      <td>1</td>\n      <td>0</td>\n      <td>0</td>\n      <td>0</td>\n      <td>0</td>\n      <td>6022</td>\n      <td>...</td>\n      <td>3</td>\n      <td>58761330</td>\n      <td>45063584</td>\n      <td>0</td>\n      <td>0</td>\n      <td>312.0</td>\n      <td>104.0</td>\n      <td>105.0</td>\n      <td>7.0</td>\n      <td>5.0</td>\n    </tr>\n  </tbody>\n</table>\n<p>1054718 rows × 31 columns</p>\n</div>"
     },
     "execution_count": 27,
     "metadata": {},
     "output_type": "execute_result"
    }
   ],
   "source": [
    "builds = big_df['NAME'].unique().tolist()\n",
    "sum_df = pd.DataFrame()\n",
    "builds_df = None\n",
    "for build in builds:\n",
    "    builds_df = big_df[big_df['NAME'] == build].sort_values(by='CREATE_DATE')\n",
    "    builds_df = builds_df.reset_index()\n",
    "    last = 0\n",
    "    for i, row in builds_df.iterrows(): \n",
    "        if i == 0:\n",
    "            last = builds_df.at[i,'UNOM']\n",
    "            continue\n",
    "        last += builds_df.at[i,'UNOM']\n",
    "        builds_df.at[i,'UNOM'] += last\n",
    "    sum_df = pd.concat([sum_df, builds_df])\n",
    "    \n",
    "sum_df"
   ],
   "metadata": {
    "collapsed": false,
    "ExecuteTime": {
     "end_time": "2024-03-31T12:51:35.678529Z",
     "start_time": "2024-03-31T12:39:24.341416Z"
    }
   },
   "id": "def335fd1303c0bf",
   "execution_count": 27
  },
  {
   "cell_type": "code",
   "outputs": [],
   "source": [
    "for_model = sum_df.drop(['NAME', 'ID', 'index'], axis=1)\n",
    "for_model.iloc[1000:].to_csv('for_model.csv', sep=',', index=False)\n",
    "for_model.iloc[:1000].to_csv('for_test.csv', sep=',', index=False)"
   ],
   "metadata": {
    "collapsed": false,
    "ExecuteTime": {
     "end_time": "2024-03-31T12:51:39.809145Z",
     "start_time": "2024-03-31T12:51:35.679772Z"
    }
   },
   "id": "dee6c7036a4b60cc",
   "execution_count": 28
  },
  {
   "cell_type": "code",
   "outputs": [],
   "source": [
    "for_test = []"
   ],
   "metadata": {
    "collapsed": false,
    "ExecuteTime": {
     "end_time": "2024-03-31T12:51:39.811823Z",
     "start_time": "2024-03-31T12:51:39.809938Z"
    }
   },
   "id": "809a4656fa7d3d0d",
   "execution_count": 29
  },
  {
   "cell_type": "code",
   "outputs": [
    {
     "data": {
      "text/plain": "       index         ID                                        NAME  COL_756   \n272      212    1500933    Дом по адресу Байкальская ул., д.18, к.2      124  \\\n95       363    1500943           Дом по адресу Перовская ул., д.48       74   \n84       438    1500951   Дом по адресу Парковая 3-я ул., д.39, к.3       79   \n484      838    1500954   Дом по адресу Свободный просп., д.11, к.2       92   \n236     1119    1500958     Дом по адресу Кусковская ул., д.23, к.1       87   \n..       ...        ...                                         ...      ...   \n6    1066418  451132136         Дом по адресу Черное Озеро ул., д.4      139   \n2    1066420  453685119       Дом по адресу Тюменский пр., д.3, к.1      139   \n0    1066427  463322754           Дом по адресу Плеханова ул., д.18      139   \n1    1066431  464022234       Дом по адресу Тюменский пр., д.3, к.5      139   \n3    1066440  464781953  Дом по адресу Парковая 15-я ул., д.42, к.5      139   \n\n     COL_757  COL_758 COL_759 COL_760 COL_761  COL_762  ...  COL_2463   \n272        1  2048798      18       2     148     5523  ...         3  \\\n95         1  2048912       4       2      20      584  ...         3   \n84         1  2048912       5       3      60     2181  ...         3   \n484        1  2048755       9      12     431     1796  ...         3   \n236        1  2048912       5       4      64     3588  ...         3   \n..       ...      ...     ...     ...     ...      ...  ...       ...   \n6          1        0       0       0       0     6022  ...         3   \n2          1        0       0       0       0     6022  ...         3   \n0          1        0       0       0       0     6022  ...         3   \n1          1        0       0       0       0     6022  ...         3   \n3          1        0       0       0       0     6022  ...         3   \n\n     COL_3163  COL_3243  COL_3363  COL_3468 WORK_NAME CREATE_DATE  CLOSE_DATE   \n272  58761330  45063584         0         0     140.0       360.0       459.0  \\\n95   58761330  45063584         0         0     166.0       355.0       360.0   \n84   58761330  45063584         0         0     300.0       364.0       365.0   \n484  58761330  45063584         0         0      68.0       362.0       458.0   \n236  58761330  45063584         0         0     104.0       363.0       460.0   \n..        ...       ...       ...       ...       ...         ...         ...   \n6    58761330  45063584         0         0     108.0       363.0       424.0   \n2    58761330  45063584         0         0     115.0       233.0       258.0   \n0    58761330  45063584         0         0     238.0       105.0       106.0   \n1    58761330  45063584         0         0     115.0       222.0       255.0   \n3    58761330  45063584         0         0     312.0       104.0       105.0   \n\n     SOURCE  WORK_CLASS  \n272     3.0        23.0  \n95      1.0        18.0  \n84      0.0        16.0  \n484     6.0        12.0  \n236     3.0        15.0  \n..      ...         ...  \n6       7.0        15.0  \n2       7.0         5.0  \n0       6.0        10.0  \n1       7.0         5.0  \n3       7.0         5.0  \n\n[6677 rows x 31 columns]",
      "text/html": "<div>\n<style scoped>\n    .dataframe tbody tr th:only-of-type {\n        vertical-align: middle;\n    }\n\n    .dataframe tbody tr th {\n        vertical-align: top;\n    }\n\n    .dataframe thead th {\n        text-align: right;\n    }\n</style>\n<table border=\"1\" class=\"dataframe\">\n  <thead>\n    <tr style=\"text-align: right;\">\n      <th></th>\n      <th>index</th>\n      <th>ID</th>\n      <th>NAME</th>\n      <th>COL_756</th>\n      <th>COL_757</th>\n      <th>COL_758</th>\n      <th>COL_759</th>\n      <th>COL_760</th>\n      <th>COL_761</th>\n      <th>COL_762</th>\n      <th>...</th>\n      <th>COL_2463</th>\n      <th>COL_3163</th>\n      <th>COL_3243</th>\n      <th>COL_3363</th>\n      <th>COL_3468</th>\n      <th>WORK_NAME</th>\n      <th>CREATE_DATE</th>\n      <th>CLOSE_DATE</th>\n      <th>SOURCE</th>\n      <th>WORK_CLASS</th>\n    </tr>\n  </thead>\n  <tbody>\n    <tr>\n      <th>272</th>\n      <td>212</td>\n      <td>1500933</td>\n      <td>Дом по адресу Байкальская ул., д.18, к.2</td>\n      <td>124</td>\n      <td>1</td>\n      <td>2048798</td>\n      <td>18</td>\n      <td>2</td>\n      <td>148</td>\n      <td>5523</td>\n      <td>...</td>\n      <td>3</td>\n      <td>58761330</td>\n      <td>45063584</td>\n      <td>0</td>\n      <td>0</td>\n      <td>140.0</td>\n      <td>360.0</td>\n      <td>459.0</td>\n      <td>3.0</td>\n      <td>23.0</td>\n    </tr>\n    <tr>\n      <th>95</th>\n      <td>363</td>\n      <td>1500943</td>\n      <td>Дом по адресу Перовская ул., д.48</td>\n      <td>74</td>\n      <td>1</td>\n      <td>2048912</td>\n      <td>4</td>\n      <td>2</td>\n      <td>20</td>\n      <td>584</td>\n      <td>...</td>\n      <td>3</td>\n      <td>58761330</td>\n      <td>45063584</td>\n      <td>0</td>\n      <td>0</td>\n      <td>166.0</td>\n      <td>355.0</td>\n      <td>360.0</td>\n      <td>1.0</td>\n      <td>18.0</td>\n    </tr>\n    <tr>\n      <th>84</th>\n      <td>438</td>\n      <td>1500951</td>\n      <td>Дом по адресу Парковая 3-я ул., д.39, к.3</td>\n      <td>79</td>\n      <td>1</td>\n      <td>2048912</td>\n      <td>5</td>\n      <td>3</td>\n      <td>60</td>\n      <td>2181</td>\n      <td>...</td>\n      <td>3</td>\n      <td>58761330</td>\n      <td>45063584</td>\n      <td>0</td>\n      <td>0</td>\n      <td>300.0</td>\n      <td>364.0</td>\n      <td>365.0</td>\n      <td>0.0</td>\n      <td>16.0</td>\n    </tr>\n    <tr>\n      <th>484</th>\n      <td>838</td>\n      <td>1500954</td>\n      <td>Дом по адресу Свободный просп., д.11, к.2</td>\n      <td>92</td>\n      <td>1</td>\n      <td>2048755</td>\n      <td>9</td>\n      <td>12</td>\n      <td>431</td>\n      <td>1796</td>\n      <td>...</td>\n      <td>3</td>\n      <td>58761330</td>\n      <td>45063584</td>\n      <td>0</td>\n      <td>0</td>\n      <td>68.0</td>\n      <td>362.0</td>\n      <td>458.0</td>\n      <td>6.0</td>\n      <td>12.0</td>\n    </tr>\n    <tr>\n      <th>236</th>\n      <td>1119</td>\n      <td>1500958</td>\n      <td>Дом по адресу Кусковская ул., д.23, к.1</td>\n      <td>87</td>\n      <td>1</td>\n      <td>2048912</td>\n      <td>5</td>\n      <td>4</td>\n      <td>64</td>\n      <td>3588</td>\n      <td>...</td>\n      <td>3</td>\n      <td>58761330</td>\n      <td>45063584</td>\n      <td>0</td>\n      <td>0</td>\n      <td>104.0</td>\n      <td>363.0</td>\n      <td>460.0</td>\n      <td>3.0</td>\n      <td>15.0</td>\n    </tr>\n    <tr>\n      <th>...</th>\n      <td>...</td>\n      <td>...</td>\n      <td>...</td>\n      <td>...</td>\n      <td>...</td>\n      <td>...</td>\n      <td>...</td>\n      <td>...</td>\n      <td>...</td>\n      <td>...</td>\n      <td>...</td>\n      <td>...</td>\n      <td>...</td>\n      <td>...</td>\n      <td>...</td>\n      <td>...</td>\n      <td>...</td>\n      <td>...</td>\n      <td>...</td>\n      <td>...</td>\n      <td>...</td>\n    </tr>\n    <tr>\n      <th>6</th>\n      <td>1066418</td>\n      <td>451132136</td>\n      <td>Дом по адресу Черное Озеро ул., д.4</td>\n      <td>139</td>\n      <td>1</td>\n      <td>0</td>\n      <td>0</td>\n      <td>0</td>\n      <td>0</td>\n      <td>6022</td>\n      <td>...</td>\n      <td>3</td>\n      <td>58761330</td>\n      <td>45063584</td>\n      <td>0</td>\n      <td>0</td>\n      <td>108.0</td>\n      <td>363.0</td>\n      <td>424.0</td>\n      <td>7.0</td>\n      <td>15.0</td>\n    </tr>\n    <tr>\n      <th>2</th>\n      <td>1066420</td>\n      <td>453685119</td>\n      <td>Дом по адресу Тюменский пр., д.3, к.1</td>\n      <td>139</td>\n      <td>1</td>\n      <td>0</td>\n      <td>0</td>\n      <td>0</td>\n      <td>0</td>\n      <td>6022</td>\n      <td>...</td>\n      <td>3</td>\n      <td>58761330</td>\n      <td>45063584</td>\n      <td>0</td>\n      <td>0</td>\n      <td>115.0</td>\n      <td>233.0</td>\n      <td>258.0</td>\n      <td>7.0</td>\n      <td>5.0</td>\n    </tr>\n    <tr>\n      <th>0</th>\n      <td>1066427</td>\n      <td>463322754</td>\n      <td>Дом по адресу Плеханова ул., д.18</td>\n      <td>139</td>\n      <td>1</td>\n      <td>0</td>\n      <td>0</td>\n      <td>0</td>\n      <td>0</td>\n      <td>6022</td>\n      <td>...</td>\n      <td>3</td>\n      <td>58761330</td>\n      <td>45063584</td>\n      <td>0</td>\n      <td>0</td>\n      <td>238.0</td>\n      <td>105.0</td>\n      <td>106.0</td>\n      <td>6.0</td>\n      <td>10.0</td>\n    </tr>\n    <tr>\n      <th>1</th>\n      <td>1066431</td>\n      <td>464022234</td>\n      <td>Дом по адресу Тюменский пр., д.3, к.5</td>\n      <td>139</td>\n      <td>1</td>\n      <td>0</td>\n      <td>0</td>\n      <td>0</td>\n      <td>0</td>\n      <td>6022</td>\n      <td>...</td>\n      <td>3</td>\n      <td>58761330</td>\n      <td>45063584</td>\n      <td>0</td>\n      <td>0</td>\n      <td>115.0</td>\n      <td>222.0</td>\n      <td>255.0</td>\n      <td>7.0</td>\n      <td>5.0</td>\n    </tr>\n    <tr>\n      <th>3</th>\n      <td>1066440</td>\n      <td>464781953</td>\n      <td>Дом по адресу Парковая 15-я ул., д.42, к.5</td>\n      <td>139</td>\n      <td>1</td>\n      <td>0</td>\n      <td>0</td>\n      <td>0</td>\n      <td>0</td>\n      <td>6022</td>\n      <td>...</td>\n      <td>3</td>\n      <td>58761330</td>\n      <td>45063584</td>\n      <td>0</td>\n      <td>0</td>\n      <td>312.0</td>\n      <td>104.0</td>\n      <td>105.0</td>\n      <td>7.0</td>\n      <td>5.0</td>\n    </tr>\n  </tbody>\n</table>\n<p>6677 rows × 31 columns</p>\n</div>"
     },
     "execution_count": 33,
     "metadata": {},
     "output_type": "execute_result"
    }
   ],
   "source": [
    "# sum_df = sum_df[sum_df['UNOM']]\n",
    "for_predict = (sum_df.groupby(\"ID\", as_index=False, group_keys=False).apply(lambda x: x.nlargest(1, \"UNOM\")))\n",
    "for_predict.drop(['index','WORK_CLASS'], axis=1).to_csv('for_predict_without_unom.csv', sep=',', index=False)\n",
    "for_predict"
   ],
   "metadata": {
    "collapsed": false,
    "ExecuteTime": {
     "end_time": "2024-03-31T12:53:57.202378Z",
     "start_time": "2024-03-31T12:53:52.931567Z"
    }
   },
   "id": "e6839cc511fe022b",
   "execution_count": 33
  },
  {
   "cell_type": "code",
   "outputs": [],
   "source": [
    "# # сохраняем для обучения\n",
    "# big_df.to_csv('/Users/sergeyesenin/PycharmProjects/hakaton2/backend/services/upload_data/src/servicedata_for_model2.csv', sep=',', index=False)\n"
   ],
   "metadata": {
    "collapsed": false,
    "ExecuteTime": {
     "end_time": "2024-03-31T12:51:44.071961Z",
     "start_time": "2024-03-31T12:51:44.069377Z"
    }
   },
   "id": "6b0921865f11f52e",
   "execution_count": 31
  },
  {
   "cell_type": "code",
   "outputs": [],
   "source": [
    "# # сохраняем для предикта\n",
    "# big_df.to_csv('/Users/sergeyesenin/PycharmProjects/hakaton2/backend/services/upload_data/src/servicedata_for_model2.csv', sep=',', index=False)"
   ],
   "metadata": {
    "collapsed": false,
    "ExecuteTime": {
     "end_time": "2024-03-31T12:51:44.074536Z",
     "start_time": "2024-03-31T12:51:44.072614Z"
    }
   },
   "id": "e6252cc47e2603f6",
   "execution_count": 32
  }
 ],
 "metadata": {
  "kernelspec": {
   "name": "python3",
   "language": "python",
   "display_name": "Python 3 (ipykernel)"
  }
 },
 "nbformat": 4,
 "nbformat_minor": 5
}
