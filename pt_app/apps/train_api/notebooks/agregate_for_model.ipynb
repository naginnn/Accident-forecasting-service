{
 "cells": [
  {
   "cell_type": "code",
   "execution_count": 113,
   "id": "initial_id",
   "metadata": {
    "collapsed": true,
    "ExecuteTime": {
     "end_time": "2024-06-13T08:33:34.297502Z",
     "start_time": "2024-06-13T08:33:34.290553Z"
    }
   },
   "outputs": [],
   "source": [
    "import pandas as pd\n",
    "import numpy as np\n",
    "from sqlalchemy import text as sa_text, select\n",
    "from sqlalchemy.orm import sessionmaker, Session\n",
    "from sqlalchemy import text as sa_text, Connection, create_engine, NullPool\n",
    "from sqlalchemy.ext.asyncio import create_async_engine, AsyncSession\n",
    "from sqlalchemy.orm import sessionmaker, Session\n",
    "import os"
   ]
  },
  {
   "cell_type": "code",
   "outputs": [],
   "source": [
    "PG_USR = os.getenv('POSTGRES_USER', 'username')\n",
    "PG_PWD = os.getenv('POSTGRES_PASSWORD', 'password')\n",
    "PG_HOST = os.getenv('POSTGRES_HOST', 'localhost')\n",
    "PG_PORT = os.getenv('POSTGRES_PORT', '5432')\n",
    "PG_DB_NAME = os.getenv('POSTGRES_DB', 'postgres')\n",
    "db = create_engine(f'postgresql://{PG_USR}:{PG_PWD}@{PG_HOST}:{PG_PORT}/{PG_DB_NAME}') "
   ],
   "metadata": {
    "collapsed": false,
    "ExecuteTime": {
     "end_time": "2024-06-13T08:33:34.329386Z",
     "start_time": "2024-06-13T08:33:34.324718Z"
    }
   },
   "id": "eac5aa79ea1c3a2c",
   "execution_count": 114
  },
  {
   "cell_type": "code",
   "outputs": [
    {
     "data": {
      "text/plain": "         id_x  obj_consumer_id counter_event_created  gcal_in_system  \\\n0         NaN             1952                   NaT             NaN   \n1         NaN             1952                   NaT             NaN   \n2         NaN             1952                   NaT             NaN   \n3         NaN             1952                   NaT             NaN   \n4         NaN             1952                   NaT             NaN   \n...       ...              ...                   ...             ...   \n1027914   NaN             1952                   NaT             NaN   \n1027915   NaN             1952                   NaT             NaN   \n1027916   NaN             1952                   NaT             NaN   \n1027917   NaN             1952                   NaT             NaN   \n1027918   NaN             1952                   NaT             NaN   \n\n         gcal_out_system  subset  leak  supply_temp  return_temp  \\\n0                    NaN     NaN   NaN          NaN          NaN   \n1                    NaN     NaN   NaN          NaN          NaN   \n2                    NaN     NaN   NaN          NaN          NaN   \n3                    NaN     NaN   NaN          NaN          NaN   \n4                    NaN     NaN   NaN          NaN          NaN   \n...                  ...     ...   ...          ...          ...   \n1027914              NaN     NaN   NaN          NaN          NaN   \n1027915              NaN     NaN   NaN          NaN          NaN   \n1027916              NaN     NaN   NaN          NaN          NaN   \n1027917              NaN     NaN   NaN          NaN          NaN   \n1027918              NaN     NaN   NaN          NaN          NaN   \n\n         heat_thermal_energy errors errors_desc     index  id_y  \\\n0                        NaN   None        None  101894.0   NaN   \n1                        NaN   None        None  101938.0   NaN   \n2                        NaN   None        None  103750.0   NaN   \n3                        NaN   None        None  104297.0   NaN   \n4                        NaN   None        None  104521.0   NaN   \n...                      ...    ...         ...       ...   ...   \n1027914                  NaN   None        None   73975.0   NaN   \n1027915                  NaN   None        None   76082.0   NaN   \n1027916                  NaN   None        None   77969.0   NaN   \n1027917                  NaN   None        None  100509.0   NaN   \n1027918                  NaN   None        None  100511.0   NaN   \n\n                                     description  days_of_work  \\\n0        Температура в квартире ниже нормативной           0.0   \n1        Температура в квартире ниже нормативной           0.0   \n2        Температура в квартире ниже нормативной           0.0   \n3        Температура в квартире ниже нормативной           0.0   \n4        Температура в квартире ниже нормативной           0.0   \n...                                          ...           ...   \n1027914  Температура в квартире ниже нормативной           0.0   \n1027915  Температура в квартире ниже нормативной           0.0   \n1027916  Температура в квартире ниже нормативной           0.0   \n1027917                                 T1 < min           0.0   \n1027918  Температура в квартире ниже нормативной           0.0   \n\n                    event_created                     event_closed       id  \n0       2024-05-09 15:15:07+00:00 2024-05-09 16:19:03.147000+00:00  40562.0  \n1       2024-05-09 15:31:40+00:00 2024-05-09 16:21:44.410000+00:00  40563.0  \n2       2024-05-11 11:08:03+00:00 2024-05-11 11:24:44.481000+00:00  40565.0  \n3       2024-05-12 11:34:49+00:00 2024-05-12 16:11:19.522000+00:00  40561.0  \n4       2024-05-12 17:59:13+00:00 2024-05-12 19:13:39.773000+00:00  40564.0  \n...                           ...                              ...      ...  \n1027914 2024-01-07 07:09:09+00:00 2024-01-07 08:22:44.252000+00:00  40555.0  \n1027915 2024-01-09 15:13:17+00:00 2024-01-09 18:44:59.085000+00:00  40556.0  \n1027916 2024-01-12 14:13:34+00:00 2024-01-12 15:23:20.596000+00:00  40557.0  \n1027917 2024-04-16 11:34:59+00:00 2024-04-16 11:43:25.884000+00:00  40559.0  \n1027918 2024-04-16 11:45:07+00:00 2024-04-16 13:46:29.564000+00:00  40560.0  \n\n[1027919 rows x 19 columns]",
      "text/html": "<div>\n<style scoped>\n    .dataframe tbody tr th:only-of-type {\n        vertical-align: middle;\n    }\n\n    .dataframe tbody tr th {\n        vertical-align: top;\n    }\n\n    .dataframe thead th {\n        text-align: right;\n    }\n</style>\n<table border=\"1\" class=\"dataframe\">\n  <thead>\n    <tr style=\"text-align: right;\">\n      <th></th>\n      <th>id_x</th>\n      <th>obj_consumer_id</th>\n      <th>counter_event_created</th>\n      <th>gcal_in_system</th>\n      <th>gcal_out_system</th>\n      <th>subset</th>\n      <th>leak</th>\n      <th>supply_temp</th>\n      <th>return_temp</th>\n      <th>heat_thermal_energy</th>\n      <th>errors</th>\n      <th>errors_desc</th>\n      <th>index</th>\n      <th>id_y</th>\n      <th>description</th>\n      <th>days_of_work</th>\n      <th>event_created</th>\n      <th>event_closed</th>\n      <th>id</th>\n    </tr>\n  </thead>\n  <tbody>\n    <tr>\n      <th>0</th>\n      <td>NaN</td>\n      <td>1952</td>\n      <td>NaT</td>\n      <td>NaN</td>\n      <td>NaN</td>\n      <td>NaN</td>\n      <td>NaN</td>\n      <td>NaN</td>\n      <td>NaN</td>\n      <td>NaN</td>\n      <td>None</td>\n      <td>None</td>\n      <td>101894.0</td>\n      <td>NaN</td>\n      <td>Температура в квартире ниже нормативной</td>\n      <td>0.0</td>\n      <td>2024-05-09 15:15:07+00:00</td>\n      <td>2024-05-09 16:19:03.147000+00:00</td>\n      <td>40562.0</td>\n    </tr>\n    <tr>\n      <th>1</th>\n      <td>NaN</td>\n      <td>1952</td>\n      <td>NaT</td>\n      <td>NaN</td>\n      <td>NaN</td>\n      <td>NaN</td>\n      <td>NaN</td>\n      <td>NaN</td>\n      <td>NaN</td>\n      <td>NaN</td>\n      <td>None</td>\n      <td>None</td>\n      <td>101938.0</td>\n      <td>NaN</td>\n      <td>Температура в квартире ниже нормативной</td>\n      <td>0.0</td>\n      <td>2024-05-09 15:31:40+00:00</td>\n      <td>2024-05-09 16:21:44.410000+00:00</td>\n      <td>40563.0</td>\n    </tr>\n    <tr>\n      <th>2</th>\n      <td>NaN</td>\n      <td>1952</td>\n      <td>NaT</td>\n      <td>NaN</td>\n      <td>NaN</td>\n      <td>NaN</td>\n      <td>NaN</td>\n      <td>NaN</td>\n      <td>NaN</td>\n      <td>NaN</td>\n      <td>None</td>\n      <td>None</td>\n      <td>103750.0</td>\n      <td>NaN</td>\n      <td>Температура в квартире ниже нормативной</td>\n      <td>0.0</td>\n      <td>2024-05-11 11:08:03+00:00</td>\n      <td>2024-05-11 11:24:44.481000+00:00</td>\n      <td>40565.0</td>\n    </tr>\n    <tr>\n      <th>3</th>\n      <td>NaN</td>\n      <td>1952</td>\n      <td>NaT</td>\n      <td>NaN</td>\n      <td>NaN</td>\n      <td>NaN</td>\n      <td>NaN</td>\n      <td>NaN</td>\n      <td>NaN</td>\n      <td>NaN</td>\n      <td>None</td>\n      <td>None</td>\n      <td>104297.0</td>\n      <td>NaN</td>\n      <td>Температура в квартире ниже нормативной</td>\n      <td>0.0</td>\n      <td>2024-05-12 11:34:49+00:00</td>\n      <td>2024-05-12 16:11:19.522000+00:00</td>\n      <td>40561.0</td>\n    </tr>\n    <tr>\n      <th>4</th>\n      <td>NaN</td>\n      <td>1952</td>\n      <td>NaT</td>\n      <td>NaN</td>\n      <td>NaN</td>\n      <td>NaN</td>\n      <td>NaN</td>\n      <td>NaN</td>\n      <td>NaN</td>\n      <td>NaN</td>\n      <td>None</td>\n      <td>None</td>\n      <td>104521.0</td>\n      <td>NaN</td>\n      <td>Температура в квартире ниже нормативной</td>\n      <td>0.0</td>\n      <td>2024-05-12 17:59:13+00:00</td>\n      <td>2024-05-12 19:13:39.773000+00:00</td>\n      <td>40564.0</td>\n    </tr>\n    <tr>\n      <th>...</th>\n      <td>...</td>\n      <td>...</td>\n      <td>...</td>\n      <td>...</td>\n      <td>...</td>\n      <td>...</td>\n      <td>...</td>\n      <td>...</td>\n      <td>...</td>\n      <td>...</td>\n      <td>...</td>\n      <td>...</td>\n      <td>...</td>\n      <td>...</td>\n      <td>...</td>\n      <td>...</td>\n      <td>...</td>\n      <td>...</td>\n      <td>...</td>\n    </tr>\n    <tr>\n      <th>1027914</th>\n      <td>NaN</td>\n      <td>1952</td>\n      <td>NaT</td>\n      <td>NaN</td>\n      <td>NaN</td>\n      <td>NaN</td>\n      <td>NaN</td>\n      <td>NaN</td>\n      <td>NaN</td>\n      <td>NaN</td>\n      <td>None</td>\n      <td>None</td>\n      <td>73975.0</td>\n      <td>NaN</td>\n      <td>Температура в квартире ниже нормативной</td>\n      <td>0.0</td>\n      <td>2024-01-07 07:09:09+00:00</td>\n      <td>2024-01-07 08:22:44.252000+00:00</td>\n      <td>40555.0</td>\n    </tr>\n    <tr>\n      <th>1027915</th>\n      <td>NaN</td>\n      <td>1952</td>\n      <td>NaT</td>\n      <td>NaN</td>\n      <td>NaN</td>\n      <td>NaN</td>\n      <td>NaN</td>\n      <td>NaN</td>\n      <td>NaN</td>\n      <td>NaN</td>\n      <td>None</td>\n      <td>None</td>\n      <td>76082.0</td>\n      <td>NaN</td>\n      <td>Температура в квартире ниже нормативной</td>\n      <td>0.0</td>\n      <td>2024-01-09 15:13:17+00:00</td>\n      <td>2024-01-09 18:44:59.085000+00:00</td>\n      <td>40556.0</td>\n    </tr>\n    <tr>\n      <th>1027916</th>\n      <td>NaN</td>\n      <td>1952</td>\n      <td>NaT</td>\n      <td>NaN</td>\n      <td>NaN</td>\n      <td>NaN</td>\n      <td>NaN</td>\n      <td>NaN</td>\n      <td>NaN</td>\n      <td>NaN</td>\n      <td>None</td>\n      <td>None</td>\n      <td>77969.0</td>\n      <td>NaN</td>\n      <td>Температура в квартире ниже нормативной</td>\n      <td>0.0</td>\n      <td>2024-01-12 14:13:34+00:00</td>\n      <td>2024-01-12 15:23:20.596000+00:00</td>\n      <td>40557.0</td>\n    </tr>\n    <tr>\n      <th>1027917</th>\n      <td>NaN</td>\n      <td>1952</td>\n      <td>NaT</td>\n      <td>NaN</td>\n      <td>NaN</td>\n      <td>NaN</td>\n      <td>NaN</td>\n      <td>NaN</td>\n      <td>NaN</td>\n      <td>NaN</td>\n      <td>None</td>\n      <td>None</td>\n      <td>100509.0</td>\n      <td>NaN</td>\n      <td>T1 &lt; min</td>\n      <td>0.0</td>\n      <td>2024-04-16 11:34:59+00:00</td>\n      <td>2024-04-16 11:43:25.884000+00:00</td>\n      <td>40559.0</td>\n    </tr>\n    <tr>\n      <th>1027918</th>\n      <td>NaN</td>\n      <td>1952</td>\n      <td>NaT</td>\n      <td>NaN</td>\n      <td>NaN</td>\n      <td>NaN</td>\n      <td>NaN</td>\n      <td>NaN</td>\n      <td>NaN</td>\n      <td>NaN</td>\n      <td>None</td>\n      <td>None</td>\n      <td>100511.0</td>\n      <td>NaN</td>\n      <td>Температура в квартире ниже нормативной</td>\n      <td>0.0</td>\n      <td>2024-04-16 11:45:07+00:00</td>\n      <td>2024-04-16 13:46:29.564000+00:00</td>\n      <td>40560.0</td>\n    </tr>\n  </tbody>\n</table>\n<p>1027919 rows × 19 columns</p>\n</div>"
     },
     "execution_count": 115,
     "metadata": {},
     "output_type": "execute_result"
    }
   ],
   "source": [
    "query = sa_text(\n",
    "    \"\"\"\n",
    "    select * from counter_consumer_events \n",
    "    \"\"\"\n",
    ")\n",
    "\n",
    "events = pd.read_sql(query, db)\n",
    "events"
   ],
   "metadata": {
    "collapsed": false,
    "ExecuteTime": {
     "end_time": "2024-06-13T08:33:39.963093Z",
     "start_time": "2024-06-13T08:33:34.347488Z"
    }
   },
   "id": "2ed560e45eb9be2c",
   "execution_count": 115
  },
  {
   "cell_type": "code",
   "outputs": [],
   "source": [
    "def set_date(x):\n",
    "    if not pd.isnull(x['counter_event_created']):\n",
    "        return x['counter_event_created']\n",
    "    if not pd.isnull(x['event_created']):\n",
    "        return x['event_created']\n",
    "    if not pd.isnull(x['event_closed']):\n",
    "        return x['event_closed']\n",
    "\n",
    "events['time'] = events.apply(lambda x: set_date(x), axis=1)"
   ],
   "metadata": {
    "collapsed": false,
    "ExecuteTime": {
     "end_time": "2024-06-13T08:33:45.923635Z",
     "start_time": "2024-06-13T08:33:39.964450Z"
    }
   },
   "id": "de2a793db0f8584f",
   "execution_count": 116
  },
  {
   "cell_type": "code",
   "outputs": [
    {
     "data": {
      "text/plain": "            id_x  obj_consumer_id     counter_event_created  gcal_in_system  \\\n831591  178741.0              469 2023-01-10 00:00:00+00:00        0.000000   \n80390   559892.0             2692 2023-01-10 00:00:00+00:00        0.000000   \n161050  662430.0             3316 2023-01-10 00:00:00+00:00        0.000000   \n982367  376390.0             1630 2023-01-10 00:00:00+00:00        0.000000   \n720784  471976.0             2213 2023-01-10 00:00:00+00:00        0.000000   \n...          ...              ...                       ...             ...   \n69618   542339.0             2594 2024-12-04 00:00:00+00:00      297.730469   \n695431  746900.0             3855 2024-12-04 00:00:00+00:00      100.356445   \n281078  821954.0             4327 2024-12-04 00:00:00+00:00       57.324707   \n688629  350290.0             1480 2024-12-04 00:00:00+00:00     1376.343750   \n494647  106320.0               18 2024-12-04 00:00:00+00:00      518.531250   \n\n        gcal_out_system     subset       leak  supply_temp  return_temp  \\\n831591        12.628906  12.628906   0.000000    25.477112    24.542732   \n80390          0.000000   0.000000   0.000000    20.970274    21.338549   \n161050         0.000000   0.000000   0.000000    26.364866    26.209284   \n982367         0.000000   0.000000   0.000000    20.160000    21.190000   \n720784         0.670000   0.670000   0.000000    37.133333    33.558333   \n...                 ...        ...        ...          ...          ...   \n69618        297.095703   0.000000   0.634766    50.991959    42.348549   \n695431       100.247070   0.000000   0.109375    50.997219    42.635006   \n281078        55.939453   0.000000   1.385254    71.071175    45.890194   \n688629      1373.921875   0.000000   2.421875    45.299179    41.217026   \n494647       502.652344   0.000000  15.878906    41.182510    37.696396   \n\n        heat_thermal_energy errors  \\\n831591             0.000000      U   \n80390              0.000000      0   \n161050             0.000000      0   \n982367             0.000000    D,E   \n720784             0.000000      g   \n...                     ...    ...   \n69618              2.544800      U   \n695431             0.840821      0   \n281078             1.443954      0   \n688629             5.631714      U   \n494647             1.804230      0   \n\n                                              errors_desc  index  id_y  \\\n831591                          Отсутствие электропитания    NaN   NaN   \n80390                                                  na    NaN   NaN   \n161050                                                 na    NaN   NaN   \n982367  Разница температур в подающем и обратном трубо...    NaN   NaN   \n720784                         Расход меньше минимального    NaN   NaN   \n...                                                   ...    ...   ...   \n69618                           Отсутствие электропитания    NaN   NaN   \n695431                                                 na    NaN   NaN   \n281078                                                 na    NaN   NaN   \n688629                          Отсутствие электропитания    NaN   NaN   \n494647                                                 na    NaN   NaN   \n\n       description  days_of_work event_created event_closed  id  \\\n831591        None           NaN           NaT          NaT NaN   \n80390         None           NaN           NaT          NaT NaN   \n161050        None           NaN           NaT          NaT NaN   \n982367        None           NaN           NaT          NaT NaN   \n720784        None           NaN           NaT          NaT NaN   \n...            ...           ...           ...          ...  ..   \n69618         None           NaN           NaT          NaT NaN   \n695431        None           NaN           NaT          NaT NaN   \n281078        None           NaN           NaT          NaT NaN   \n688629        None           NaN           NaT          NaT NaN   \n494647        None           NaN           NaT          NaT NaN   \n\n                            time  \n831591 2023-01-10 00:00:00+00:00  \n80390  2023-01-10 00:00:00+00:00  \n161050 2023-01-10 00:00:00+00:00  \n982367 2023-01-10 00:00:00+00:00  \n720784 2023-01-10 00:00:00+00:00  \n...                          ...  \n69618  2024-12-04 00:00:00+00:00  \n695431 2024-12-04 00:00:00+00:00  \n281078 2024-12-04 00:00:00+00:00  \n688629 2024-12-04 00:00:00+00:00  \n494647 2024-12-04 00:00:00+00:00  \n\n[1027919 rows x 20 columns]",
      "text/html": "<div>\n<style scoped>\n    .dataframe tbody tr th:only-of-type {\n        vertical-align: middle;\n    }\n\n    .dataframe tbody tr th {\n        vertical-align: top;\n    }\n\n    .dataframe thead th {\n        text-align: right;\n    }\n</style>\n<table border=\"1\" class=\"dataframe\">\n  <thead>\n    <tr style=\"text-align: right;\">\n      <th></th>\n      <th>id_x</th>\n      <th>obj_consumer_id</th>\n      <th>counter_event_created</th>\n      <th>gcal_in_system</th>\n      <th>gcal_out_system</th>\n      <th>subset</th>\n      <th>leak</th>\n      <th>supply_temp</th>\n      <th>return_temp</th>\n      <th>heat_thermal_energy</th>\n      <th>errors</th>\n      <th>errors_desc</th>\n      <th>index</th>\n      <th>id_y</th>\n      <th>description</th>\n      <th>days_of_work</th>\n      <th>event_created</th>\n      <th>event_closed</th>\n      <th>id</th>\n      <th>time</th>\n    </tr>\n  </thead>\n  <tbody>\n    <tr>\n      <th>831591</th>\n      <td>178741.0</td>\n      <td>469</td>\n      <td>2023-01-10 00:00:00+00:00</td>\n      <td>0.000000</td>\n      <td>12.628906</td>\n      <td>12.628906</td>\n      <td>0.000000</td>\n      <td>25.477112</td>\n      <td>24.542732</td>\n      <td>0.000000</td>\n      <td>U</td>\n      <td>Отсутствие электропитания</td>\n      <td>NaN</td>\n      <td>NaN</td>\n      <td>None</td>\n      <td>NaN</td>\n      <td>NaT</td>\n      <td>NaT</td>\n      <td>NaN</td>\n      <td>2023-01-10 00:00:00+00:00</td>\n    </tr>\n    <tr>\n      <th>80390</th>\n      <td>559892.0</td>\n      <td>2692</td>\n      <td>2023-01-10 00:00:00+00:00</td>\n      <td>0.000000</td>\n      <td>0.000000</td>\n      <td>0.000000</td>\n      <td>0.000000</td>\n      <td>20.970274</td>\n      <td>21.338549</td>\n      <td>0.000000</td>\n      <td>0</td>\n      <td>na</td>\n      <td>NaN</td>\n      <td>NaN</td>\n      <td>None</td>\n      <td>NaN</td>\n      <td>NaT</td>\n      <td>NaT</td>\n      <td>NaN</td>\n      <td>2023-01-10 00:00:00+00:00</td>\n    </tr>\n    <tr>\n      <th>161050</th>\n      <td>662430.0</td>\n      <td>3316</td>\n      <td>2023-01-10 00:00:00+00:00</td>\n      <td>0.000000</td>\n      <td>0.000000</td>\n      <td>0.000000</td>\n      <td>0.000000</td>\n      <td>26.364866</td>\n      <td>26.209284</td>\n      <td>0.000000</td>\n      <td>0</td>\n      <td>na</td>\n      <td>NaN</td>\n      <td>NaN</td>\n      <td>None</td>\n      <td>NaN</td>\n      <td>NaT</td>\n      <td>NaT</td>\n      <td>NaN</td>\n      <td>2023-01-10 00:00:00+00:00</td>\n    </tr>\n    <tr>\n      <th>982367</th>\n      <td>376390.0</td>\n      <td>1630</td>\n      <td>2023-01-10 00:00:00+00:00</td>\n      <td>0.000000</td>\n      <td>0.000000</td>\n      <td>0.000000</td>\n      <td>0.000000</td>\n      <td>20.160000</td>\n      <td>21.190000</td>\n      <td>0.000000</td>\n      <td>D,E</td>\n      <td>Разница температур в подающем и обратном трубо...</td>\n      <td>NaN</td>\n      <td>NaN</td>\n      <td>None</td>\n      <td>NaN</td>\n      <td>NaT</td>\n      <td>NaT</td>\n      <td>NaN</td>\n      <td>2023-01-10 00:00:00+00:00</td>\n    </tr>\n    <tr>\n      <th>720784</th>\n      <td>471976.0</td>\n      <td>2213</td>\n      <td>2023-01-10 00:00:00+00:00</td>\n      <td>0.000000</td>\n      <td>0.670000</td>\n      <td>0.670000</td>\n      <td>0.000000</td>\n      <td>37.133333</td>\n      <td>33.558333</td>\n      <td>0.000000</td>\n      <td>g</td>\n      <td>Расход меньше минимального</td>\n      <td>NaN</td>\n      <td>NaN</td>\n      <td>None</td>\n      <td>NaN</td>\n      <td>NaT</td>\n      <td>NaT</td>\n      <td>NaN</td>\n      <td>2023-01-10 00:00:00+00:00</td>\n    </tr>\n    <tr>\n      <th>...</th>\n      <td>...</td>\n      <td>...</td>\n      <td>...</td>\n      <td>...</td>\n      <td>...</td>\n      <td>...</td>\n      <td>...</td>\n      <td>...</td>\n      <td>...</td>\n      <td>...</td>\n      <td>...</td>\n      <td>...</td>\n      <td>...</td>\n      <td>...</td>\n      <td>...</td>\n      <td>...</td>\n      <td>...</td>\n      <td>...</td>\n      <td>...</td>\n      <td>...</td>\n    </tr>\n    <tr>\n      <th>69618</th>\n      <td>542339.0</td>\n      <td>2594</td>\n      <td>2024-12-04 00:00:00+00:00</td>\n      <td>297.730469</td>\n      <td>297.095703</td>\n      <td>0.000000</td>\n      <td>0.634766</td>\n      <td>50.991959</td>\n      <td>42.348549</td>\n      <td>2.544800</td>\n      <td>U</td>\n      <td>Отсутствие электропитания</td>\n      <td>NaN</td>\n      <td>NaN</td>\n      <td>None</td>\n      <td>NaN</td>\n      <td>NaT</td>\n      <td>NaT</td>\n      <td>NaN</td>\n      <td>2024-12-04 00:00:00+00:00</td>\n    </tr>\n    <tr>\n      <th>695431</th>\n      <td>746900.0</td>\n      <td>3855</td>\n      <td>2024-12-04 00:00:00+00:00</td>\n      <td>100.356445</td>\n      <td>100.247070</td>\n      <td>0.000000</td>\n      <td>0.109375</td>\n      <td>50.997219</td>\n      <td>42.635006</td>\n      <td>0.840821</td>\n      <td>0</td>\n      <td>na</td>\n      <td>NaN</td>\n      <td>NaN</td>\n      <td>None</td>\n      <td>NaN</td>\n      <td>NaT</td>\n      <td>NaT</td>\n      <td>NaN</td>\n      <td>2024-12-04 00:00:00+00:00</td>\n    </tr>\n    <tr>\n      <th>281078</th>\n      <td>821954.0</td>\n      <td>4327</td>\n      <td>2024-12-04 00:00:00+00:00</td>\n      <td>57.324707</td>\n      <td>55.939453</td>\n      <td>0.000000</td>\n      <td>1.385254</td>\n      <td>71.071175</td>\n      <td>45.890194</td>\n      <td>1.443954</td>\n      <td>0</td>\n      <td>na</td>\n      <td>NaN</td>\n      <td>NaN</td>\n      <td>None</td>\n      <td>NaN</td>\n      <td>NaT</td>\n      <td>NaT</td>\n      <td>NaN</td>\n      <td>2024-12-04 00:00:00+00:00</td>\n    </tr>\n    <tr>\n      <th>688629</th>\n      <td>350290.0</td>\n      <td>1480</td>\n      <td>2024-12-04 00:00:00+00:00</td>\n      <td>1376.343750</td>\n      <td>1373.921875</td>\n      <td>0.000000</td>\n      <td>2.421875</td>\n      <td>45.299179</td>\n      <td>41.217026</td>\n      <td>5.631714</td>\n      <td>U</td>\n      <td>Отсутствие электропитания</td>\n      <td>NaN</td>\n      <td>NaN</td>\n      <td>None</td>\n      <td>NaN</td>\n      <td>NaT</td>\n      <td>NaT</td>\n      <td>NaN</td>\n      <td>2024-12-04 00:00:00+00:00</td>\n    </tr>\n    <tr>\n      <th>494647</th>\n      <td>106320.0</td>\n      <td>18</td>\n      <td>2024-12-04 00:00:00+00:00</td>\n      <td>518.531250</td>\n      <td>502.652344</td>\n      <td>0.000000</td>\n      <td>15.878906</td>\n      <td>41.182510</td>\n      <td>37.696396</td>\n      <td>1.804230</td>\n      <td>0</td>\n      <td>na</td>\n      <td>NaN</td>\n      <td>NaN</td>\n      <td>None</td>\n      <td>NaN</td>\n      <td>NaT</td>\n      <td>NaT</td>\n      <td>NaN</td>\n      <td>2024-12-04 00:00:00+00:00</td>\n    </tr>\n  </tbody>\n</table>\n<p>1027919 rows × 20 columns</p>\n</div>"
     },
     "execution_count": 117,
     "metadata": {},
     "output_type": "execute_result"
    }
   ],
   "source": [
    "events = events.sort_values(by='time', ascending=True)\n",
    "events"
   ],
   "metadata": {
    "collapsed": false,
    "ExecuteTime": {
     "end_time": "2024-06-13T08:33:46.052347Z",
     "start_time": "2024-06-13T08:33:45.924762Z"
    }
   },
   "id": "4317deec4563afc7",
   "execution_count": 117
  },
  {
   "cell_type": "code",
   "outputs": [
    {
     "data": {
      "text/plain": "            id_x  obj_consumer_id     counter_event_created  gcal_in_system  \\\n831591  178741.0              469 2023-01-10 00:00:00+00:00        0.000000   \n80390   559892.0             2692 2023-01-10 00:00:00+00:00        0.000000   \n161050  662430.0             3316 2023-01-10 00:00:00+00:00        0.000000   \n982367  376390.0             1630 2023-01-10 00:00:00+00:00        0.000000   \n720784  471976.0             2213 2023-01-10 00:00:00+00:00        0.000000   \n...          ...              ...                       ...             ...   \n69618   542339.0             2594 2024-12-04 00:00:00+00:00      297.730469   \n695431  746900.0             3855 2024-12-04 00:00:00+00:00      100.356445   \n281078  821954.0             4327 2024-12-04 00:00:00+00:00       57.324707   \n688629  350290.0             1480 2024-12-04 00:00:00+00:00     1376.343750   \n494647  106320.0               18 2024-12-04 00:00:00+00:00      518.531250   \n\n        gcal_out_system     subset       leak  supply_temp  return_temp  \\\n831591        12.628906  12.628906   0.000000    25.477112    24.542732   \n80390          0.000000   0.000000   0.000000    20.970274    21.338549   \n161050         0.000000   0.000000   0.000000    26.364866    26.209284   \n982367         0.000000   0.000000   0.000000    20.160000    21.190000   \n720784         0.670000   0.670000   0.000000    37.133333    33.558333   \n...                 ...        ...        ...          ...          ...   \n69618        297.095703   0.000000   0.634766    50.991959    42.348549   \n695431       100.247070   0.000000   0.109375    50.997219    42.635006   \n281078        55.939453   0.000000   1.385254    71.071175    45.890194   \n688629      1373.921875   0.000000   2.421875    45.299179    41.217026   \n494647       502.652344   0.000000  15.878906    41.182510    37.696396   \n\n        heat_thermal_energy errors  \\\n831591             0.000000      U   \n80390              0.000000      0   \n161050             0.000000      0   \n982367             0.000000    D,E   \n720784             0.000000      g   \n...                     ...    ...   \n69618              2.544800      U   \n695431             0.840821      0   \n281078             1.443954      0   \n688629             5.631714      U   \n494647             1.804230      0   \n\n                                              errors_desc  index  id_y  \\\n831591                          Отсутствие электропитания    NaN   NaN   \n80390                                                  na    NaN   NaN   \n161050                                                 na    NaN   NaN   \n982367  Разница температур в подающем и обратном трубо...    NaN   NaN   \n720784                         Расход меньше минимального    NaN   NaN   \n...                                                   ...    ...   ...   \n69618                           Отсутствие электропитания    NaN   NaN   \n695431                                                 na    NaN   NaN   \n281078                                                 na    NaN   NaN   \n688629                          Отсутствие электропитания    NaN   NaN   \n494647                                                 na    NaN   NaN   \n\n       description  days_of_work event_created event_closed  id  \\\n831591        None           NaN           NaT          NaT NaN   \n80390         None           NaN           NaT          NaT NaN   \n161050        None           NaN           NaT          NaT NaN   \n982367        None           NaN           NaT          NaT NaN   \n720784        None           NaN           NaT          NaT NaN   \n...            ...           ...           ...          ...  ..   \n69618         None           NaN           NaT          NaT NaN   \n695431        None           NaN           NaT          NaT NaN   \n281078        None           NaN           NaT          NaT NaN   \n688629        None           NaN           NaT          NaT NaN   \n494647        None           NaN           NaT          NaT NaN   \n\n                            time  \n831591 2023-01-10 00:00:00+00:00  \n80390  2023-01-10 00:00:00+00:00  \n161050 2023-01-10 00:00:00+00:00  \n982367 2023-01-10 00:00:00+00:00  \n720784 2023-01-10 00:00:00+00:00  \n...                          ...  \n69618  2024-12-04 00:00:00+00:00  \n695431 2024-12-04 00:00:00+00:00  \n281078 2024-12-04 00:00:00+00:00  \n688629 2024-12-04 00:00:00+00:00  \n494647 2024-12-04 00:00:00+00:00  \n\n[1027919 rows x 20 columns]",
      "text/html": "<div>\n<style scoped>\n    .dataframe tbody tr th:only-of-type {\n        vertical-align: middle;\n    }\n\n    .dataframe tbody tr th {\n        vertical-align: top;\n    }\n\n    .dataframe thead th {\n        text-align: right;\n    }\n</style>\n<table border=\"1\" class=\"dataframe\">\n  <thead>\n    <tr style=\"text-align: right;\">\n      <th></th>\n      <th>id_x</th>\n      <th>obj_consumer_id</th>\n      <th>counter_event_created</th>\n      <th>gcal_in_system</th>\n      <th>gcal_out_system</th>\n      <th>subset</th>\n      <th>leak</th>\n      <th>supply_temp</th>\n      <th>return_temp</th>\n      <th>heat_thermal_energy</th>\n      <th>errors</th>\n      <th>errors_desc</th>\n      <th>index</th>\n      <th>id_y</th>\n      <th>description</th>\n      <th>days_of_work</th>\n      <th>event_created</th>\n      <th>event_closed</th>\n      <th>id</th>\n      <th>time</th>\n    </tr>\n  </thead>\n  <tbody>\n    <tr>\n      <th>831591</th>\n      <td>178741.0</td>\n      <td>469</td>\n      <td>2023-01-10 00:00:00+00:00</td>\n      <td>0.000000</td>\n      <td>12.628906</td>\n      <td>12.628906</td>\n      <td>0.000000</td>\n      <td>25.477112</td>\n      <td>24.542732</td>\n      <td>0.000000</td>\n      <td>U</td>\n      <td>Отсутствие электропитания</td>\n      <td>NaN</td>\n      <td>NaN</td>\n      <td>None</td>\n      <td>NaN</td>\n      <td>NaT</td>\n      <td>NaT</td>\n      <td>NaN</td>\n      <td>2023-01-10 00:00:00+00:00</td>\n    </tr>\n    <tr>\n      <th>80390</th>\n      <td>559892.0</td>\n      <td>2692</td>\n      <td>2023-01-10 00:00:00+00:00</td>\n      <td>0.000000</td>\n      <td>0.000000</td>\n      <td>0.000000</td>\n      <td>0.000000</td>\n      <td>20.970274</td>\n      <td>21.338549</td>\n      <td>0.000000</td>\n      <td>0</td>\n      <td>na</td>\n      <td>NaN</td>\n      <td>NaN</td>\n      <td>None</td>\n      <td>NaN</td>\n      <td>NaT</td>\n      <td>NaT</td>\n      <td>NaN</td>\n      <td>2023-01-10 00:00:00+00:00</td>\n    </tr>\n    <tr>\n      <th>161050</th>\n      <td>662430.0</td>\n      <td>3316</td>\n      <td>2023-01-10 00:00:00+00:00</td>\n      <td>0.000000</td>\n      <td>0.000000</td>\n      <td>0.000000</td>\n      <td>0.000000</td>\n      <td>26.364866</td>\n      <td>26.209284</td>\n      <td>0.000000</td>\n      <td>0</td>\n      <td>na</td>\n      <td>NaN</td>\n      <td>NaN</td>\n      <td>None</td>\n      <td>NaN</td>\n      <td>NaT</td>\n      <td>NaT</td>\n      <td>NaN</td>\n      <td>2023-01-10 00:00:00+00:00</td>\n    </tr>\n    <tr>\n      <th>982367</th>\n      <td>376390.0</td>\n      <td>1630</td>\n      <td>2023-01-10 00:00:00+00:00</td>\n      <td>0.000000</td>\n      <td>0.000000</td>\n      <td>0.000000</td>\n      <td>0.000000</td>\n      <td>20.160000</td>\n      <td>21.190000</td>\n      <td>0.000000</td>\n      <td>D,E</td>\n      <td>Разница температур в подающем и обратном трубо...</td>\n      <td>NaN</td>\n      <td>NaN</td>\n      <td>None</td>\n      <td>NaN</td>\n      <td>NaT</td>\n      <td>NaT</td>\n      <td>NaN</td>\n      <td>2023-01-10 00:00:00+00:00</td>\n    </tr>\n    <tr>\n      <th>720784</th>\n      <td>471976.0</td>\n      <td>2213</td>\n      <td>2023-01-10 00:00:00+00:00</td>\n      <td>0.000000</td>\n      <td>0.670000</td>\n      <td>0.670000</td>\n      <td>0.000000</td>\n      <td>37.133333</td>\n      <td>33.558333</td>\n      <td>0.000000</td>\n      <td>g</td>\n      <td>Расход меньше минимального</td>\n      <td>NaN</td>\n      <td>NaN</td>\n      <td>None</td>\n      <td>NaN</td>\n      <td>NaT</td>\n      <td>NaT</td>\n      <td>NaN</td>\n      <td>2023-01-10 00:00:00+00:00</td>\n    </tr>\n    <tr>\n      <th>...</th>\n      <td>...</td>\n      <td>...</td>\n      <td>...</td>\n      <td>...</td>\n      <td>...</td>\n      <td>...</td>\n      <td>...</td>\n      <td>...</td>\n      <td>...</td>\n      <td>...</td>\n      <td>...</td>\n      <td>...</td>\n      <td>...</td>\n      <td>...</td>\n      <td>...</td>\n      <td>...</td>\n      <td>...</td>\n      <td>...</td>\n      <td>...</td>\n      <td>...</td>\n    </tr>\n    <tr>\n      <th>69618</th>\n      <td>542339.0</td>\n      <td>2594</td>\n      <td>2024-12-04 00:00:00+00:00</td>\n      <td>297.730469</td>\n      <td>297.095703</td>\n      <td>0.000000</td>\n      <td>0.634766</td>\n      <td>50.991959</td>\n      <td>42.348549</td>\n      <td>2.544800</td>\n      <td>U</td>\n      <td>Отсутствие электропитания</td>\n      <td>NaN</td>\n      <td>NaN</td>\n      <td>None</td>\n      <td>NaN</td>\n      <td>NaT</td>\n      <td>NaT</td>\n      <td>NaN</td>\n      <td>2024-12-04 00:00:00+00:00</td>\n    </tr>\n    <tr>\n      <th>695431</th>\n      <td>746900.0</td>\n      <td>3855</td>\n      <td>2024-12-04 00:00:00+00:00</td>\n      <td>100.356445</td>\n      <td>100.247070</td>\n      <td>0.000000</td>\n      <td>0.109375</td>\n      <td>50.997219</td>\n      <td>42.635006</td>\n      <td>0.840821</td>\n      <td>0</td>\n      <td>na</td>\n      <td>NaN</td>\n      <td>NaN</td>\n      <td>None</td>\n      <td>NaN</td>\n      <td>NaT</td>\n      <td>NaT</td>\n      <td>NaN</td>\n      <td>2024-12-04 00:00:00+00:00</td>\n    </tr>\n    <tr>\n      <th>281078</th>\n      <td>821954.0</td>\n      <td>4327</td>\n      <td>2024-12-04 00:00:00+00:00</td>\n      <td>57.324707</td>\n      <td>55.939453</td>\n      <td>0.000000</td>\n      <td>1.385254</td>\n      <td>71.071175</td>\n      <td>45.890194</td>\n      <td>1.443954</td>\n      <td>0</td>\n      <td>na</td>\n      <td>NaN</td>\n      <td>NaN</td>\n      <td>None</td>\n      <td>NaN</td>\n      <td>NaT</td>\n      <td>NaT</td>\n      <td>NaN</td>\n      <td>2024-12-04 00:00:00+00:00</td>\n    </tr>\n    <tr>\n      <th>688629</th>\n      <td>350290.0</td>\n      <td>1480</td>\n      <td>2024-12-04 00:00:00+00:00</td>\n      <td>1376.343750</td>\n      <td>1373.921875</td>\n      <td>0.000000</td>\n      <td>2.421875</td>\n      <td>45.299179</td>\n      <td>41.217026</td>\n      <td>5.631714</td>\n      <td>U</td>\n      <td>Отсутствие электропитания</td>\n      <td>NaN</td>\n      <td>NaN</td>\n      <td>None</td>\n      <td>NaN</td>\n      <td>NaT</td>\n      <td>NaT</td>\n      <td>NaN</td>\n      <td>2024-12-04 00:00:00+00:00</td>\n    </tr>\n    <tr>\n      <th>494647</th>\n      <td>106320.0</td>\n      <td>18</td>\n      <td>2024-12-04 00:00:00+00:00</td>\n      <td>518.531250</td>\n      <td>502.652344</td>\n      <td>0.000000</td>\n      <td>15.878906</td>\n      <td>41.182510</td>\n      <td>37.696396</td>\n      <td>1.804230</td>\n      <td>0</td>\n      <td>na</td>\n      <td>NaN</td>\n      <td>NaN</td>\n      <td>None</td>\n      <td>NaN</td>\n      <td>NaT</td>\n      <td>NaT</td>\n      <td>NaN</td>\n      <td>2024-12-04 00:00:00+00:00</td>\n    </tr>\n  </tbody>\n</table>\n<p>1027919 rows × 20 columns</p>\n</div>"
     },
     "execution_count": 118,
     "metadata": {},
     "output_type": "execute_result"
    }
   ],
   "source": [
    "# events.drop(columns=['id_y', 'id_x', 'index', 'id'], inplace=True, axis=1)\n",
    "events.reset_index()\n",
    "events"
   ],
   "metadata": {
    "collapsed": false,
    "ExecuteTime": {
     "end_time": "2024-06-13T08:33:46.112094Z",
     "start_time": "2024-06-13T08:33:46.053905Z"
    }
   },
   "id": "169ab315e09ed38",
   "execution_count": 118
  },
  {
   "cell_type": "code",
   "outputs": [
    {
     "data": {
      "text/plain": "['P1 <= 0',\n 'P2 <= 0',\n 'T1 > max',\n 'T1 < min',\n 'Авария',\n 'Недостаточная температура подачи ЦО (Недотоп)',\n 'Превышение температуры подачи ЦО (Перетоп)',\n 'Утечка теплоносителя',\n 'Течь в системе отопления',\n 'Температура в квартире ниже нормативной',\n 'Крупные пожары',\n 'Температура в помещении общего пользования ниже нормативной',\n 'Аварийная протечка труб в подъезде',\n 'Протечка труб в подъезде',\n 'Отсутствие отопления в доме',\n 'Сильная течь в системе отопления']"
     },
     "execution_count": 119,
     "metadata": {},
     "output_type": "execute_result"
    }
   ],
   "source": [
    "\n",
    "query = sa_text(\n",
    "    \"\"\"\n",
    "    select * from public.event_types \n",
    "    \"\"\"\n",
    ")\n",
    "\n",
    "events_classes = pd.read_sql(query, db)\n",
    "events_classes = events_classes.set_index('event_name').T.to_dict('index').get('id')\n",
    "keys = list(events_classes.keys())\n",
    "keys"
   ],
   "metadata": {
    "collapsed": false,
    "ExecuteTime": {
     "end_time": "2024-06-13T08:33:46.133959Z",
     "start_time": "2024-06-13T08:33:46.113207Z"
    }
   },
   "id": "69c1a9ccb77b365a",
   "execution_count": 119
  },
  {
   "cell_type": "code",
   "outputs": [
    {
     "data": {
      "text/plain": "            id_x  obj_consumer_id     counter_event_created  gcal_in_system  \\\n831591  178741.0              469 2023-01-10 00:00:00+00:00        0.000000   \n80390   559892.0             2692 2023-01-10 00:00:00+00:00        0.000000   \n161050  662430.0             3316 2023-01-10 00:00:00+00:00        0.000000   \n982367  376390.0             1630 2023-01-10 00:00:00+00:00        0.000000   \n720784  471976.0             2213 2023-01-10 00:00:00+00:00        0.000000   \n...          ...              ...                       ...             ...   \n69618   542339.0             2594 2024-12-04 00:00:00+00:00      297.730469   \n695431  746900.0             3855 2024-12-04 00:00:00+00:00      100.356445   \n281078  821954.0             4327 2024-12-04 00:00:00+00:00       57.324707   \n688629  350290.0             1480 2024-12-04 00:00:00+00:00     1376.343750   \n494647  106320.0               18 2024-12-04 00:00:00+00:00      518.531250   \n\n        gcal_out_system     subset       leak  supply_temp  return_temp  \\\n831591        12.628906  12.628906   0.000000    25.477112    24.542732   \n80390          0.000000   0.000000   0.000000    20.970274    21.338549   \n161050         0.000000   0.000000   0.000000    26.364866    26.209284   \n982367         0.000000   0.000000   0.000000    20.160000    21.190000   \n720784         0.670000   0.670000   0.000000    37.133333    33.558333   \n...                 ...        ...        ...          ...          ...   \n69618        297.095703   0.000000   0.634766    50.991959    42.348549   \n695431       100.247070   0.000000   0.109375    50.997219    42.635006   \n281078        55.939453   0.000000   1.385254    71.071175    45.890194   \n688629      1373.921875   0.000000   2.421875    45.299179    41.217026   \n494647       502.652344   0.000000  15.878906    41.182510    37.696396   \n\n        heat_thermal_energy  ...  \\\n831591             0.000000  ...   \n80390              0.000000  ...   \n161050             0.000000  ...   \n982367             0.000000  ...   \n720784             0.000000  ...   \n...                     ...  ...   \n69618              2.544800  ...   \n695431             0.840821  ...   \n281078             1.443954  ...   \n688629             5.631714  ...   \n494647             1.804230  ...   \n\n                                              errors_desc index  id_y  \\\n831591                          Отсутствие электропитания   NaN   NaN   \n80390                                                  na   NaN   NaN   \n161050                                                 na   NaN   NaN   \n982367  Разница температур в подающем и обратном трубо...   NaN   NaN   \n720784                         Расход меньше минимального   NaN   NaN   \n...                                                   ...   ...   ...   \n69618                           Отсутствие электропитания   NaN   NaN   \n695431                                                 na   NaN   NaN   \n281078                                                 na   NaN   NaN   \n688629                          Отсутствие электропитания   NaN   NaN   \n494647                                                 na   NaN   NaN   \n\n        description days_of_work  event_created event_closed  id  \\\n831591         None          NaN            NaT          NaT NaN   \n80390          None          NaN            NaT          NaT NaN   \n161050         None          NaN            NaT          NaT NaN   \n982367         None          NaN            NaT          NaT NaN   \n720784         None          NaN            NaT          NaT NaN   \n...             ...          ...            ...          ...  ..   \n69618          None          NaN            NaT          NaT NaN   \n695431         None          NaN            NaT          NaT NaN   \n281078         None          NaN            NaT          NaT NaN   \n688629         None          NaN            NaT          NaT NaN   \n494647         None          NaN            NaT          NaT NaN   \n\n                            time event_class  \n831591 2023-01-10 00:00:00+00:00           0  \n80390  2023-01-10 00:00:00+00:00           0  \n161050 2023-01-10 00:00:00+00:00           0  \n982367 2023-01-10 00:00:00+00:00           0  \n720784 2023-01-10 00:00:00+00:00           0  \n...                          ...         ...  \n69618  2024-12-04 00:00:00+00:00           0  \n695431 2024-12-04 00:00:00+00:00           0  \n281078 2024-12-04 00:00:00+00:00           0  \n688629 2024-12-04 00:00:00+00:00           0  \n494647 2024-12-04 00:00:00+00:00           0  \n\n[1027919 rows x 21 columns]",
      "text/html": "<div>\n<style scoped>\n    .dataframe tbody tr th:only-of-type {\n        vertical-align: middle;\n    }\n\n    .dataframe tbody tr th {\n        vertical-align: top;\n    }\n\n    .dataframe thead th {\n        text-align: right;\n    }\n</style>\n<table border=\"1\" class=\"dataframe\">\n  <thead>\n    <tr style=\"text-align: right;\">\n      <th></th>\n      <th>id_x</th>\n      <th>obj_consumer_id</th>\n      <th>counter_event_created</th>\n      <th>gcal_in_system</th>\n      <th>gcal_out_system</th>\n      <th>subset</th>\n      <th>leak</th>\n      <th>supply_temp</th>\n      <th>return_temp</th>\n      <th>heat_thermal_energy</th>\n      <th>...</th>\n      <th>errors_desc</th>\n      <th>index</th>\n      <th>id_y</th>\n      <th>description</th>\n      <th>days_of_work</th>\n      <th>event_created</th>\n      <th>event_closed</th>\n      <th>id</th>\n      <th>time</th>\n      <th>event_class</th>\n    </tr>\n  </thead>\n  <tbody>\n    <tr>\n      <th>831591</th>\n      <td>178741.0</td>\n      <td>469</td>\n      <td>2023-01-10 00:00:00+00:00</td>\n      <td>0.000000</td>\n      <td>12.628906</td>\n      <td>12.628906</td>\n      <td>0.000000</td>\n      <td>25.477112</td>\n      <td>24.542732</td>\n      <td>0.000000</td>\n      <td>...</td>\n      <td>Отсутствие электропитания</td>\n      <td>NaN</td>\n      <td>NaN</td>\n      <td>None</td>\n      <td>NaN</td>\n      <td>NaT</td>\n      <td>NaT</td>\n      <td>NaN</td>\n      <td>2023-01-10 00:00:00+00:00</td>\n      <td>0</td>\n    </tr>\n    <tr>\n      <th>80390</th>\n      <td>559892.0</td>\n      <td>2692</td>\n      <td>2023-01-10 00:00:00+00:00</td>\n      <td>0.000000</td>\n      <td>0.000000</td>\n      <td>0.000000</td>\n      <td>0.000000</td>\n      <td>20.970274</td>\n      <td>21.338549</td>\n      <td>0.000000</td>\n      <td>...</td>\n      <td>na</td>\n      <td>NaN</td>\n      <td>NaN</td>\n      <td>None</td>\n      <td>NaN</td>\n      <td>NaT</td>\n      <td>NaT</td>\n      <td>NaN</td>\n      <td>2023-01-10 00:00:00+00:00</td>\n      <td>0</td>\n    </tr>\n    <tr>\n      <th>161050</th>\n      <td>662430.0</td>\n      <td>3316</td>\n      <td>2023-01-10 00:00:00+00:00</td>\n      <td>0.000000</td>\n      <td>0.000000</td>\n      <td>0.000000</td>\n      <td>0.000000</td>\n      <td>26.364866</td>\n      <td>26.209284</td>\n      <td>0.000000</td>\n      <td>...</td>\n      <td>na</td>\n      <td>NaN</td>\n      <td>NaN</td>\n      <td>None</td>\n      <td>NaN</td>\n      <td>NaT</td>\n      <td>NaT</td>\n      <td>NaN</td>\n      <td>2023-01-10 00:00:00+00:00</td>\n      <td>0</td>\n    </tr>\n    <tr>\n      <th>982367</th>\n      <td>376390.0</td>\n      <td>1630</td>\n      <td>2023-01-10 00:00:00+00:00</td>\n      <td>0.000000</td>\n      <td>0.000000</td>\n      <td>0.000000</td>\n      <td>0.000000</td>\n      <td>20.160000</td>\n      <td>21.190000</td>\n      <td>0.000000</td>\n      <td>...</td>\n      <td>Разница температур в подающем и обратном трубо...</td>\n      <td>NaN</td>\n      <td>NaN</td>\n      <td>None</td>\n      <td>NaN</td>\n      <td>NaT</td>\n      <td>NaT</td>\n      <td>NaN</td>\n      <td>2023-01-10 00:00:00+00:00</td>\n      <td>0</td>\n    </tr>\n    <tr>\n      <th>720784</th>\n      <td>471976.0</td>\n      <td>2213</td>\n      <td>2023-01-10 00:00:00+00:00</td>\n      <td>0.000000</td>\n      <td>0.670000</td>\n      <td>0.670000</td>\n      <td>0.000000</td>\n      <td>37.133333</td>\n      <td>33.558333</td>\n      <td>0.000000</td>\n      <td>...</td>\n      <td>Расход меньше минимального</td>\n      <td>NaN</td>\n      <td>NaN</td>\n      <td>None</td>\n      <td>NaN</td>\n      <td>NaT</td>\n      <td>NaT</td>\n      <td>NaN</td>\n      <td>2023-01-10 00:00:00+00:00</td>\n      <td>0</td>\n    </tr>\n    <tr>\n      <th>...</th>\n      <td>...</td>\n      <td>...</td>\n      <td>...</td>\n      <td>...</td>\n      <td>...</td>\n      <td>...</td>\n      <td>...</td>\n      <td>...</td>\n      <td>...</td>\n      <td>...</td>\n      <td>...</td>\n      <td>...</td>\n      <td>...</td>\n      <td>...</td>\n      <td>...</td>\n      <td>...</td>\n      <td>...</td>\n      <td>...</td>\n      <td>...</td>\n      <td>...</td>\n      <td>...</td>\n    </tr>\n    <tr>\n      <th>69618</th>\n      <td>542339.0</td>\n      <td>2594</td>\n      <td>2024-12-04 00:00:00+00:00</td>\n      <td>297.730469</td>\n      <td>297.095703</td>\n      <td>0.000000</td>\n      <td>0.634766</td>\n      <td>50.991959</td>\n      <td>42.348549</td>\n      <td>2.544800</td>\n      <td>...</td>\n      <td>Отсутствие электропитания</td>\n      <td>NaN</td>\n      <td>NaN</td>\n      <td>None</td>\n      <td>NaN</td>\n      <td>NaT</td>\n      <td>NaT</td>\n      <td>NaN</td>\n      <td>2024-12-04 00:00:00+00:00</td>\n      <td>0</td>\n    </tr>\n    <tr>\n      <th>695431</th>\n      <td>746900.0</td>\n      <td>3855</td>\n      <td>2024-12-04 00:00:00+00:00</td>\n      <td>100.356445</td>\n      <td>100.247070</td>\n      <td>0.000000</td>\n      <td>0.109375</td>\n      <td>50.997219</td>\n      <td>42.635006</td>\n      <td>0.840821</td>\n      <td>...</td>\n      <td>na</td>\n      <td>NaN</td>\n      <td>NaN</td>\n      <td>None</td>\n      <td>NaN</td>\n      <td>NaT</td>\n      <td>NaT</td>\n      <td>NaN</td>\n      <td>2024-12-04 00:00:00+00:00</td>\n      <td>0</td>\n    </tr>\n    <tr>\n      <th>281078</th>\n      <td>821954.0</td>\n      <td>4327</td>\n      <td>2024-12-04 00:00:00+00:00</td>\n      <td>57.324707</td>\n      <td>55.939453</td>\n      <td>0.000000</td>\n      <td>1.385254</td>\n      <td>71.071175</td>\n      <td>45.890194</td>\n      <td>1.443954</td>\n      <td>...</td>\n      <td>na</td>\n      <td>NaN</td>\n      <td>NaN</td>\n      <td>None</td>\n      <td>NaN</td>\n      <td>NaT</td>\n      <td>NaT</td>\n      <td>NaN</td>\n      <td>2024-12-04 00:00:00+00:00</td>\n      <td>0</td>\n    </tr>\n    <tr>\n      <th>688629</th>\n      <td>350290.0</td>\n      <td>1480</td>\n      <td>2024-12-04 00:00:00+00:00</td>\n      <td>1376.343750</td>\n      <td>1373.921875</td>\n      <td>0.000000</td>\n      <td>2.421875</td>\n      <td>45.299179</td>\n      <td>41.217026</td>\n      <td>5.631714</td>\n      <td>...</td>\n      <td>Отсутствие электропитания</td>\n      <td>NaN</td>\n      <td>NaN</td>\n      <td>None</td>\n      <td>NaN</td>\n      <td>NaT</td>\n      <td>NaT</td>\n      <td>NaN</td>\n      <td>2024-12-04 00:00:00+00:00</td>\n      <td>0</td>\n    </tr>\n    <tr>\n      <th>494647</th>\n      <td>106320.0</td>\n      <td>18</td>\n      <td>2024-12-04 00:00:00+00:00</td>\n      <td>518.531250</td>\n      <td>502.652344</td>\n      <td>0.000000</td>\n      <td>15.878906</td>\n      <td>41.182510</td>\n      <td>37.696396</td>\n      <td>1.804230</td>\n      <td>...</td>\n      <td>na</td>\n      <td>NaN</td>\n      <td>NaN</td>\n      <td>None</td>\n      <td>NaN</td>\n      <td>NaT</td>\n      <td>NaT</td>\n      <td>NaN</td>\n      <td>2024-12-04 00:00:00+00:00</td>\n      <td>0</td>\n    </tr>\n  </tbody>\n</table>\n<p>1027919 rows × 21 columns</p>\n</div>"
     },
     "execution_count": 120,
     "metadata": {},
     "output_type": "execute_result"
    }
   ],
   "source": [
    "def set_event_class(x, events_classes: dict, keys: list):\n",
    "    if x in keys:\n",
    "        return events_classes.get(x)\n",
    "    # return 1\n",
    "    return 0\n",
    "\n",
    "events['event_class'] = events['description'].apply(lambda x: set_event_class(x, events_classes, keys))\n",
    "events"
   ],
   "metadata": {
    "collapsed": false,
    "ExecuteTime": {
     "end_time": "2024-06-13T08:33:46.687439Z",
     "start_time": "2024-06-13T08:33:46.134885Z"
    }
   },
   "id": "2a2587c8a878a1d",
   "execution_count": 120
  },
  {
   "cell_type": "code",
   "outputs": [
    {
     "data": {
      "text/plain": "        obj_consumer_id  gcal_in_system  gcal_out_system     subset  \\\n831591              469        0.000000        12.628906  12.628906   \n80390              2692        0.000000         0.000000   0.000000   \n161050             3316        0.000000         0.000000   0.000000   \n982367             1630        0.000000         0.000000   0.000000   \n720784             2213        0.000000         0.670000   0.670000   \n...                 ...             ...              ...        ...   \n69618              2594      297.730469       297.095703   0.000000   \n695431             3855      100.356445       100.247070   0.000000   \n281078             4327       57.324707        55.939453   0.000000   \n688629             1480     1376.343750      1373.921875   0.000000   \n494647               18      518.531250       502.652344   0.000000   \n\n             leak  supply_temp  return_temp  heat_thermal_energy errors  \\\n831591   0.000000    25.477112    24.542732             0.000000      U   \n80390    0.000000    20.970274    21.338549             0.000000      0   \n161050   0.000000    26.364866    26.209284             0.000000      0   \n982367   0.000000    20.160000    21.190000             0.000000    D,E   \n720784   0.000000    37.133333    33.558333             0.000000      g   \n...           ...          ...          ...                  ...    ...   \n69618    0.634766    50.991959    42.348549             2.544800      U   \n695431   0.109375    50.997219    42.635006             0.840821      0   \n281078   1.385254    71.071175    45.890194             1.443954      0   \n688629   2.421875    45.299179    41.217026             5.631714      U   \n494647  15.878906    41.182510    37.696396             1.804230      0   \n\n        days_of_work                      time  event_class  \n831591           NaN 2023-01-10 00:00:00+00:00            0  \n80390            NaN 2023-01-10 00:00:00+00:00            0  \n161050           NaN 2023-01-10 00:00:00+00:00            0  \n982367           NaN 2023-01-10 00:00:00+00:00            0  \n720784           NaN 2023-01-10 00:00:00+00:00            0  \n...              ...                       ...          ...  \n69618            NaN 2024-12-04 00:00:00+00:00            0  \n695431           NaN 2024-12-04 00:00:00+00:00            0  \n281078           NaN 2024-12-04 00:00:00+00:00            0  \n688629           NaN 2024-12-04 00:00:00+00:00            0  \n494647           NaN 2024-12-04 00:00:00+00:00            0  \n\n[1027919 rows x 12 columns]",
      "text/html": "<div>\n<style scoped>\n    .dataframe tbody tr th:only-of-type {\n        vertical-align: middle;\n    }\n\n    .dataframe tbody tr th {\n        vertical-align: top;\n    }\n\n    .dataframe thead th {\n        text-align: right;\n    }\n</style>\n<table border=\"1\" class=\"dataframe\">\n  <thead>\n    <tr style=\"text-align: right;\">\n      <th></th>\n      <th>obj_consumer_id</th>\n      <th>gcal_in_system</th>\n      <th>gcal_out_system</th>\n      <th>subset</th>\n      <th>leak</th>\n      <th>supply_temp</th>\n      <th>return_temp</th>\n      <th>heat_thermal_energy</th>\n      <th>errors</th>\n      <th>days_of_work</th>\n      <th>time</th>\n      <th>event_class</th>\n    </tr>\n  </thead>\n  <tbody>\n    <tr>\n      <th>831591</th>\n      <td>469</td>\n      <td>0.000000</td>\n      <td>12.628906</td>\n      <td>12.628906</td>\n      <td>0.000000</td>\n      <td>25.477112</td>\n      <td>24.542732</td>\n      <td>0.000000</td>\n      <td>U</td>\n      <td>NaN</td>\n      <td>2023-01-10 00:00:00+00:00</td>\n      <td>0</td>\n    </tr>\n    <tr>\n      <th>80390</th>\n      <td>2692</td>\n      <td>0.000000</td>\n      <td>0.000000</td>\n      <td>0.000000</td>\n      <td>0.000000</td>\n      <td>20.970274</td>\n      <td>21.338549</td>\n      <td>0.000000</td>\n      <td>0</td>\n      <td>NaN</td>\n      <td>2023-01-10 00:00:00+00:00</td>\n      <td>0</td>\n    </tr>\n    <tr>\n      <th>161050</th>\n      <td>3316</td>\n      <td>0.000000</td>\n      <td>0.000000</td>\n      <td>0.000000</td>\n      <td>0.000000</td>\n      <td>26.364866</td>\n      <td>26.209284</td>\n      <td>0.000000</td>\n      <td>0</td>\n      <td>NaN</td>\n      <td>2023-01-10 00:00:00+00:00</td>\n      <td>0</td>\n    </tr>\n    <tr>\n      <th>982367</th>\n      <td>1630</td>\n      <td>0.000000</td>\n      <td>0.000000</td>\n      <td>0.000000</td>\n      <td>0.000000</td>\n      <td>20.160000</td>\n      <td>21.190000</td>\n      <td>0.000000</td>\n      <td>D,E</td>\n      <td>NaN</td>\n      <td>2023-01-10 00:00:00+00:00</td>\n      <td>0</td>\n    </tr>\n    <tr>\n      <th>720784</th>\n      <td>2213</td>\n      <td>0.000000</td>\n      <td>0.670000</td>\n      <td>0.670000</td>\n      <td>0.000000</td>\n      <td>37.133333</td>\n      <td>33.558333</td>\n      <td>0.000000</td>\n      <td>g</td>\n      <td>NaN</td>\n      <td>2023-01-10 00:00:00+00:00</td>\n      <td>0</td>\n    </tr>\n    <tr>\n      <th>...</th>\n      <td>...</td>\n      <td>...</td>\n      <td>...</td>\n      <td>...</td>\n      <td>...</td>\n      <td>...</td>\n      <td>...</td>\n      <td>...</td>\n      <td>...</td>\n      <td>...</td>\n      <td>...</td>\n      <td>...</td>\n    </tr>\n    <tr>\n      <th>69618</th>\n      <td>2594</td>\n      <td>297.730469</td>\n      <td>297.095703</td>\n      <td>0.000000</td>\n      <td>0.634766</td>\n      <td>50.991959</td>\n      <td>42.348549</td>\n      <td>2.544800</td>\n      <td>U</td>\n      <td>NaN</td>\n      <td>2024-12-04 00:00:00+00:00</td>\n      <td>0</td>\n    </tr>\n    <tr>\n      <th>695431</th>\n      <td>3855</td>\n      <td>100.356445</td>\n      <td>100.247070</td>\n      <td>0.000000</td>\n      <td>0.109375</td>\n      <td>50.997219</td>\n      <td>42.635006</td>\n      <td>0.840821</td>\n      <td>0</td>\n      <td>NaN</td>\n      <td>2024-12-04 00:00:00+00:00</td>\n      <td>0</td>\n    </tr>\n    <tr>\n      <th>281078</th>\n      <td>4327</td>\n      <td>57.324707</td>\n      <td>55.939453</td>\n      <td>0.000000</td>\n      <td>1.385254</td>\n      <td>71.071175</td>\n      <td>45.890194</td>\n      <td>1.443954</td>\n      <td>0</td>\n      <td>NaN</td>\n      <td>2024-12-04 00:00:00+00:00</td>\n      <td>0</td>\n    </tr>\n    <tr>\n      <th>688629</th>\n      <td>1480</td>\n      <td>1376.343750</td>\n      <td>1373.921875</td>\n      <td>0.000000</td>\n      <td>2.421875</td>\n      <td>45.299179</td>\n      <td>41.217026</td>\n      <td>5.631714</td>\n      <td>U</td>\n      <td>NaN</td>\n      <td>2024-12-04 00:00:00+00:00</td>\n      <td>0</td>\n    </tr>\n    <tr>\n      <th>494647</th>\n      <td>18</td>\n      <td>518.531250</td>\n      <td>502.652344</td>\n      <td>0.000000</td>\n      <td>15.878906</td>\n      <td>41.182510</td>\n      <td>37.696396</td>\n      <td>1.804230</td>\n      <td>0</td>\n      <td>NaN</td>\n      <td>2024-12-04 00:00:00+00:00</td>\n      <td>0</td>\n    </tr>\n  </tbody>\n</table>\n<p>1027919 rows × 12 columns</p>\n</div>"
     },
     "execution_count": 121,
     "metadata": {},
     "output_type": "execute_result"
    }
   ],
   "source": [
    "events.drop(columns=['id_y', 'id_x', 'index', 'id', 'description', 'counter_event_created', 'event_created', 'event_closed', 'errors_desc'], inplace=True, axis=1)\n",
    "events"
   ],
   "metadata": {
    "collapsed": false,
    "ExecuteTime": {
     "end_time": "2024-06-13T08:33:46.723881Z",
     "start_time": "2024-06-13T08:33:46.688590Z"
    }
   },
   "id": "f95ca05fd43d151c",
   "execution_count": 121
  },
  {
   "cell_type": "code",
   "outputs": [
    {
     "data": {
      "text/plain": "        obj_consumer_id  gcal_in_system  gcal_out_system     subset  \\\n831591              469        0.000000        12.628906  12.628906   \n80390              2692        0.000000         0.000000   0.000000   \n161050             3316        0.000000         0.000000   0.000000   \n982367             1630        0.000000         0.000000   0.000000   \n720784             2213        0.000000         0.670000   0.670000   \n...                 ...             ...              ...        ...   \n69618              2594      297.730469       297.095703   0.000000   \n695431             3855      100.356445       100.247070   0.000000   \n281078             4327       57.324707        55.939453   0.000000   \n688629             1480     1376.343750      1373.921875   0.000000   \n494647               18      518.531250       502.652344   0.000000   \n\n             leak  supply_temp  return_temp  heat_thermal_energy errors  \\\n831591   0.000000    25.477112    24.542732             0.000000      U   \n80390    0.000000    20.970274    21.338549             0.000000      0   \n161050   0.000000    26.364866    26.209284             0.000000      0   \n982367   0.000000    20.160000    21.190000             0.000000    D,E   \n720784   0.000000    37.133333    33.558333             0.000000      g   \n...           ...          ...          ...                  ...    ...   \n69618    0.634766    50.991959    42.348549             2.544800      U   \n695431   0.109375    50.997219    42.635006             0.840821      0   \n281078   1.385254    71.071175    45.890194             1.443954      0   \n688629   2.421875    45.299179    41.217026             5.631714      U   \n494647  15.878906    41.182510    37.696396             1.804230      0   \n\n        days_of_work                      time  event_class  year  month  \\\n831591           NaN 2023-01-10 00:00:00+00:00            0  2023      1   \n80390            NaN 2023-01-10 00:00:00+00:00            0  2023      1   \n161050           NaN 2023-01-10 00:00:00+00:00            0  2023      1   \n982367           NaN 2023-01-10 00:00:00+00:00            0  2023      1   \n720784           NaN 2023-01-10 00:00:00+00:00            0  2023      1   \n...              ...                       ...          ...   ...    ...   \n69618            NaN 2024-12-04 00:00:00+00:00            0  2024     12   \n695431           NaN 2024-12-04 00:00:00+00:00            0  2024     12   \n281078           NaN 2024-12-04 00:00:00+00:00            0  2024     12   \n688629           NaN 2024-12-04 00:00:00+00:00            0  2024     12   \n494647           NaN 2024-12-04 00:00:00+00:00            0  2024     12   \n\n        season  day  day_of_week  is_weekend  \n831591       1   10            1           0  \n80390        1   10            1           0  \n161050       1   10            1           0  \n982367       1   10            1           0  \n720784       1   10            1           0  \n...        ...  ...          ...         ...  \n69618        1    4            2           0  \n695431       1    4            2           0  \n281078       1    4            2           0  \n688629       1    4            2           0  \n494647       1    4            2           0  \n\n[1027919 rows x 18 columns]",
      "text/html": "<div>\n<style scoped>\n    .dataframe tbody tr th:only-of-type {\n        vertical-align: middle;\n    }\n\n    .dataframe tbody tr th {\n        vertical-align: top;\n    }\n\n    .dataframe thead th {\n        text-align: right;\n    }\n</style>\n<table border=\"1\" class=\"dataframe\">\n  <thead>\n    <tr style=\"text-align: right;\">\n      <th></th>\n      <th>obj_consumer_id</th>\n      <th>gcal_in_system</th>\n      <th>gcal_out_system</th>\n      <th>subset</th>\n      <th>leak</th>\n      <th>supply_temp</th>\n      <th>return_temp</th>\n      <th>heat_thermal_energy</th>\n      <th>errors</th>\n      <th>days_of_work</th>\n      <th>time</th>\n      <th>event_class</th>\n      <th>year</th>\n      <th>month</th>\n      <th>season</th>\n      <th>day</th>\n      <th>day_of_week</th>\n      <th>is_weekend</th>\n    </tr>\n  </thead>\n  <tbody>\n    <tr>\n      <th>831591</th>\n      <td>469</td>\n      <td>0.000000</td>\n      <td>12.628906</td>\n      <td>12.628906</td>\n      <td>0.000000</td>\n      <td>25.477112</td>\n      <td>24.542732</td>\n      <td>0.000000</td>\n      <td>U</td>\n      <td>NaN</td>\n      <td>2023-01-10 00:00:00+00:00</td>\n      <td>0</td>\n      <td>2023</td>\n      <td>1</td>\n      <td>1</td>\n      <td>10</td>\n      <td>1</td>\n      <td>0</td>\n    </tr>\n    <tr>\n      <th>80390</th>\n      <td>2692</td>\n      <td>0.000000</td>\n      <td>0.000000</td>\n      <td>0.000000</td>\n      <td>0.000000</td>\n      <td>20.970274</td>\n      <td>21.338549</td>\n      <td>0.000000</td>\n      <td>0</td>\n      <td>NaN</td>\n      <td>2023-01-10 00:00:00+00:00</td>\n      <td>0</td>\n      <td>2023</td>\n      <td>1</td>\n      <td>1</td>\n      <td>10</td>\n      <td>1</td>\n      <td>0</td>\n    </tr>\n    <tr>\n      <th>161050</th>\n      <td>3316</td>\n      <td>0.000000</td>\n      <td>0.000000</td>\n      <td>0.000000</td>\n      <td>0.000000</td>\n      <td>26.364866</td>\n      <td>26.209284</td>\n      <td>0.000000</td>\n      <td>0</td>\n      <td>NaN</td>\n      <td>2023-01-10 00:00:00+00:00</td>\n      <td>0</td>\n      <td>2023</td>\n      <td>1</td>\n      <td>1</td>\n      <td>10</td>\n      <td>1</td>\n      <td>0</td>\n    </tr>\n    <tr>\n      <th>982367</th>\n      <td>1630</td>\n      <td>0.000000</td>\n      <td>0.000000</td>\n      <td>0.000000</td>\n      <td>0.000000</td>\n      <td>20.160000</td>\n      <td>21.190000</td>\n      <td>0.000000</td>\n      <td>D,E</td>\n      <td>NaN</td>\n      <td>2023-01-10 00:00:00+00:00</td>\n      <td>0</td>\n      <td>2023</td>\n      <td>1</td>\n      <td>1</td>\n      <td>10</td>\n      <td>1</td>\n      <td>0</td>\n    </tr>\n    <tr>\n      <th>720784</th>\n      <td>2213</td>\n      <td>0.000000</td>\n      <td>0.670000</td>\n      <td>0.670000</td>\n      <td>0.000000</td>\n      <td>37.133333</td>\n      <td>33.558333</td>\n      <td>0.000000</td>\n      <td>g</td>\n      <td>NaN</td>\n      <td>2023-01-10 00:00:00+00:00</td>\n      <td>0</td>\n      <td>2023</td>\n      <td>1</td>\n      <td>1</td>\n      <td>10</td>\n      <td>1</td>\n      <td>0</td>\n    </tr>\n    <tr>\n      <th>...</th>\n      <td>...</td>\n      <td>...</td>\n      <td>...</td>\n      <td>...</td>\n      <td>...</td>\n      <td>...</td>\n      <td>...</td>\n      <td>...</td>\n      <td>...</td>\n      <td>...</td>\n      <td>...</td>\n      <td>...</td>\n      <td>...</td>\n      <td>...</td>\n      <td>...</td>\n      <td>...</td>\n      <td>...</td>\n      <td>...</td>\n    </tr>\n    <tr>\n      <th>69618</th>\n      <td>2594</td>\n      <td>297.730469</td>\n      <td>297.095703</td>\n      <td>0.000000</td>\n      <td>0.634766</td>\n      <td>50.991959</td>\n      <td>42.348549</td>\n      <td>2.544800</td>\n      <td>U</td>\n      <td>NaN</td>\n      <td>2024-12-04 00:00:00+00:00</td>\n      <td>0</td>\n      <td>2024</td>\n      <td>12</td>\n      <td>1</td>\n      <td>4</td>\n      <td>2</td>\n      <td>0</td>\n    </tr>\n    <tr>\n      <th>695431</th>\n      <td>3855</td>\n      <td>100.356445</td>\n      <td>100.247070</td>\n      <td>0.000000</td>\n      <td>0.109375</td>\n      <td>50.997219</td>\n      <td>42.635006</td>\n      <td>0.840821</td>\n      <td>0</td>\n      <td>NaN</td>\n      <td>2024-12-04 00:00:00+00:00</td>\n      <td>0</td>\n      <td>2024</td>\n      <td>12</td>\n      <td>1</td>\n      <td>4</td>\n      <td>2</td>\n      <td>0</td>\n    </tr>\n    <tr>\n      <th>281078</th>\n      <td>4327</td>\n      <td>57.324707</td>\n      <td>55.939453</td>\n      <td>0.000000</td>\n      <td>1.385254</td>\n      <td>71.071175</td>\n      <td>45.890194</td>\n      <td>1.443954</td>\n      <td>0</td>\n      <td>NaN</td>\n      <td>2024-12-04 00:00:00+00:00</td>\n      <td>0</td>\n      <td>2024</td>\n      <td>12</td>\n      <td>1</td>\n      <td>4</td>\n      <td>2</td>\n      <td>0</td>\n    </tr>\n    <tr>\n      <th>688629</th>\n      <td>1480</td>\n      <td>1376.343750</td>\n      <td>1373.921875</td>\n      <td>0.000000</td>\n      <td>2.421875</td>\n      <td>45.299179</td>\n      <td>41.217026</td>\n      <td>5.631714</td>\n      <td>U</td>\n      <td>NaN</td>\n      <td>2024-12-04 00:00:00+00:00</td>\n      <td>0</td>\n      <td>2024</td>\n      <td>12</td>\n      <td>1</td>\n      <td>4</td>\n      <td>2</td>\n      <td>0</td>\n    </tr>\n    <tr>\n      <th>494647</th>\n      <td>18</td>\n      <td>518.531250</td>\n      <td>502.652344</td>\n      <td>0.000000</td>\n      <td>15.878906</td>\n      <td>41.182510</td>\n      <td>37.696396</td>\n      <td>1.804230</td>\n      <td>0</td>\n      <td>NaN</td>\n      <td>2024-12-04 00:00:00+00:00</td>\n      <td>0</td>\n      <td>2024</td>\n      <td>12</td>\n      <td>1</td>\n      <td>4</td>\n      <td>2</td>\n      <td>0</td>\n    </tr>\n  </tbody>\n</table>\n<p>1027919 rows × 18 columns</p>\n</div>"
     },
     "execution_count": 122,
     "metadata": {},
     "output_type": "execute_result"
    }
   ],
   "source": [
    "events['year'] = events['time'].dt.year\n",
    "events['month'] = events['time'].dt.month\n",
    "events['season'] = events['month'] % 12 // 3 + 1\n",
    "events['day'] = events['time'].dt.day\n",
    "# df['work_time'] = (df['event_closed'] - df['event_created']).dt.days\n",
    "events['day_of_week'] = events['time'].dt.dayofweek\n",
    "events['is_weekend'] = events['day_of_week'].apply(lambda x: 1 if x >= 5 else 0)\n",
    "events"
   ],
   "metadata": {
    "collapsed": false,
    "ExecuteTime": {
     "end_time": "2024-06-13T08:33:46.960322Z",
     "start_time": "2024-06-13T08:33:46.724765Z"
    }
   },
   "id": "fadd678001177e24",
   "execution_count": 122
  },
  {
   "cell_type": "code",
   "outputs": [
    {
     "data": {
      "text/plain": "        obj_consumer_id  gcal_in_system  gcal_out_system     subset  \\\n831591              469        0.000000        12.628906  12.628906   \n80390              2692        0.000000         0.000000   0.000000   \n161050             3316        0.000000         0.000000   0.000000   \n982367             1630        0.000000         0.000000   0.000000   \n720784             2213        0.000000         0.670000   0.670000   \n...                 ...             ...              ...        ...   \n69618              2594      297.730469       297.095703   0.000000   \n695431             3855      100.356445       100.247070   0.000000   \n281078             4327       57.324707        55.939453   0.000000   \n688629             1480     1376.343750      1373.921875   0.000000   \n494647               18      518.531250       502.652344   0.000000   \n\n             leak  supply_temp  return_temp  heat_thermal_energy errors  \\\n831591   0.000000    25.477112    24.542732             0.000000      U   \n80390    0.000000    20.970274    21.338549             0.000000      0   \n161050   0.000000    26.364866    26.209284             0.000000      0   \n982367   0.000000    20.160000    21.190000             0.000000    D,E   \n720784   0.000000    37.133333    33.558333             0.000000      g   \n...           ...          ...          ...                  ...    ...   \n69618    0.634766    50.991959    42.348549             2.544800      U   \n695431   0.109375    50.997219    42.635006             0.840821      0   \n281078   1.385254    71.071175    45.890194             1.443954      0   \n688629   2.421875    45.299179    41.217026             5.631714      U   \n494647  15.878906    41.182510    37.696396             1.804230      0   \n\n        days_of_work                      time  event_class  year  month  \\\n831591           NaN 2023-01-10 00:00:00+00:00            0  2023      1   \n80390            NaN 2023-01-10 00:00:00+00:00            0  2023      1   \n161050           NaN 2023-01-10 00:00:00+00:00            0  2023      1   \n982367           NaN 2023-01-10 00:00:00+00:00            0  2023      1   \n720784           NaN 2023-01-10 00:00:00+00:00            0  2023      1   \n...              ...                       ...          ...   ...    ...   \n69618            NaN 2024-12-04 00:00:00+00:00            0  2024     12   \n695431           NaN 2024-12-04 00:00:00+00:00            0  2024     12   \n281078           NaN 2024-12-04 00:00:00+00:00            0  2024     12   \n688629           NaN 2024-12-04 00:00:00+00:00            0  2024     12   \n494647           NaN 2024-12-04 00:00:00+00:00            0  2024     12   \n\n        season  day  day_of_week  is_weekend  \n831591       1   10            1           0  \n80390        1   10            1           0  \n161050       1   10            1           0  \n982367       1   10            1           0  \n720784       1   10            1           0  \n...        ...  ...          ...         ...  \n69618        1    4            2           0  \n695431       1    4            2           0  \n281078       1    4            2           0  \n688629       1    4            2           0  \n494647       1    4            2           0  \n\n[1027919 rows x 18 columns]",
      "text/html": "<div>\n<style scoped>\n    .dataframe tbody tr th:only-of-type {\n        vertical-align: middle;\n    }\n\n    .dataframe tbody tr th {\n        vertical-align: top;\n    }\n\n    .dataframe thead th {\n        text-align: right;\n    }\n</style>\n<table border=\"1\" class=\"dataframe\">\n  <thead>\n    <tr style=\"text-align: right;\">\n      <th></th>\n      <th>obj_consumer_id</th>\n      <th>gcal_in_system</th>\n      <th>gcal_out_system</th>\n      <th>subset</th>\n      <th>leak</th>\n      <th>supply_temp</th>\n      <th>return_temp</th>\n      <th>heat_thermal_energy</th>\n      <th>errors</th>\n      <th>days_of_work</th>\n      <th>time</th>\n      <th>event_class</th>\n      <th>year</th>\n      <th>month</th>\n      <th>season</th>\n      <th>day</th>\n      <th>day_of_week</th>\n      <th>is_weekend</th>\n    </tr>\n  </thead>\n  <tbody>\n    <tr>\n      <th>831591</th>\n      <td>469</td>\n      <td>0.000000</td>\n      <td>12.628906</td>\n      <td>12.628906</td>\n      <td>0.000000</td>\n      <td>25.477112</td>\n      <td>24.542732</td>\n      <td>0.000000</td>\n      <td>U</td>\n      <td>NaN</td>\n      <td>2023-01-10 00:00:00+00:00</td>\n      <td>0</td>\n      <td>2023</td>\n      <td>1</td>\n      <td>1</td>\n      <td>10</td>\n      <td>1</td>\n      <td>0</td>\n    </tr>\n    <tr>\n      <th>80390</th>\n      <td>2692</td>\n      <td>0.000000</td>\n      <td>0.000000</td>\n      <td>0.000000</td>\n      <td>0.000000</td>\n      <td>20.970274</td>\n      <td>21.338549</td>\n      <td>0.000000</td>\n      <td>0</td>\n      <td>NaN</td>\n      <td>2023-01-10 00:00:00+00:00</td>\n      <td>0</td>\n      <td>2023</td>\n      <td>1</td>\n      <td>1</td>\n      <td>10</td>\n      <td>1</td>\n      <td>0</td>\n    </tr>\n    <tr>\n      <th>161050</th>\n      <td>3316</td>\n      <td>0.000000</td>\n      <td>0.000000</td>\n      <td>0.000000</td>\n      <td>0.000000</td>\n      <td>26.364866</td>\n      <td>26.209284</td>\n      <td>0.000000</td>\n      <td>0</td>\n      <td>NaN</td>\n      <td>2023-01-10 00:00:00+00:00</td>\n      <td>0</td>\n      <td>2023</td>\n      <td>1</td>\n      <td>1</td>\n      <td>10</td>\n      <td>1</td>\n      <td>0</td>\n    </tr>\n    <tr>\n      <th>982367</th>\n      <td>1630</td>\n      <td>0.000000</td>\n      <td>0.000000</td>\n      <td>0.000000</td>\n      <td>0.000000</td>\n      <td>20.160000</td>\n      <td>21.190000</td>\n      <td>0.000000</td>\n      <td>D,E</td>\n      <td>NaN</td>\n      <td>2023-01-10 00:00:00+00:00</td>\n      <td>0</td>\n      <td>2023</td>\n      <td>1</td>\n      <td>1</td>\n      <td>10</td>\n      <td>1</td>\n      <td>0</td>\n    </tr>\n    <tr>\n      <th>720784</th>\n      <td>2213</td>\n      <td>0.000000</td>\n      <td>0.670000</td>\n      <td>0.670000</td>\n      <td>0.000000</td>\n      <td>37.133333</td>\n      <td>33.558333</td>\n      <td>0.000000</td>\n      <td>g</td>\n      <td>NaN</td>\n      <td>2023-01-10 00:00:00+00:00</td>\n      <td>0</td>\n      <td>2023</td>\n      <td>1</td>\n      <td>1</td>\n      <td>10</td>\n      <td>1</td>\n      <td>0</td>\n    </tr>\n    <tr>\n      <th>...</th>\n      <td>...</td>\n      <td>...</td>\n      <td>...</td>\n      <td>...</td>\n      <td>...</td>\n      <td>...</td>\n      <td>...</td>\n      <td>...</td>\n      <td>...</td>\n      <td>...</td>\n      <td>...</td>\n      <td>...</td>\n      <td>...</td>\n      <td>...</td>\n      <td>...</td>\n      <td>...</td>\n      <td>...</td>\n      <td>...</td>\n    </tr>\n    <tr>\n      <th>69618</th>\n      <td>2594</td>\n      <td>297.730469</td>\n      <td>297.095703</td>\n      <td>0.000000</td>\n      <td>0.634766</td>\n      <td>50.991959</td>\n      <td>42.348549</td>\n      <td>2.544800</td>\n      <td>U</td>\n      <td>NaN</td>\n      <td>2024-12-04 00:00:00+00:00</td>\n      <td>0</td>\n      <td>2024</td>\n      <td>12</td>\n      <td>1</td>\n      <td>4</td>\n      <td>2</td>\n      <td>0</td>\n    </tr>\n    <tr>\n      <th>695431</th>\n      <td>3855</td>\n      <td>100.356445</td>\n      <td>100.247070</td>\n      <td>0.000000</td>\n      <td>0.109375</td>\n      <td>50.997219</td>\n      <td>42.635006</td>\n      <td>0.840821</td>\n      <td>0</td>\n      <td>NaN</td>\n      <td>2024-12-04 00:00:00+00:00</td>\n      <td>0</td>\n      <td>2024</td>\n      <td>12</td>\n      <td>1</td>\n      <td>4</td>\n      <td>2</td>\n      <td>0</td>\n    </tr>\n    <tr>\n      <th>281078</th>\n      <td>4327</td>\n      <td>57.324707</td>\n      <td>55.939453</td>\n      <td>0.000000</td>\n      <td>1.385254</td>\n      <td>71.071175</td>\n      <td>45.890194</td>\n      <td>1.443954</td>\n      <td>0</td>\n      <td>NaN</td>\n      <td>2024-12-04 00:00:00+00:00</td>\n      <td>0</td>\n      <td>2024</td>\n      <td>12</td>\n      <td>1</td>\n      <td>4</td>\n      <td>2</td>\n      <td>0</td>\n    </tr>\n    <tr>\n      <th>688629</th>\n      <td>1480</td>\n      <td>1376.343750</td>\n      <td>1373.921875</td>\n      <td>0.000000</td>\n      <td>2.421875</td>\n      <td>45.299179</td>\n      <td>41.217026</td>\n      <td>5.631714</td>\n      <td>U</td>\n      <td>NaN</td>\n      <td>2024-12-04 00:00:00+00:00</td>\n      <td>0</td>\n      <td>2024</td>\n      <td>12</td>\n      <td>1</td>\n      <td>4</td>\n      <td>2</td>\n      <td>0</td>\n    </tr>\n    <tr>\n      <th>494647</th>\n      <td>18</td>\n      <td>518.531250</td>\n      <td>502.652344</td>\n      <td>0.000000</td>\n      <td>15.878906</td>\n      <td>41.182510</td>\n      <td>37.696396</td>\n      <td>1.804230</td>\n      <td>0</td>\n      <td>NaN</td>\n      <td>2024-12-04 00:00:00+00:00</td>\n      <td>0</td>\n      <td>2024</td>\n      <td>12</td>\n      <td>1</td>\n      <td>4</td>\n      <td>2</td>\n      <td>0</td>\n    </tr>\n  </tbody>\n</table>\n<p>1027919 rows × 18 columns</p>\n</div>"
     },
     "execution_count": 123,
     "metadata": {},
     "output_type": "execute_result"
    }
   ],
   "source": [
    "events"
   ],
   "metadata": {
    "collapsed": false,
    "ExecuteTime": {
     "end_time": "2024-06-13T08:33:46.969091Z",
     "start_time": "2024-06-13T08:33:46.961463Z"
    }
   },
   "id": "57e2df52c013aef7",
   "execution_count": 123
  },
  {
   "cell_type": "code",
   "outputs": [
    {
     "name": "stdout",
     "output_type": "stream",
     "text": [
      "-1\n"
     ]
    }
   ],
   "source": [
    "from datetime import datetime\n",
    "\n",
    "print((datetime.now() - datetime.now()).days)"
   ],
   "metadata": {
    "collapsed": false,
    "ExecuteTime": {
     "end_time": "2024-06-13T08:33:46.974121Z",
     "start_time": "2024-06-13T08:33:46.971902Z"
    }
   },
   "id": "babde447d132bdc3",
   "execution_count": 124
  },
  {
   "cell_type": "code",
   "outputs": [],
   "source": [
    "## сматчить предыдущий инц\n",
    "# events['event_id'] = events['accident']\n",
    "consumers = events['obj_consumer_id'].unique().tolist()\n",
    "events['last_event_class'] = 0\n",
    "events['last_event_days'] = 0\n",
    "\n",
    "# df['between_created'] = 0\n",
    "train_df = pd.DataFrame()\n",
    "# last = 0\n",
    "for consumer in consumers:\n",
    "    consumers_df = events[events['obj_consumer_id'] == consumer].sort_values(by='time', ascending=True)\n",
    "    consumers_df = consumers_df.reset_index()\n",
    "    last_event_class = 0\n",
    "    last_event_day = 0\n",
    "    for i, row in consumers_df.iterrows():\n",
    "        if i > 0:\n",
    "            if consumers_df.at[i - 1, 'event_class'] != 0:\n",
    "                last_event_class = consumers_df.at[i - 1, 'event_class']\n",
    "                last_event_day = consumers_df.at[i, 'time']\n",
    "            # abs((df['event_closed'] - df['event_created']).dt.days.astype(float))\n",
    "            consumers_df.at[i, 'last_event_class'] = last_event_class\n",
    "            if last_event_day != 0:\n",
    "                consumers_df.at[i, 'last_event_days'] = (consumers_df.at[i, 'time'] - last_event_day).days\n",
    "        else:\n",
    "            consumers_df.at[i, 'last_event_days'] = 0\n",
    "            consumers_df.at[i, 'last_event_class'] = 0\n",
    "            # consumers_df.at[i, 'last_event_class'] = last\n",
    "    # consumers_df = consumers_df[(consumers_df['event_class'] != 0) | (consumers_df['last_event_class'] != 0)]\n",
    "    train_df = pd.concat([train_df, consumers_df])\n",
    "train_df = train_df.sort_values(by=['obj_consumer_id', 'time'], ascending=(True, False))"
   ],
   "metadata": {
    "collapsed": false,
    "ExecuteTime": {
     "end_time": "2024-06-13T08:35:40.354521Z",
     "start_time": "2024-06-13T08:33:46.974940Z"
    }
   },
   "id": "95fcf74d034de4db",
   "execution_count": 125
  },
  {
   "cell_type": "code",
   "outputs": [
    {
     "data": {
      "text/plain": "      index  obj_consumer_id  gcal_in_system  gcal_out_system  subset  \\\n215  781280                2      101.741211        99.705078     0.0   \n214  781279                2      105.114258       102.973145     0.0   \n213  781278                2      137.442871       134.461914     0.0   \n212  781277                2      106.800965       104.517701     0.0   \n211  781276                2      103.018555       100.957031     0.0   \n..      ...              ...             ...              ...     ...   \n4    430046             5575      227.445312       223.656250     0.0   \n3    430045             5575        0.001465         0.000000     0.0   \n2    430044             5575      228.365235       225.150390     0.0   \n1    430043             5575      227.490235       223.740234     0.0   \n0    430042             5575        0.000976         0.000000     0.0   \n\n         leak  supply_temp  return_temp  heat_thermal_energy errors  ...  \\\n215  2.036133    67.891945    46.142269             2.214905      0  ...   \n214  2.141113    81.523445    50.317730             3.284791      0  ...   \n213  2.980957   105.358482    65.716919             5.472442      0  ...   \n212  2.283264   110.550529    60.279949             5.393513      0  ...   \n211  2.061524    66.854248    46.293636             2.120330      0  ...   \n..        ...          ...          ...                  ...    ...  ...   \n4    3.789062    57.036049    49.115894             1.799477      0  ...   \n3    0.001465    18.734449    18.525652             0.000000      D  ...   \n2    3.214845    66.732010    55.752815             2.498787      D  ...   \n1    3.750001    57.059227    49.222752             1.780853      0  ...   \n0    0.000976    19.079317    18.808887             0.000000      D  ...   \n\n                         time event_class  year  month  season  day  \\\n215 2024-12-04 00:00:00+00:00           0  2024     12       1    4   \n214 2024-12-03 00:00:00+00:00           0  2024     12       1    3   \n213 2024-12-02 00:00:00+00:00           0  2024     12       1    2   \n212 2024-12-01 00:00:00+00:00           0  2024     12       1    1   \n211 2024-11-04 00:00:00+00:00           0  2024     11       4    4   \n..                        ...         ...   ...    ...     ...  ...   \n4   2023-02-11 00:00:00+00:00           0  2023      2       1   11   \n3   2023-02-10 00:00:00+00:00           0  2023      2       1   10   \n2   2023-01-12 00:00:00+00:00           0  2023      1       1   12   \n1   2023-01-11 00:00:00+00:00           0  2023      1       1   11   \n0   2023-01-10 00:00:00+00:00           0  2023      1       1   10   \n\n     day_of_week  is_weekend  last_event_class  last_event_days  \n215            2           0                 3              291  \n214            1           0                 3              290  \n213            0           0                 3              289  \n212            6           1                 3              288  \n211            0           0                 3              261  \n..           ...         ...               ...              ...  \n4              5           1                 0                0  \n3              4           0                 0                0  \n2              3           0                 0                0  \n1              2           0                 0                0  \n0              1           0                 0                0  \n\n[1027919 rows x 21 columns]",
      "text/html": "<div>\n<style scoped>\n    .dataframe tbody tr th:only-of-type {\n        vertical-align: middle;\n    }\n\n    .dataframe tbody tr th {\n        vertical-align: top;\n    }\n\n    .dataframe thead th {\n        text-align: right;\n    }\n</style>\n<table border=\"1\" class=\"dataframe\">\n  <thead>\n    <tr style=\"text-align: right;\">\n      <th></th>\n      <th>index</th>\n      <th>obj_consumer_id</th>\n      <th>gcal_in_system</th>\n      <th>gcal_out_system</th>\n      <th>subset</th>\n      <th>leak</th>\n      <th>supply_temp</th>\n      <th>return_temp</th>\n      <th>heat_thermal_energy</th>\n      <th>errors</th>\n      <th>...</th>\n      <th>time</th>\n      <th>event_class</th>\n      <th>year</th>\n      <th>month</th>\n      <th>season</th>\n      <th>day</th>\n      <th>day_of_week</th>\n      <th>is_weekend</th>\n      <th>last_event_class</th>\n      <th>last_event_days</th>\n    </tr>\n  </thead>\n  <tbody>\n    <tr>\n      <th>215</th>\n      <td>781280</td>\n      <td>2</td>\n      <td>101.741211</td>\n      <td>99.705078</td>\n      <td>0.0</td>\n      <td>2.036133</td>\n      <td>67.891945</td>\n      <td>46.142269</td>\n      <td>2.214905</td>\n      <td>0</td>\n      <td>...</td>\n      <td>2024-12-04 00:00:00+00:00</td>\n      <td>0</td>\n      <td>2024</td>\n      <td>12</td>\n      <td>1</td>\n      <td>4</td>\n      <td>2</td>\n      <td>0</td>\n      <td>3</td>\n      <td>291</td>\n    </tr>\n    <tr>\n      <th>214</th>\n      <td>781279</td>\n      <td>2</td>\n      <td>105.114258</td>\n      <td>102.973145</td>\n      <td>0.0</td>\n      <td>2.141113</td>\n      <td>81.523445</td>\n      <td>50.317730</td>\n      <td>3.284791</td>\n      <td>0</td>\n      <td>...</td>\n      <td>2024-12-03 00:00:00+00:00</td>\n      <td>0</td>\n      <td>2024</td>\n      <td>12</td>\n      <td>1</td>\n      <td>3</td>\n      <td>1</td>\n      <td>0</td>\n      <td>3</td>\n      <td>290</td>\n    </tr>\n    <tr>\n      <th>213</th>\n      <td>781278</td>\n      <td>2</td>\n      <td>137.442871</td>\n      <td>134.461914</td>\n      <td>0.0</td>\n      <td>2.980957</td>\n      <td>105.358482</td>\n      <td>65.716919</td>\n      <td>5.472442</td>\n      <td>0</td>\n      <td>...</td>\n      <td>2024-12-02 00:00:00+00:00</td>\n      <td>0</td>\n      <td>2024</td>\n      <td>12</td>\n      <td>1</td>\n      <td>2</td>\n      <td>0</td>\n      <td>0</td>\n      <td>3</td>\n      <td>289</td>\n    </tr>\n    <tr>\n      <th>212</th>\n      <td>781277</td>\n      <td>2</td>\n      <td>106.800965</td>\n      <td>104.517701</td>\n      <td>0.0</td>\n      <td>2.283264</td>\n      <td>110.550529</td>\n      <td>60.279949</td>\n      <td>5.393513</td>\n      <td>0</td>\n      <td>...</td>\n      <td>2024-12-01 00:00:00+00:00</td>\n      <td>0</td>\n      <td>2024</td>\n      <td>12</td>\n      <td>1</td>\n      <td>1</td>\n      <td>6</td>\n      <td>1</td>\n      <td>3</td>\n      <td>288</td>\n    </tr>\n    <tr>\n      <th>211</th>\n      <td>781276</td>\n      <td>2</td>\n      <td>103.018555</td>\n      <td>100.957031</td>\n      <td>0.0</td>\n      <td>2.061524</td>\n      <td>66.854248</td>\n      <td>46.293636</td>\n      <td>2.120330</td>\n      <td>0</td>\n      <td>...</td>\n      <td>2024-11-04 00:00:00+00:00</td>\n      <td>0</td>\n      <td>2024</td>\n      <td>11</td>\n      <td>4</td>\n      <td>4</td>\n      <td>0</td>\n      <td>0</td>\n      <td>3</td>\n      <td>261</td>\n    </tr>\n    <tr>\n      <th>...</th>\n      <td>...</td>\n      <td>...</td>\n      <td>...</td>\n      <td>...</td>\n      <td>...</td>\n      <td>...</td>\n      <td>...</td>\n      <td>...</td>\n      <td>...</td>\n      <td>...</td>\n      <td>...</td>\n      <td>...</td>\n      <td>...</td>\n      <td>...</td>\n      <td>...</td>\n      <td>...</td>\n      <td>...</td>\n      <td>...</td>\n      <td>...</td>\n      <td>...</td>\n      <td>...</td>\n    </tr>\n    <tr>\n      <th>4</th>\n      <td>430046</td>\n      <td>5575</td>\n      <td>227.445312</td>\n      <td>223.656250</td>\n      <td>0.0</td>\n      <td>3.789062</td>\n      <td>57.036049</td>\n      <td>49.115894</td>\n      <td>1.799477</td>\n      <td>0</td>\n      <td>...</td>\n      <td>2023-02-11 00:00:00+00:00</td>\n      <td>0</td>\n      <td>2023</td>\n      <td>2</td>\n      <td>1</td>\n      <td>11</td>\n      <td>5</td>\n      <td>1</td>\n      <td>0</td>\n      <td>0</td>\n    </tr>\n    <tr>\n      <th>3</th>\n      <td>430045</td>\n      <td>5575</td>\n      <td>0.001465</td>\n      <td>0.000000</td>\n      <td>0.0</td>\n      <td>0.001465</td>\n      <td>18.734449</td>\n      <td>18.525652</td>\n      <td>0.000000</td>\n      <td>D</td>\n      <td>...</td>\n      <td>2023-02-10 00:00:00+00:00</td>\n      <td>0</td>\n      <td>2023</td>\n      <td>2</td>\n      <td>1</td>\n      <td>10</td>\n      <td>4</td>\n      <td>0</td>\n      <td>0</td>\n      <td>0</td>\n    </tr>\n    <tr>\n      <th>2</th>\n      <td>430044</td>\n      <td>5575</td>\n      <td>228.365235</td>\n      <td>225.150390</td>\n      <td>0.0</td>\n      <td>3.214845</td>\n      <td>66.732010</td>\n      <td>55.752815</td>\n      <td>2.498787</td>\n      <td>D</td>\n      <td>...</td>\n      <td>2023-01-12 00:00:00+00:00</td>\n      <td>0</td>\n      <td>2023</td>\n      <td>1</td>\n      <td>1</td>\n      <td>12</td>\n      <td>3</td>\n      <td>0</td>\n      <td>0</td>\n      <td>0</td>\n    </tr>\n    <tr>\n      <th>1</th>\n      <td>430043</td>\n      <td>5575</td>\n      <td>227.490235</td>\n      <td>223.740234</td>\n      <td>0.0</td>\n      <td>3.750001</td>\n      <td>57.059227</td>\n      <td>49.222752</td>\n      <td>1.780853</td>\n      <td>0</td>\n      <td>...</td>\n      <td>2023-01-11 00:00:00+00:00</td>\n      <td>0</td>\n      <td>2023</td>\n      <td>1</td>\n      <td>1</td>\n      <td>11</td>\n      <td>2</td>\n      <td>0</td>\n      <td>0</td>\n      <td>0</td>\n    </tr>\n    <tr>\n      <th>0</th>\n      <td>430042</td>\n      <td>5575</td>\n      <td>0.000976</td>\n      <td>0.000000</td>\n      <td>0.0</td>\n      <td>0.000976</td>\n      <td>19.079317</td>\n      <td>18.808887</td>\n      <td>0.000000</td>\n      <td>D</td>\n      <td>...</td>\n      <td>2023-01-10 00:00:00+00:00</td>\n      <td>0</td>\n      <td>2023</td>\n      <td>1</td>\n      <td>1</td>\n      <td>10</td>\n      <td>1</td>\n      <td>0</td>\n      <td>0</td>\n      <td>0</td>\n    </tr>\n  </tbody>\n</table>\n<p>1027919 rows × 21 columns</p>\n</div>"
     },
     "execution_count": 126,
     "metadata": {},
     "output_type": "execute_result"
    }
   ],
   "source": [
    "# train_df[train_df['obj_consumer_id'] == 2][['time', 'event_class', 'last_event_class', 'last_event_days']]\n",
    "train_df.fillna({\n",
    "    'gcal_in_system': 0,\n",
    "    'gcal_out_system': 0,\n",
    "    'subset': 0,\n",
    "    'leak': 0,\n",
    "    'supply_temp': 0,\n",
    "    'return_temp': 0,\n",
    "    'heat_thermal_energy': 0,\n",
    "    'days_of_work': 0,\n",
    "    'errors': 0,\n",
    "}, inplace=True)\n",
    "# train_df['gcal_in_system'].fillna(0, inplace=True)\n",
    "train_df"
   ],
   "metadata": {
    "collapsed": false,
    "ExecuteTime": {
     "end_time": "2024-06-13T08:35:40.594545Z",
     "start_time": "2024-06-13T08:35:40.356200Z"
    }
   },
   "id": "d4c9ede47a0c5970",
   "execution_count": 126
  },
  {
   "cell_type": "code",
   "outputs": [
    {
     "data": {
      "text/plain": "      index  obj_consumer_id  gcal_in_system  gcal_out_system  subset  \\\n215  781280                2      101.741211        99.705078     0.0   \n214  781279                2      105.114258       102.973145     0.0   \n213  781278                2      137.442871       134.461914     0.0   \n212  781277                2      106.800965       104.517701     0.0   \n211  781276                2      103.018555       100.957031     0.0   \n..      ...              ...             ...              ...     ...   \n4    430046             5575      227.445312       223.656250     0.0   \n3    430045             5575        0.001465         0.000000     0.0   \n2    430044             5575      228.365235       225.150390     0.0   \n1    430043             5575      227.490235       223.740234     0.0   \n0    430042             5575        0.000976         0.000000     0.0   \n\n         leak  supply_temp  return_temp  heat_thermal_energy  errors  ...  \\\n215  2.036133    67.891945    46.142269             2.214905       1  ...   \n214  2.141113    81.523445    50.317730             3.284791       1  ...   \n213  2.980957   105.358482    65.716919             5.472442       1  ...   \n212  2.283264   110.550529    60.279949             5.393513       1  ...   \n211  2.061524    66.854248    46.293636             2.120330       1  ...   \n..        ...          ...          ...                  ...     ...  ...   \n4    3.789062    57.036049    49.115894             1.799477       1  ...   \n3    0.001465    18.734449    18.525652             0.000000       1  ...   \n2    3.214845    66.732010    55.752815             2.498787       1  ...   \n1    3.750001    57.059227    49.222752             1.780853       1  ...   \n0    0.000976    19.079317    18.808887             0.000000       1  ...   \n\n                         time event_class  year  month  season  day  \\\n215 2024-12-04 00:00:00+00:00           0  2024     12       1    4   \n214 2024-12-03 00:00:00+00:00           0  2024     12       1    3   \n213 2024-12-02 00:00:00+00:00           0  2024     12       1    2   \n212 2024-12-01 00:00:00+00:00           0  2024     12       1    1   \n211 2024-11-04 00:00:00+00:00           0  2024     11       4    4   \n..                        ...         ...   ...    ...     ...  ...   \n4   2023-02-11 00:00:00+00:00           0  2023      2       1   11   \n3   2023-02-10 00:00:00+00:00           0  2023      2       1   10   \n2   2023-01-12 00:00:00+00:00           0  2023      1       1   12   \n1   2023-01-11 00:00:00+00:00           0  2023      1       1   11   \n0   2023-01-10 00:00:00+00:00           0  2023      1       1   10   \n\n     day_of_week  is_weekend  last_event_class  last_event_days  \n215            2           0                 3              291  \n214            1           0                 3              290  \n213            0           0                 3              289  \n212            6           1                 3              288  \n211            0           0                 3              261  \n..           ...         ...               ...              ...  \n4              5           1                 0                0  \n3              4           0                 0                0  \n2              3           0                 0                0  \n1              2           0                 0                0  \n0              1           0                 0                0  \n\n[1027919 rows x 21 columns]",
      "text/html": "<div>\n<style scoped>\n    .dataframe tbody tr th:only-of-type {\n        vertical-align: middle;\n    }\n\n    .dataframe tbody tr th {\n        vertical-align: top;\n    }\n\n    .dataframe thead th {\n        text-align: right;\n    }\n</style>\n<table border=\"1\" class=\"dataframe\">\n  <thead>\n    <tr style=\"text-align: right;\">\n      <th></th>\n      <th>index</th>\n      <th>obj_consumer_id</th>\n      <th>gcal_in_system</th>\n      <th>gcal_out_system</th>\n      <th>subset</th>\n      <th>leak</th>\n      <th>supply_temp</th>\n      <th>return_temp</th>\n      <th>heat_thermal_energy</th>\n      <th>errors</th>\n      <th>...</th>\n      <th>time</th>\n      <th>event_class</th>\n      <th>year</th>\n      <th>month</th>\n      <th>season</th>\n      <th>day</th>\n      <th>day_of_week</th>\n      <th>is_weekend</th>\n      <th>last_event_class</th>\n      <th>last_event_days</th>\n    </tr>\n  </thead>\n  <tbody>\n    <tr>\n      <th>215</th>\n      <td>781280</td>\n      <td>2</td>\n      <td>101.741211</td>\n      <td>99.705078</td>\n      <td>0.0</td>\n      <td>2.036133</td>\n      <td>67.891945</td>\n      <td>46.142269</td>\n      <td>2.214905</td>\n      <td>1</td>\n      <td>...</td>\n      <td>2024-12-04 00:00:00+00:00</td>\n      <td>0</td>\n      <td>2024</td>\n      <td>12</td>\n      <td>1</td>\n      <td>4</td>\n      <td>2</td>\n      <td>0</td>\n      <td>3</td>\n      <td>291</td>\n    </tr>\n    <tr>\n      <th>214</th>\n      <td>781279</td>\n      <td>2</td>\n      <td>105.114258</td>\n      <td>102.973145</td>\n      <td>0.0</td>\n      <td>2.141113</td>\n      <td>81.523445</td>\n      <td>50.317730</td>\n      <td>3.284791</td>\n      <td>1</td>\n      <td>...</td>\n      <td>2024-12-03 00:00:00+00:00</td>\n      <td>0</td>\n      <td>2024</td>\n      <td>12</td>\n      <td>1</td>\n      <td>3</td>\n      <td>1</td>\n      <td>0</td>\n      <td>3</td>\n      <td>290</td>\n    </tr>\n    <tr>\n      <th>213</th>\n      <td>781278</td>\n      <td>2</td>\n      <td>137.442871</td>\n      <td>134.461914</td>\n      <td>0.0</td>\n      <td>2.980957</td>\n      <td>105.358482</td>\n      <td>65.716919</td>\n      <td>5.472442</td>\n      <td>1</td>\n      <td>...</td>\n      <td>2024-12-02 00:00:00+00:00</td>\n      <td>0</td>\n      <td>2024</td>\n      <td>12</td>\n      <td>1</td>\n      <td>2</td>\n      <td>0</td>\n      <td>0</td>\n      <td>3</td>\n      <td>289</td>\n    </tr>\n    <tr>\n      <th>212</th>\n      <td>781277</td>\n      <td>2</td>\n      <td>106.800965</td>\n      <td>104.517701</td>\n      <td>0.0</td>\n      <td>2.283264</td>\n      <td>110.550529</td>\n      <td>60.279949</td>\n      <td>5.393513</td>\n      <td>1</td>\n      <td>...</td>\n      <td>2024-12-01 00:00:00+00:00</td>\n      <td>0</td>\n      <td>2024</td>\n      <td>12</td>\n      <td>1</td>\n      <td>1</td>\n      <td>6</td>\n      <td>1</td>\n      <td>3</td>\n      <td>288</td>\n    </tr>\n    <tr>\n      <th>211</th>\n      <td>781276</td>\n      <td>2</td>\n      <td>103.018555</td>\n      <td>100.957031</td>\n      <td>0.0</td>\n      <td>2.061524</td>\n      <td>66.854248</td>\n      <td>46.293636</td>\n      <td>2.120330</td>\n      <td>1</td>\n      <td>...</td>\n      <td>2024-11-04 00:00:00+00:00</td>\n      <td>0</td>\n      <td>2024</td>\n      <td>11</td>\n      <td>4</td>\n      <td>4</td>\n      <td>0</td>\n      <td>0</td>\n      <td>3</td>\n      <td>261</td>\n    </tr>\n    <tr>\n      <th>...</th>\n      <td>...</td>\n      <td>...</td>\n      <td>...</td>\n      <td>...</td>\n      <td>...</td>\n      <td>...</td>\n      <td>...</td>\n      <td>...</td>\n      <td>...</td>\n      <td>...</td>\n      <td>...</td>\n      <td>...</td>\n      <td>...</td>\n      <td>...</td>\n      <td>...</td>\n      <td>...</td>\n      <td>...</td>\n      <td>...</td>\n      <td>...</td>\n      <td>...</td>\n      <td>...</td>\n    </tr>\n    <tr>\n      <th>4</th>\n      <td>430046</td>\n      <td>5575</td>\n      <td>227.445312</td>\n      <td>223.656250</td>\n      <td>0.0</td>\n      <td>3.789062</td>\n      <td>57.036049</td>\n      <td>49.115894</td>\n      <td>1.799477</td>\n      <td>1</td>\n      <td>...</td>\n      <td>2023-02-11 00:00:00+00:00</td>\n      <td>0</td>\n      <td>2023</td>\n      <td>2</td>\n      <td>1</td>\n      <td>11</td>\n      <td>5</td>\n      <td>1</td>\n      <td>0</td>\n      <td>0</td>\n    </tr>\n    <tr>\n      <th>3</th>\n      <td>430045</td>\n      <td>5575</td>\n      <td>0.001465</td>\n      <td>0.000000</td>\n      <td>0.0</td>\n      <td>0.001465</td>\n      <td>18.734449</td>\n      <td>18.525652</td>\n      <td>0.000000</td>\n      <td>1</td>\n      <td>...</td>\n      <td>2023-02-10 00:00:00+00:00</td>\n      <td>0</td>\n      <td>2023</td>\n      <td>2</td>\n      <td>1</td>\n      <td>10</td>\n      <td>4</td>\n      <td>0</td>\n      <td>0</td>\n      <td>0</td>\n    </tr>\n    <tr>\n      <th>2</th>\n      <td>430044</td>\n      <td>5575</td>\n      <td>228.365235</td>\n      <td>225.150390</td>\n      <td>0.0</td>\n      <td>3.214845</td>\n      <td>66.732010</td>\n      <td>55.752815</td>\n      <td>2.498787</td>\n      <td>1</td>\n      <td>...</td>\n      <td>2023-01-12 00:00:00+00:00</td>\n      <td>0</td>\n      <td>2023</td>\n      <td>1</td>\n      <td>1</td>\n      <td>12</td>\n      <td>3</td>\n      <td>0</td>\n      <td>0</td>\n      <td>0</td>\n    </tr>\n    <tr>\n      <th>1</th>\n      <td>430043</td>\n      <td>5575</td>\n      <td>227.490235</td>\n      <td>223.740234</td>\n      <td>0.0</td>\n      <td>3.750001</td>\n      <td>57.059227</td>\n      <td>49.222752</td>\n      <td>1.780853</td>\n      <td>1</td>\n      <td>...</td>\n      <td>2023-01-11 00:00:00+00:00</td>\n      <td>0</td>\n      <td>2023</td>\n      <td>1</td>\n      <td>1</td>\n      <td>11</td>\n      <td>2</td>\n      <td>0</td>\n      <td>0</td>\n      <td>0</td>\n    </tr>\n    <tr>\n      <th>0</th>\n      <td>430042</td>\n      <td>5575</td>\n      <td>0.000976</td>\n      <td>0.000000</td>\n      <td>0.0</td>\n      <td>0.000976</td>\n      <td>19.079317</td>\n      <td>18.808887</td>\n      <td>0.000000</td>\n      <td>1</td>\n      <td>...</td>\n      <td>2023-01-10 00:00:00+00:00</td>\n      <td>0</td>\n      <td>2023</td>\n      <td>1</td>\n      <td>1</td>\n      <td>10</td>\n      <td>1</td>\n      <td>0</td>\n      <td>0</td>\n      <td>0</td>\n    </tr>\n  </tbody>\n</table>\n<p>1027919 rows × 21 columns</p>\n</div>"
     },
     "execution_count": 127,
     "metadata": {},
     "output_type": "execute_result"
    }
   ],
   "source": [
    "train_df['errors'] = train_df['errors'].apply(lambda x:len(x.split(',')) if x != 0 else 0)\n",
    "train_df"
   ],
   "metadata": {
    "collapsed": false,
    "ExecuteTime": {
     "end_time": "2024-06-13T08:35:40.930503Z",
     "start_time": "2024-06-13T08:35:40.595872Z"
    }
   },
   "id": "59d61b9826ddc94b",
   "execution_count": 127
  },
  {
   "cell_type": "code",
   "outputs": [
    {
     "data": {
      "text/plain": "     obj_consumer_id  gcal_in_system  gcal_out_system  subset      leak  \\\n215                2      101.741211        99.705078     0.0  2.036133   \n214                2      105.114258       102.973145     0.0  2.141113   \n213                2      137.442871       134.461914     0.0  2.980957   \n212                2      106.800965       104.517701     0.0  2.283264   \n211                2      103.018555       100.957031     0.0  2.061524   \n..               ...             ...              ...     ...       ...   \n4               5575      227.445312       223.656250     0.0  3.789062   \n3               5575        0.001465         0.000000     0.0  0.001465   \n2               5575      228.365235       225.150390     0.0  3.214845   \n1               5575      227.490235       223.740234     0.0  3.750001   \n0               5575        0.000976         0.000000     0.0  0.000976   \n\n     supply_temp  return_temp  heat_thermal_energy  errors  days_of_work  \\\n215    67.891945    46.142269             2.214905       1           0.0   \n214    81.523445    50.317730             3.284791       1           0.0   \n213   105.358482    65.716919             5.472442       1           0.0   \n212   110.550529    60.279949             5.393513       1           0.0   \n211    66.854248    46.293636             2.120330       1           0.0   \n..           ...          ...                  ...     ...           ...   \n4      57.036049    49.115894             1.799477       1           0.0   \n3      18.734449    18.525652             0.000000       1           0.0   \n2      66.732010    55.752815             2.498787       1           0.0   \n1      57.059227    49.222752             1.780853       1           0.0   \n0      19.079317    18.808887             0.000000       1           0.0   \n\n                         time  event_class  year  month  season  day  \\\n215 2024-12-04 00:00:00+00:00            0  2024     12       1    4   \n214 2024-12-03 00:00:00+00:00            0  2024     12       1    3   \n213 2024-12-02 00:00:00+00:00            0  2024     12       1    2   \n212 2024-12-01 00:00:00+00:00            0  2024     12       1    1   \n211 2024-11-04 00:00:00+00:00            0  2024     11       4    4   \n..                        ...          ...   ...    ...     ...  ...   \n4   2023-02-11 00:00:00+00:00            0  2023      2       1   11   \n3   2023-02-10 00:00:00+00:00            0  2023      2       1   10   \n2   2023-01-12 00:00:00+00:00            0  2023      1       1   12   \n1   2023-01-11 00:00:00+00:00            0  2023      1       1   11   \n0   2023-01-10 00:00:00+00:00            0  2023      1       1   10   \n\n     day_of_week  is_weekend  last_event_class  last_event_days  \n215            2           0                 3              291  \n214            1           0                 3              290  \n213            0           0                 3              289  \n212            6           1                 3              288  \n211            0           0                 3              261  \n..           ...         ...               ...              ...  \n4              5           1                 0                0  \n3              4           0                 0                0  \n2              3           0                 0                0  \n1              2           0                 0                0  \n0              1           0                 0                0  \n\n[1027919 rows x 20 columns]",
      "text/html": "<div>\n<style scoped>\n    .dataframe tbody tr th:only-of-type {\n        vertical-align: middle;\n    }\n\n    .dataframe tbody tr th {\n        vertical-align: top;\n    }\n\n    .dataframe thead th {\n        text-align: right;\n    }\n</style>\n<table border=\"1\" class=\"dataframe\">\n  <thead>\n    <tr style=\"text-align: right;\">\n      <th></th>\n      <th>obj_consumer_id</th>\n      <th>gcal_in_system</th>\n      <th>gcal_out_system</th>\n      <th>subset</th>\n      <th>leak</th>\n      <th>supply_temp</th>\n      <th>return_temp</th>\n      <th>heat_thermal_energy</th>\n      <th>errors</th>\n      <th>days_of_work</th>\n      <th>time</th>\n      <th>event_class</th>\n      <th>year</th>\n      <th>month</th>\n      <th>season</th>\n      <th>day</th>\n      <th>day_of_week</th>\n      <th>is_weekend</th>\n      <th>last_event_class</th>\n      <th>last_event_days</th>\n    </tr>\n  </thead>\n  <tbody>\n    <tr>\n      <th>215</th>\n      <td>2</td>\n      <td>101.741211</td>\n      <td>99.705078</td>\n      <td>0.0</td>\n      <td>2.036133</td>\n      <td>67.891945</td>\n      <td>46.142269</td>\n      <td>2.214905</td>\n      <td>1</td>\n      <td>0.0</td>\n      <td>2024-12-04 00:00:00+00:00</td>\n      <td>0</td>\n      <td>2024</td>\n      <td>12</td>\n      <td>1</td>\n      <td>4</td>\n      <td>2</td>\n      <td>0</td>\n      <td>3</td>\n      <td>291</td>\n    </tr>\n    <tr>\n      <th>214</th>\n      <td>2</td>\n      <td>105.114258</td>\n      <td>102.973145</td>\n      <td>0.0</td>\n      <td>2.141113</td>\n      <td>81.523445</td>\n      <td>50.317730</td>\n      <td>3.284791</td>\n      <td>1</td>\n      <td>0.0</td>\n      <td>2024-12-03 00:00:00+00:00</td>\n      <td>0</td>\n      <td>2024</td>\n      <td>12</td>\n      <td>1</td>\n      <td>3</td>\n      <td>1</td>\n      <td>0</td>\n      <td>3</td>\n      <td>290</td>\n    </tr>\n    <tr>\n      <th>213</th>\n      <td>2</td>\n      <td>137.442871</td>\n      <td>134.461914</td>\n      <td>0.0</td>\n      <td>2.980957</td>\n      <td>105.358482</td>\n      <td>65.716919</td>\n      <td>5.472442</td>\n      <td>1</td>\n      <td>0.0</td>\n      <td>2024-12-02 00:00:00+00:00</td>\n      <td>0</td>\n      <td>2024</td>\n      <td>12</td>\n      <td>1</td>\n      <td>2</td>\n      <td>0</td>\n      <td>0</td>\n      <td>3</td>\n      <td>289</td>\n    </tr>\n    <tr>\n      <th>212</th>\n      <td>2</td>\n      <td>106.800965</td>\n      <td>104.517701</td>\n      <td>0.0</td>\n      <td>2.283264</td>\n      <td>110.550529</td>\n      <td>60.279949</td>\n      <td>5.393513</td>\n      <td>1</td>\n      <td>0.0</td>\n      <td>2024-12-01 00:00:00+00:00</td>\n      <td>0</td>\n      <td>2024</td>\n      <td>12</td>\n      <td>1</td>\n      <td>1</td>\n      <td>6</td>\n      <td>1</td>\n      <td>3</td>\n      <td>288</td>\n    </tr>\n    <tr>\n      <th>211</th>\n      <td>2</td>\n      <td>103.018555</td>\n      <td>100.957031</td>\n      <td>0.0</td>\n      <td>2.061524</td>\n      <td>66.854248</td>\n      <td>46.293636</td>\n      <td>2.120330</td>\n      <td>1</td>\n      <td>0.0</td>\n      <td>2024-11-04 00:00:00+00:00</td>\n      <td>0</td>\n      <td>2024</td>\n      <td>11</td>\n      <td>4</td>\n      <td>4</td>\n      <td>0</td>\n      <td>0</td>\n      <td>3</td>\n      <td>261</td>\n    </tr>\n    <tr>\n      <th>...</th>\n      <td>...</td>\n      <td>...</td>\n      <td>...</td>\n      <td>...</td>\n      <td>...</td>\n      <td>...</td>\n      <td>...</td>\n      <td>...</td>\n      <td>...</td>\n      <td>...</td>\n      <td>...</td>\n      <td>...</td>\n      <td>...</td>\n      <td>...</td>\n      <td>...</td>\n      <td>...</td>\n      <td>...</td>\n      <td>...</td>\n      <td>...</td>\n      <td>...</td>\n    </tr>\n    <tr>\n      <th>4</th>\n      <td>5575</td>\n      <td>227.445312</td>\n      <td>223.656250</td>\n      <td>0.0</td>\n      <td>3.789062</td>\n      <td>57.036049</td>\n      <td>49.115894</td>\n      <td>1.799477</td>\n      <td>1</td>\n      <td>0.0</td>\n      <td>2023-02-11 00:00:00+00:00</td>\n      <td>0</td>\n      <td>2023</td>\n      <td>2</td>\n      <td>1</td>\n      <td>11</td>\n      <td>5</td>\n      <td>1</td>\n      <td>0</td>\n      <td>0</td>\n    </tr>\n    <tr>\n      <th>3</th>\n      <td>5575</td>\n      <td>0.001465</td>\n      <td>0.000000</td>\n      <td>0.0</td>\n      <td>0.001465</td>\n      <td>18.734449</td>\n      <td>18.525652</td>\n      <td>0.000000</td>\n      <td>1</td>\n      <td>0.0</td>\n      <td>2023-02-10 00:00:00+00:00</td>\n      <td>0</td>\n      <td>2023</td>\n      <td>2</td>\n      <td>1</td>\n      <td>10</td>\n      <td>4</td>\n      <td>0</td>\n      <td>0</td>\n      <td>0</td>\n    </tr>\n    <tr>\n      <th>2</th>\n      <td>5575</td>\n      <td>228.365235</td>\n      <td>225.150390</td>\n      <td>0.0</td>\n      <td>3.214845</td>\n      <td>66.732010</td>\n      <td>55.752815</td>\n      <td>2.498787</td>\n      <td>1</td>\n      <td>0.0</td>\n      <td>2023-01-12 00:00:00+00:00</td>\n      <td>0</td>\n      <td>2023</td>\n      <td>1</td>\n      <td>1</td>\n      <td>12</td>\n      <td>3</td>\n      <td>0</td>\n      <td>0</td>\n      <td>0</td>\n    </tr>\n    <tr>\n      <th>1</th>\n      <td>5575</td>\n      <td>227.490235</td>\n      <td>223.740234</td>\n      <td>0.0</td>\n      <td>3.750001</td>\n      <td>57.059227</td>\n      <td>49.222752</td>\n      <td>1.780853</td>\n      <td>1</td>\n      <td>0.0</td>\n      <td>2023-01-11 00:00:00+00:00</td>\n      <td>0</td>\n      <td>2023</td>\n      <td>1</td>\n      <td>1</td>\n      <td>11</td>\n      <td>2</td>\n      <td>0</td>\n      <td>0</td>\n      <td>0</td>\n    </tr>\n    <tr>\n      <th>0</th>\n      <td>5575</td>\n      <td>0.000976</td>\n      <td>0.000000</td>\n      <td>0.0</td>\n      <td>0.000976</td>\n      <td>19.079317</td>\n      <td>18.808887</td>\n      <td>0.000000</td>\n      <td>1</td>\n      <td>0.0</td>\n      <td>2023-01-10 00:00:00+00:00</td>\n      <td>0</td>\n      <td>2023</td>\n      <td>1</td>\n      <td>1</td>\n      <td>10</td>\n      <td>1</td>\n      <td>0</td>\n      <td>0</td>\n      <td>0</td>\n    </tr>\n  </tbody>\n</table>\n<p>1027919 rows × 20 columns</p>\n</div>"
     },
     "execution_count": 128,
     "metadata": {},
     "output_type": "execute_result"
    }
   ],
   "source": [
    "train_df.drop('index', inplace=True, axis=1)\n",
    "train_df"
   ],
   "metadata": {
    "collapsed": false,
    "ExecuteTime": {
     "end_time": "2024-06-13T08:35:40.961778Z",
     "start_time": "2024-06-13T08:35:40.931669Z"
    }
   },
   "id": "533ef2a4e053bf98",
   "execution_count": 128
  },
  {
   "cell_type": "code",
   "outputs": [],
   "source": [
    "from sklearn import preprocessing\n",
    "\n",
    "# преобразует строковые параметры в числа \n",
    "# Exampe: \"Hello\" \"Hello\" \"world\" [0,0,1]\n",
    "class MultiColumnLabelEncoder:\n",
    "    def __init__(self, columns=None):\n",
    "        self.columns = columns  # array of column names to encode\n",
    "\n",
    "    def fit(self, X, y=None):\n",
    "        return self  # not relevant here\n",
    "\n",
    "    def transform(self, X):\n",
    "        '''\n",
    "        Transforms columns of X specified in self.columns using\n",
    "        LabelEncoder(). If no columns specified, transforms all\n",
    "        columns in X.\n",
    "        '''\n",
    "        output = X.copy()\n",
    "        if self.columns is not None:\n",
    "            for col in self.columns:\n",
    "                output[col] = preprocessing.LabelEncoder().fit_transform(output[col])\n",
    "        else:\n",
    "            for col_name, col in output.iteritems():\n",
    "                output[col_name] = preprocessing.LabelEncoder().fit_transform(col)\n",
    "        return output\n",
    "\n",
    "    def fit_transform(self, X, y=None):\n",
    "        return self.fit(X, y).transform(X)"
   ],
   "metadata": {
    "collapsed": false,
    "ExecuteTime": {
     "end_time": "2024-06-13T08:35:40.967791Z",
     "start_time": "2024-06-13T08:35:40.962963Z"
    }
   },
   "id": "2b41ec63d7e7ed48",
   "execution_count": 129
  },
  {
   "cell_type": "code",
   "outputs": [],
   "source": [],
   "metadata": {
    "collapsed": false,
    "ExecuteTime": {
     "end_time": "2024-06-13T08:35:40.970608Z",
     "start_time": "2024-06-13T08:35:40.969168Z"
    }
   },
   "id": "fde76ebf5ca4210c",
   "execution_count": 129
  },
  {
   "cell_type": "code",
   "outputs": [
    {
     "data": {
      "text/plain": "      obj_source_satation_id  e_power  t_power  boiler_count  turbine_count  \\\n0                          1     1420     3709            23              8   \n1                          1     1420     3709            23              8   \n2                          1     1420     3709            23              8   \n3                          1     1420     3709            23              8   \n4                          1     1420     3709            23              8   \n...                      ...      ...      ...           ...            ...   \n5504                      26     1070     3402            22             11   \n5505                       1     1420     3709            23              8   \n5506                       1     1420     3709            23              8   \n5507                       1     1420     3709            23              8   \n5508                       1     1420     3709            23              8   \n\n      obj_consumer_station_id  obj_consumer_id  load_gvs  load_fact heat_load  \\\n0                           1                2    0.1442     0.3474    0.1678   \n1                           1                3      0.17  0.3765623     0.379   \n2                           1                4      0.09      0.198     0.207   \n3                           1                8      0.16      0.352     0.364   \n4                           1                9      0.17      0.374     0.364   \n...                       ...              ...       ...        ...       ...   \n5504                     5312             5312  0.090571  0.3169985     0.503   \n5505                      669              670      0.05      0.175      0.09   \n5506                     1199             1199       0.0        0.0       0.0   \n5507                     1392             1392   0.04587   0.160545    0.1935   \n5508                     4391             4391      0.19      0.418      0.36   \n\n      ... house_number  b_class  floors  wear_pct build_year   sock_type  \\\n0     ...           37    жилые      12       0.0          0         МКД   \n1     ...           41    жилые       5       0.0          0         МКД   \n2     ...           41    жилые       5       0.0          0         МКД   \n3     ...           41    жилые       5       0.0          0         МКД   \n4     ...           41    жилые       5       0.0          0         МКД   \n...   ...          ...      ...     ...       ...        ...         ...   \n5504  ...          66Д  нежилые       4      10.0       2014  Социальный   \n5505  ...           13  нежилые       2       0.0          0  Социальный   \n5506  ...           16  нежилые       3       0.0          0  Социальный   \n5507  ...           5А  нежилые       3      12.0       2008  Социальный   \n5508  ...           23    жилые       9       0.0          0         МКД   \n\n     energy_class  operating_mode priority  is_dispatch  \n0      Нет данных   Круглосуточно        7         True  \n1      Нет данных   Круглосуточно        7         True  \n2      Нет данных   Круглосуточно        7         True  \n3      Нет данных   Круглосуточно        7         True  \n4      Нет данных   Круглосуточно        7         True  \n...           ...             ...      ...          ...  \n5504            C   Круглосуточно        3        False  \n5505   Нет данных    9:00 – 18:00        3        False  \n5506   Нет данных    9:00 – 18:00        3        False  \n5507          A++    9:00 – 18:00        3        False  \n5508   Нет данных   Круглосуточно        4         True  \n\n[5509 rows x 25 columns]",
      "text/html": "<div>\n<style scoped>\n    .dataframe tbody tr th:only-of-type {\n        vertical-align: middle;\n    }\n\n    .dataframe tbody tr th {\n        vertical-align: top;\n    }\n\n    .dataframe thead th {\n        text-align: right;\n    }\n</style>\n<table border=\"1\" class=\"dataframe\">\n  <thead>\n    <tr style=\"text-align: right;\">\n      <th></th>\n      <th>obj_source_satation_id</th>\n      <th>e_power</th>\n      <th>t_power</th>\n      <th>boiler_count</th>\n      <th>turbine_count</th>\n      <th>obj_consumer_station_id</th>\n      <th>obj_consumer_id</th>\n      <th>load_gvs</th>\n      <th>load_fact</th>\n      <th>heat_load</th>\n      <th>...</th>\n      <th>house_number</th>\n      <th>b_class</th>\n      <th>floors</th>\n      <th>wear_pct</th>\n      <th>build_year</th>\n      <th>sock_type</th>\n      <th>energy_class</th>\n      <th>operating_mode</th>\n      <th>priority</th>\n      <th>is_dispatch</th>\n    </tr>\n  </thead>\n  <tbody>\n    <tr>\n      <th>0</th>\n      <td>1</td>\n      <td>1420</td>\n      <td>3709</td>\n      <td>23</td>\n      <td>8</td>\n      <td>1</td>\n      <td>2</td>\n      <td>0.1442</td>\n      <td>0.3474</td>\n      <td>0.1678</td>\n      <td>...</td>\n      <td>37</td>\n      <td>жилые</td>\n      <td>12</td>\n      <td>0.0</td>\n      <td>0</td>\n      <td>МКД</td>\n      <td>Нет данных</td>\n      <td>Круглосуточно</td>\n      <td>7</td>\n      <td>True</td>\n    </tr>\n    <tr>\n      <th>1</th>\n      <td>1</td>\n      <td>1420</td>\n      <td>3709</td>\n      <td>23</td>\n      <td>8</td>\n      <td>1</td>\n      <td>3</td>\n      <td>0.17</td>\n      <td>0.3765623</td>\n      <td>0.379</td>\n      <td>...</td>\n      <td>41</td>\n      <td>жилые</td>\n      <td>5</td>\n      <td>0.0</td>\n      <td>0</td>\n      <td>МКД</td>\n      <td>Нет данных</td>\n      <td>Круглосуточно</td>\n      <td>7</td>\n      <td>True</td>\n    </tr>\n    <tr>\n      <th>2</th>\n      <td>1</td>\n      <td>1420</td>\n      <td>3709</td>\n      <td>23</td>\n      <td>8</td>\n      <td>1</td>\n      <td>4</td>\n      <td>0.09</td>\n      <td>0.198</td>\n      <td>0.207</td>\n      <td>...</td>\n      <td>41</td>\n      <td>жилые</td>\n      <td>5</td>\n      <td>0.0</td>\n      <td>0</td>\n      <td>МКД</td>\n      <td>Нет данных</td>\n      <td>Круглосуточно</td>\n      <td>7</td>\n      <td>True</td>\n    </tr>\n    <tr>\n      <th>3</th>\n      <td>1</td>\n      <td>1420</td>\n      <td>3709</td>\n      <td>23</td>\n      <td>8</td>\n      <td>1</td>\n      <td>8</td>\n      <td>0.16</td>\n      <td>0.352</td>\n      <td>0.364</td>\n      <td>...</td>\n      <td>41</td>\n      <td>жилые</td>\n      <td>5</td>\n      <td>0.0</td>\n      <td>0</td>\n      <td>МКД</td>\n      <td>Нет данных</td>\n      <td>Круглосуточно</td>\n      <td>7</td>\n      <td>True</td>\n    </tr>\n    <tr>\n      <th>4</th>\n      <td>1</td>\n      <td>1420</td>\n      <td>3709</td>\n      <td>23</td>\n      <td>8</td>\n      <td>1</td>\n      <td>9</td>\n      <td>0.17</td>\n      <td>0.374</td>\n      <td>0.364</td>\n      <td>...</td>\n      <td>41</td>\n      <td>жилые</td>\n      <td>5</td>\n      <td>0.0</td>\n      <td>0</td>\n      <td>МКД</td>\n      <td>Нет данных</td>\n      <td>Круглосуточно</td>\n      <td>7</td>\n      <td>True</td>\n    </tr>\n    <tr>\n      <th>...</th>\n      <td>...</td>\n      <td>...</td>\n      <td>...</td>\n      <td>...</td>\n      <td>...</td>\n      <td>...</td>\n      <td>...</td>\n      <td>...</td>\n      <td>...</td>\n      <td>...</td>\n      <td>...</td>\n      <td>...</td>\n      <td>...</td>\n      <td>...</td>\n      <td>...</td>\n      <td>...</td>\n      <td>...</td>\n      <td>...</td>\n      <td>...</td>\n      <td>...</td>\n      <td>...</td>\n    </tr>\n    <tr>\n      <th>5504</th>\n      <td>26</td>\n      <td>1070</td>\n      <td>3402</td>\n      <td>22</td>\n      <td>11</td>\n      <td>5312</td>\n      <td>5312</td>\n      <td>0.090571</td>\n      <td>0.3169985</td>\n      <td>0.503</td>\n      <td>...</td>\n      <td>66Д</td>\n      <td>нежилые</td>\n      <td>4</td>\n      <td>10.0</td>\n      <td>2014</td>\n      <td>Социальный</td>\n      <td>C</td>\n      <td>Круглосуточно</td>\n      <td>3</td>\n      <td>False</td>\n    </tr>\n    <tr>\n      <th>5505</th>\n      <td>1</td>\n      <td>1420</td>\n      <td>3709</td>\n      <td>23</td>\n      <td>8</td>\n      <td>669</td>\n      <td>670</td>\n      <td>0.05</td>\n      <td>0.175</td>\n      <td>0.09</td>\n      <td>...</td>\n      <td>13</td>\n      <td>нежилые</td>\n      <td>2</td>\n      <td>0.0</td>\n      <td>0</td>\n      <td>Социальный</td>\n      <td>Нет данных</td>\n      <td>9:00 – 18:00</td>\n      <td>3</td>\n      <td>False</td>\n    </tr>\n    <tr>\n      <th>5506</th>\n      <td>1</td>\n      <td>1420</td>\n      <td>3709</td>\n      <td>23</td>\n      <td>8</td>\n      <td>1199</td>\n      <td>1199</td>\n      <td>0.0</td>\n      <td>0.0</td>\n      <td>0.0</td>\n      <td>...</td>\n      <td>16</td>\n      <td>нежилые</td>\n      <td>3</td>\n      <td>0.0</td>\n      <td>0</td>\n      <td>Социальный</td>\n      <td>Нет данных</td>\n      <td>9:00 – 18:00</td>\n      <td>3</td>\n      <td>False</td>\n    </tr>\n    <tr>\n      <th>5507</th>\n      <td>1</td>\n      <td>1420</td>\n      <td>3709</td>\n      <td>23</td>\n      <td>8</td>\n      <td>1392</td>\n      <td>1392</td>\n      <td>0.04587</td>\n      <td>0.160545</td>\n      <td>0.1935</td>\n      <td>...</td>\n      <td>5А</td>\n      <td>нежилые</td>\n      <td>3</td>\n      <td>12.0</td>\n      <td>2008</td>\n      <td>Социальный</td>\n      <td>A++</td>\n      <td>9:00 – 18:00</td>\n      <td>3</td>\n      <td>False</td>\n    </tr>\n    <tr>\n      <th>5508</th>\n      <td>1</td>\n      <td>1420</td>\n      <td>3709</td>\n      <td>23</td>\n      <td>8</td>\n      <td>4391</td>\n      <td>4391</td>\n      <td>0.19</td>\n      <td>0.418</td>\n      <td>0.36</td>\n      <td>...</td>\n      <td>23</td>\n      <td>жилые</td>\n      <td>9</td>\n      <td>0.0</td>\n      <td>0</td>\n      <td>МКД</td>\n      <td>Нет данных</td>\n      <td>Круглосуточно</td>\n      <td>4</td>\n      <td>True</td>\n    </tr>\n  </tbody>\n</table>\n<p>5509 rows × 25 columns</p>\n</div>"
     },
     "execution_count": 130,
     "metadata": {},
     "output_type": "execute_result"
    }
   ],
   "source": [
    "query = sa_text(\n",
    "    \"\"\"\n",
    "    select\n",
    "        oss.id obj_source_satation_id,\n",
    "        oss.e_power, oss.t_power,\n",
    "        oss.boiler_count, oss.turbine_count,\n",
    "        -- oss.launched_date,\n",
    "        oc.obj_consumer_station_id,\n",
    "        oc.id obj_consumer_id,\n",
    "        oc.load_gvs, oc.load_fact, oc.heat_load, oc.vent_load,\n",
    "        oc.total_area,\n",
    "        oc.location_district_id, oc.location_area_id,\n",
    "        -- oc.address,\n",
    "        oc.street, oc.house_number,\n",
    "        -- oc.corpus_number, oc.soor_type, oc.soor_number,\n",
    "        oc.b_class, oc.floors,\n",
    "        oc.wear_pct,\n",
    "        oc.build_year,\n",
    "        oc.sock_type,\n",
    "        oc.energy_class,\n",
    "        oc.operating_mode,\n",
    "        oc.priority,\n",
    "        oc.is_dispatch\n",
    "     from public.obj_consumers oc\n",
    "     join public.obj_consumer_stations cs on oc.obj_consumer_station_id = cs.id\n",
    "     join obj_source_consumer_stations ocs on oc.obj_consumer_station_id = ocs.obj_consumer_station_id\n",
    "     join public.obj_source_stations oss on oss.id = ocs.obj_source_station_id\n",
    "    \"\"\"\n",
    ")\n",
    "consumers = pd.read_sql(query, db)\n",
    "consumers"
   ],
   "metadata": {
    "collapsed": false,
    "ExecuteTime": {
     "end_time": "2024-06-13T08:35:41.128638Z",
     "start_time": "2024-06-13T08:35:40.971673Z"
    }
   },
   "id": "fdbd1fe0fecbaa9a",
   "execution_count": 130
  },
  {
   "cell_type": "code",
   "outputs": [],
   "source": [
    "# Преобразуем в числовые параметры\n",
    "consumers_df = MultiColumnLabelEncoder(columns=[\n",
    "    'street', 'house_number',\n",
    "    'b_class', 'sock_type', 'energy_class',\n",
    "    'operating_mode', \n",
    "]).fit_transform(consumers)\n"
   ],
   "metadata": {
    "collapsed": false,
    "ExecuteTime": {
     "end_time": "2024-06-13T08:35:41.141046Z",
     "start_time": "2024-06-13T08:35:41.130593Z"
    }
   },
   "id": "6d26e880eb5e0632",
   "execution_count": 131
  },
  {
   "cell_type": "code",
   "outputs": [
    {
     "data": {
      "text/plain": "5509"
     },
     "execution_count": 132,
     "metadata": {},
     "output_type": "execute_result"
    }
   ],
   "source": [
    "len(consumers_df['obj_consumer_id'].unique().tolist())"
   ],
   "metadata": {
    "collapsed": false,
    "ExecuteTime": {
     "end_time": "2024-06-13T08:35:41.145314Z",
     "start_time": "2024-06-13T08:35:41.142121Z"
    }
   },
   "id": "cb966875cd1adc05",
   "execution_count": 132
  },
  {
   "cell_type": "code",
   "outputs": [
    {
     "data": {
      "text/plain": "         obj_source_satation_id  e_power  t_power  boiler_count  \\\n0                             1     1420     3709            23   \n1                             1     1420     3709            23   \n2                             1     1420     3709            23   \n3                             1     1420     3709            23   \n4                             1     1420     3709            23   \n...                         ...      ...      ...           ...   \n1029088                       1     1420     3709            23   \n1029089                       1     1420     3709            23   \n1029090                       1     1420     3709            23   \n1029091                       1     1420     3709            23   \n1029092                       1     1420     3709            23   \n\n         turbine_count  obj_consumer_station_id  obj_consumer_id load_gvs  \\\n0                    8                        1                2   0.1442   \n1                    8                        1                2   0.1442   \n2                    8                        1                2   0.1442   \n3                    8                        1                2   0.1442   \n4                    8                        1                2   0.1442   \n...                ...                      ...              ...      ...   \n1029088              8                     4391             4391     0.19   \n1029089              8                     4391             4391     0.19   \n1029090              8                     4391             4391     0.19   \n1029091              8                     4391             4391     0.19   \n1029092              8                     4391             4391     0.19   \n\n        load_fact heat_load  ...                      time  event_class  \\\n0          0.3474    0.1678  ... 2024-12-04 00:00:00+00:00          0.0   \n1          0.3474    0.1678  ... 2024-12-03 00:00:00+00:00          0.0   \n2          0.3474    0.1678  ... 2024-12-02 00:00:00+00:00          0.0   \n3          0.3474    0.1678  ... 2024-12-01 00:00:00+00:00          0.0   \n4          0.3474    0.1678  ... 2024-11-04 00:00:00+00:00          0.0   \n...           ...       ...  ...                       ...          ...   \n1029088     0.418      0.36  ... 2023-02-11 00:00:00+00:00          0.0   \n1029089     0.418      0.36  ... 2023-02-10 00:00:00+00:00          0.0   \n1029090     0.418      0.36  ... 2023-01-12 00:00:00+00:00          0.0   \n1029091     0.418      0.36  ... 2023-01-11 00:00:00+00:00          0.0   \n1029092     0.418      0.36  ... 2023-01-10 00:00:00+00:00          0.0   \n\n           year  month  season   day  day_of_week  is_weekend  \\\n0        2024.0   12.0     1.0   4.0          2.0         0.0   \n1        2024.0   12.0     1.0   3.0          1.0         0.0   \n2        2024.0   12.0     1.0   2.0          0.0         0.0   \n3        2024.0   12.0     1.0   1.0          6.0         1.0   \n4        2024.0   11.0     4.0   4.0          0.0         0.0   \n...         ...    ...     ...   ...          ...         ...   \n1029088  2023.0    2.0     1.0  11.0          5.0         1.0   \n1029089  2023.0    2.0     1.0  10.0          4.0         0.0   \n1029090  2023.0    1.0     1.0  12.0          3.0         0.0   \n1029091  2023.0    1.0     1.0  11.0          2.0         0.0   \n1029092  2023.0    1.0     1.0  10.0          1.0         0.0   \n\n        last_event_class  last_event_days  \n0                    3.0            291.0  \n1                    3.0            290.0  \n2                    3.0            289.0  \n3                    3.0            288.0  \n4                    3.0            261.0  \n...                  ...              ...  \n1029088              0.0              0.0  \n1029089              0.0              0.0  \n1029090              0.0              0.0  \n1029091              0.0              0.0  \n1029092              0.0              0.0  \n\n[1029093 rows x 44 columns]",
      "text/html": "<div>\n<style scoped>\n    .dataframe tbody tr th:only-of-type {\n        vertical-align: middle;\n    }\n\n    .dataframe tbody tr th {\n        vertical-align: top;\n    }\n\n    .dataframe thead th {\n        text-align: right;\n    }\n</style>\n<table border=\"1\" class=\"dataframe\">\n  <thead>\n    <tr style=\"text-align: right;\">\n      <th></th>\n      <th>obj_source_satation_id</th>\n      <th>e_power</th>\n      <th>t_power</th>\n      <th>boiler_count</th>\n      <th>turbine_count</th>\n      <th>obj_consumer_station_id</th>\n      <th>obj_consumer_id</th>\n      <th>load_gvs</th>\n      <th>load_fact</th>\n      <th>heat_load</th>\n      <th>...</th>\n      <th>time</th>\n      <th>event_class</th>\n      <th>year</th>\n      <th>month</th>\n      <th>season</th>\n      <th>day</th>\n      <th>day_of_week</th>\n      <th>is_weekend</th>\n      <th>last_event_class</th>\n      <th>last_event_days</th>\n    </tr>\n  </thead>\n  <tbody>\n    <tr>\n      <th>0</th>\n      <td>1</td>\n      <td>1420</td>\n      <td>3709</td>\n      <td>23</td>\n      <td>8</td>\n      <td>1</td>\n      <td>2</td>\n      <td>0.1442</td>\n      <td>0.3474</td>\n      <td>0.1678</td>\n      <td>...</td>\n      <td>2024-12-04 00:00:00+00:00</td>\n      <td>0.0</td>\n      <td>2024.0</td>\n      <td>12.0</td>\n      <td>1.0</td>\n      <td>4.0</td>\n      <td>2.0</td>\n      <td>0.0</td>\n      <td>3.0</td>\n      <td>291.0</td>\n    </tr>\n    <tr>\n      <th>1</th>\n      <td>1</td>\n      <td>1420</td>\n      <td>3709</td>\n      <td>23</td>\n      <td>8</td>\n      <td>1</td>\n      <td>2</td>\n      <td>0.1442</td>\n      <td>0.3474</td>\n      <td>0.1678</td>\n      <td>...</td>\n      <td>2024-12-03 00:00:00+00:00</td>\n      <td>0.0</td>\n      <td>2024.0</td>\n      <td>12.0</td>\n      <td>1.0</td>\n      <td>3.0</td>\n      <td>1.0</td>\n      <td>0.0</td>\n      <td>3.0</td>\n      <td>290.0</td>\n    </tr>\n    <tr>\n      <th>2</th>\n      <td>1</td>\n      <td>1420</td>\n      <td>3709</td>\n      <td>23</td>\n      <td>8</td>\n      <td>1</td>\n      <td>2</td>\n      <td>0.1442</td>\n      <td>0.3474</td>\n      <td>0.1678</td>\n      <td>...</td>\n      <td>2024-12-02 00:00:00+00:00</td>\n      <td>0.0</td>\n      <td>2024.0</td>\n      <td>12.0</td>\n      <td>1.0</td>\n      <td>2.0</td>\n      <td>0.0</td>\n      <td>0.0</td>\n      <td>3.0</td>\n      <td>289.0</td>\n    </tr>\n    <tr>\n      <th>3</th>\n      <td>1</td>\n      <td>1420</td>\n      <td>3709</td>\n      <td>23</td>\n      <td>8</td>\n      <td>1</td>\n      <td>2</td>\n      <td>0.1442</td>\n      <td>0.3474</td>\n      <td>0.1678</td>\n      <td>...</td>\n      <td>2024-12-01 00:00:00+00:00</td>\n      <td>0.0</td>\n      <td>2024.0</td>\n      <td>12.0</td>\n      <td>1.0</td>\n      <td>1.0</td>\n      <td>6.0</td>\n      <td>1.0</td>\n      <td>3.0</td>\n      <td>288.0</td>\n    </tr>\n    <tr>\n      <th>4</th>\n      <td>1</td>\n      <td>1420</td>\n      <td>3709</td>\n      <td>23</td>\n      <td>8</td>\n      <td>1</td>\n      <td>2</td>\n      <td>0.1442</td>\n      <td>0.3474</td>\n      <td>0.1678</td>\n      <td>...</td>\n      <td>2024-11-04 00:00:00+00:00</td>\n      <td>0.0</td>\n      <td>2024.0</td>\n      <td>11.0</td>\n      <td>4.0</td>\n      <td>4.0</td>\n      <td>0.0</td>\n      <td>0.0</td>\n      <td>3.0</td>\n      <td>261.0</td>\n    </tr>\n    <tr>\n      <th>...</th>\n      <td>...</td>\n      <td>...</td>\n      <td>...</td>\n      <td>...</td>\n      <td>...</td>\n      <td>...</td>\n      <td>...</td>\n      <td>...</td>\n      <td>...</td>\n      <td>...</td>\n      <td>...</td>\n      <td>...</td>\n      <td>...</td>\n      <td>...</td>\n      <td>...</td>\n      <td>...</td>\n      <td>...</td>\n      <td>...</td>\n      <td>...</td>\n      <td>...</td>\n      <td>...</td>\n    </tr>\n    <tr>\n      <th>1029088</th>\n      <td>1</td>\n      <td>1420</td>\n      <td>3709</td>\n      <td>23</td>\n      <td>8</td>\n      <td>4391</td>\n      <td>4391</td>\n      <td>0.19</td>\n      <td>0.418</td>\n      <td>0.36</td>\n      <td>...</td>\n      <td>2023-02-11 00:00:00+00:00</td>\n      <td>0.0</td>\n      <td>2023.0</td>\n      <td>2.0</td>\n      <td>1.0</td>\n      <td>11.0</td>\n      <td>5.0</td>\n      <td>1.0</td>\n      <td>0.0</td>\n      <td>0.0</td>\n    </tr>\n    <tr>\n      <th>1029089</th>\n      <td>1</td>\n      <td>1420</td>\n      <td>3709</td>\n      <td>23</td>\n      <td>8</td>\n      <td>4391</td>\n      <td>4391</td>\n      <td>0.19</td>\n      <td>0.418</td>\n      <td>0.36</td>\n      <td>...</td>\n      <td>2023-02-10 00:00:00+00:00</td>\n      <td>0.0</td>\n      <td>2023.0</td>\n      <td>2.0</td>\n      <td>1.0</td>\n      <td>10.0</td>\n      <td>4.0</td>\n      <td>0.0</td>\n      <td>0.0</td>\n      <td>0.0</td>\n    </tr>\n    <tr>\n      <th>1029090</th>\n      <td>1</td>\n      <td>1420</td>\n      <td>3709</td>\n      <td>23</td>\n      <td>8</td>\n      <td>4391</td>\n      <td>4391</td>\n      <td>0.19</td>\n      <td>0.418</td>\n      <td>0.36</td>\n      <td>...</td>\n      <td>2023-01-12 00:00:00+00:00</td>\n      <td>0.0</td>\n      <td>2023.0</td>\n      <td>1.0</td>\n      <td>1.0</td>\n      <td>12.0</td>\n      <td>3.0</td>\n      <td>0.0</td>\n      <td>0.0</td>\n      <td>0.0</td>\n    </tr>\n    <tr>\n      <th>1029091</th>\n      <td>1</td>\n      <td>1420</td>\n      <td>3709</td>\n      <td>23</td>\n      <td>8</td>\n      <td>4391</td>\n      <td>4391</td>\n      <td>0.19</td>\n      <td>0.418</td>\n      <td>0.36</td>\n      <td>...</td>\n      <td>2023-01-11 00:00:00+00:00</td>\n      <td>0.0</td>\n      <td>2023.0</td>\n      <td>1.0</td>\n      <td>1.0</td>\n      <td>11.0</td>\n      <td>2.0</td>\n      <td>0.0</td>\n      <td>0.0</td>\n      <td>0.0</td>\n    </tr>\n    <tr>\n      <th>1029092</th>\n      <td>1</td>\n      <td>1420</td>\n      <td>3709</td>\n      <td>23</td>\n      <td>8</td>\n      <td>4391</td>\n      <td>4391</td>\n      <td>0.19</td>\n      <td>0.418</td>\n      <td>0.36</td>\n      <td>...</td>\n      <td>2023-01-10 00:00:00+00:00</td>\n      <td>0.0</td>\n      <td>2023.0</td>\n      <td>1.0</td>\n      <td>1.0</td>\n      <td>10.0</td>\n      <td>1.0</td>\n      <td>0.0</td>\n      <td>0.0</td>\n      <td>0.0</td>\n    </tr>\n  </tbody>\n</table>\n<p>1029093 rows × 44 columns</p>\n</div>"
     },
     "execution_count": 249,
     "metadata": {},
     "output_type": "execute_result"
    }
   ],
   "source": [
    "all_train_df = pd.merge(consumers_df, train_df, how='left', on='obj_consumer_id')\n",
    "all_train_df"
   ],
   "metadata": {
    "collapsed": false,
    "ExecuteTime": {
     "end_time": "2024-06-13T11:27:17.898171Z",
     "start_time": "2024-06-13T11:27:17.155635Z"
    }
   },
   "id": "9138c9e1439df791",
   "execution_count": 249
  },
  {
   "cell_type": "code",
   "outputs": [
    {
     "data": {
      "text/plain": "         obj_source_satation_id  e_power  t_power  boiler_count  \\\n0                             1     1420     3709            23   \n1                             1     1420     3709            23   \n2                             1     1420     3709            23   \n3                             1     1420     3709            23   \n4                             1     1420     3709            23   \n...                         ...      ...      ...           ...   \n1029088                       1     1420     3709            23   \n1029089                       1     1420     3709            23   \n1029090                       1     1420     3709            23   \n1029091                       1     1420     3709            23   \n1029092                       1     1420     3709            23   \n\n         turbine_count  obj_consumer_station_id  obj_consumer_id load_gvs  \\\n0                    8                        1                2   0.1442   \n1                    8                        1                2   0.1442   \n2                    8                        1                2   0.1442   \n3                    8                        1                2   0.1442   \n4                    8                        1                2   0.1442   \n...                ...                      ...              ...      ...   \n1029088              8                     4391             4391     0.19   \n1029089              8                     4391             4391     0.19   \n1029090              8                     4391             4391     0.19   \n1029091              8                     4391             4391     0.19   \n1029092              8                     4391             4391     0.19   \n\n        load_fact heat_load  ...                      time    year  month  \\\n0          0.3474    0.1678  ... 2024-12-04 00:00:00+00:00  2024.0   12.0   \n1          0.3474    0.1678  ... 2024-12-03 00:00:00+00:00  2024.0   12.0   \n2          0.3474    0.1678  ... 2024-12-02 00:00:00+00:00  2024.0   12.0   \n3          0.3474    0.1678  ... 2024-12-01 00:00:00+00:00  2024.0   12.0   \n4          0.3474    0.1678  ... 2024-11-04 00:00:00+00:00  2024.0   11.0   \n...           ...       ...  ...                       ...     ...    ...   \n1029088     0.418      0.36  ... 2023-02-11 00:00:00+00:00  2023.0    2.0   \n1029089     0.418      0.36  ... 2023-02-10 00:00:00+00:00  2023.0    2.0   \n1029090     0.418      0.36  ... 2023-01-12 00:00:00+00:00  2023.0    1.0   \n1029091     0.418      0.36  ... 2023-01-11 00:00:00+00:00  2023.0    1.0   \n1029092     0.418      0.36  ... 2023-01-10 00:00:00+00:00  2023.0    1.0   \n\n         season   day  day_of_week  is_weekend  last_event_class  \\\n0           1.0   4.0          2.0         0.0               3.0   \n1           1.0   3.0          1.0         0.0               3.0   \n2           1.0   2.0          0.0         0.0               3.0   \n3           1.0   1.0          6.0         1.0               3.0   \n4           4.0   4.0          0.0         0.0               3.0   \n...         ...   ...          ...         ...               ...   \n1029088     1.0  11.0          5.0         1.0               0.0   \n1029089     1.0  10.0          4.0         0.0               0.0   \n1029090     1.0  12.0          3.0         0.0               0.0   \n1029091     1.0  11.0          2.0         0.0               0.0   \n1029092     1.0  10.0          1.0         0.0               0.0   \n\n        last_event_days  event_class  \n0                 291.0          0.0  \n1                 290.0          0.0  \n2                 289.0          0.0  \n3                 288.0          0.0  \n4                 261.0          0.0  \n...                 ...          ...  \n1029088             0.0          0.0  \n1029089             0.0          0.0  \n1029090             0.0          0.0  \n1029091             0.0          0.0  \n1029092             0.0          0.0  \n\n[1029093 rows x 44 columns]",
      "text/html": "<div>\n<style scoped>\n    .dataframe tbody tr th:only-of-type {\n        vertical-align: middle;\n    }\n\n    .dataframe tbody tr th {\n        vertical-align: top;\n    }\n\n    .dataframe thead th {\n        text-align: right;\n    }\n</style>\n<table border=\"1\" class=\"dataframe\">\n  <thead>\n    <tr style=\"text-align: right;\">\n      <th></th>\n      <th>obj_source_satation_id</th>\n      <th>e_power</th>\n      <th>t_power</th>\n      <th>boiler_count</th>\n      <th>turbine_count</th>\n      <th>obj_consumer_station_id</th>\n      <th>obj_consumer_id</th>\n      <th>load_gvs</th>\n      <th>load_fact</th>\n      <th>heat_load</th>\n      <th>...</th>\n      <th>time</th>\n      <th>year</th>\n      <th>month</th>\n      <th>season</th>\n      <th>day</th>\n      <th>day_of_week</th>\n      <th>is_weekend</th>\n      <th>last_event_class</th>\n      <th>last_event_days</th>\n      <th>event_class</th>\n    </tr>\n  </thead>\n  <tbody>\n    <tr>\n      <th>0</th>\n      <td>1</td>\n      <td>1420</td>\n      <td>3709</td>\n      <td>23</td>\n      <td>8</td>\n      <td>1</td>\n      <td>2</td>\n      <td>0.1442</td>\n      <td>0.3474</td>\n      <td>0.1678</td>\n      <td>...</td>\n      <td>2024-12-04 00:00:00+00:00</td>\n      <td>2024.0</td>\n      <td>12.0</td>\n      <td>1.0</td>\n      <td>4.0</td>\n      <td>2.0</td>\n      <td>0.0</td>\n      <td>3.0</td>\n      <td>291.0</td>\n      <td>0.0</td>\n    </tr>\n    <tr>\n      <th>1</th>\n      <td>1</td>\n      <td>1420</td>\n      <td>3709</td>\n      <td>23</td>\n      <td>8</td>\n      <td>1</td>\n      <td>2</td>\n      <td>0.1442</td>\n      <td>0.3474</td>\n      <td>0.1678</td>\n      <td>...</td>\n      <td>2024-12-03 00:00:00+00:00</td>\n      <td>2024.0</td>\n      <td>12.0</td>\n      <td>1.0</td>\n      <td>3.0</td>\n      <td>1.0</td>\n      <td>0.0</td>\n      <td>3.0</td>\n      <td>290.0</td>\n      <td>0.0</td>\n    </tr>\n    <tr>\n      <th>2</th>\n      <td>1</td>\n      <td>1420</td>\n      <td>3709</td>\n      <td>23</td>\n      <td>8</td>\n      <td>1</td>\n      <td>2</td>\n      <td>0.1442</td>\n      <td>0.3474</td>\n      <td>0.1678</td>\n      <td>...</td>\n      <td>2024-12-02 00:00:00+00:00</td>\n      <td>2024.0</td>\n      <td>12.0</td>\n      <td>1.0</td>\n      <td>2.0</td>\n      <td>0.0</td>\n      <td>0.0</td>\n      <td>3.0</td>\n      <td>289.0</td>\n      <td>0.0</td>\n    </tr>\n    <tr>\n      <th>3</th>\n      <td>1</td>\n      <td>1420</td>\n      <td>3709</td>\n      <td>23</td>\n      <td>8</td>\n      <td>1</td>\n      <td>2</td>\n      <td>0.1442</td>\n      <td>0.3474</td>\n      <td>0.1678</td>\n      <td>...</td>\n      <td>2024-12-01 00:00:00+00:00</td>\n      <td>2024.0</td>\n      <td>12.0</td>\n      <td>1.0</td>\n      <td>1.0</td>\n      <td>6.0</td>\n      <td>1.0</td>\n      <td>3.0</td>\n      <td>288.0</td>\n      <td>0.0</td>\n    </tr>\n    <tr>\n      <th>4</th>\n      <td>1</td>\n      <td>1420</td>\n      <td>3709</td>\n      <td>23</td>\n      <td>8</td>\n      <td>1</td>\n      <td>2</td>\n      <td>0.1442</td>\n      <td>0.3474</td>\n      <td>0.1678</td>\n      <td>...</td>\n      <td>2024-11-04 00:00:00+00:00</td>\n      <td>2024.0</td>\n      <td>11.0</td>\n      <td>4.0</td>\n      <td>4.0</td>\n      <td>0.0</td>\n      <td>0.0</td>\n      <td>3.0</td>\n      <td>261.0</td>\n      <td>0.0</td>\n    </tr>\n    <tr>\n      <th>...</th>\n      <td>...</td>\n      <td>...</td>\n      <td>...</td>\n      <td>...</td>\n      <td>...</td>\n      <td>...</td>\n      <td>...</td>\n      <td>...</td>\n      <td>...</td>\n      <td>...</td>\n      <td>...</td>\n      <td>...</td>\n      <td>...</td>\n      <td>...</td>\n      <td>...</td>\n      <td>...</td>\n      <td>...</td>\n      <td>...</td>\n      <td>...</td>\n      <td>...</td>\n      <td>...</td>\n    </tr>\n    <tr>\n      <th>1029088</th>\n      <td>1</td>\n      <td>1420</td>\n      <td>3709</td>\n      <td>23</td>\n      <td>8</td>\n      <td>4391</td>\n      <td>4391</td>\n      <td>0.19</td>\n      <td>0.418</td>\n      <td>0.36</td>\n      <td>...</td>\n      <td>2023-02-11 00:00:00+00:00</td>\n      <td>2023.0</td>\n      <td>2.0</td>\n      <td>1.0</td>\n      <td>11.0</td>\n      <td>5.0</td>\n      <td>1.0</td>\n      <td>0.0</td>\n      <td>0.0</td>\n      <td>0.0</td>\n    </tr>\n    <tr>\n      <th>1029089</th>\n      <td>1</td>\n      <td>1420</td>\n      <td>3709</td>\n      <td>23</td>\n      <td>8</td>\n      <td>4391</td>\n      <td>4391</td>\n      <td>0.19</td>\n      <td>0.418</td>\n      <td>0.36</td>\n      <td>...</td>\n      <td>2023-02-10 00:00:00+00:00</td>\n      <td>2023.0</td>\n      <td>2.0</td>\n      <td>1.0</td>\n      <td>10.0</td>\n      <td>4.0</td>\n      <td>0.0</td>\n      <td>0.0</td>\n      <td>0.0</td>\n      <td>0.0</td>\n    </tr>\n    <tr>\n      <th>1029090</th>\n      <td>1</td>\n      <td>1420</td>\n      <td>3709</td>\n      <td>23</td>\n      <td>8</td>\n      <td>4391</td>\n      <td>4391</td>\n      <td>0.19</td>\n      <td>0.418</td>\n      <td>0.36</td>\n      <td>...</td>\n      <td>2023-01-12 00:00:00+00:00</td>\n      <td>2023.0</td>\n      <td>1.0</td>\n      <td>1.0</td>\n      <td>12.0</td>\n      <td>3.0</td>\n      <td>0.0</td>\n      <td>0.0</td>\n      <td>0.0</td>\n      <td>0.0</td>\n    </tr>\n    <tr>\n      <th>1029091</th>\n      <td>1</td>\n      <td>1420</td>\n      <td>3709</td>\n      <td>23</td>\n      <td>8</td>\n      <td>4391</td>\n      <td>4391</td>\n      <td>0.19</td>\n      <td>0.418</td>\n      <td>0.36</td>\n      <td>...</td>\n      <td>2023-01-11 00:00:00+00:00</td>\n      <td>2023.0</td>\n      <td>1.0</td>\n      <td>1.0</td>\n      <td>11.0</td>\n      <td>2.0</td>\n      <td>0.0</td>\n      <td>0.0</td>\n      <td>0.0</td>\n      <td>0.0</td>\n    </tr>\n    <tr>\n      <th>1029092</th>\n      <td>1</td>\n      <td>1420</td>\n      <td>3709</td>\n      <td>23</td>\n      <td>8</td>\n      <td>4391</td>\n      <td>4391</td>\n      <td>0.19</td>\n      <td>0.418</td>\n      <td>0.36</td>\n      <td>...</td>\n      <td>2023-01-10 00:00:00+00:00</td>\n      <td>2023.0</td>\n      <td>1.0</td>\n      <td>1.0</td>\n      <td>10.0</td>\n      <td>1.0</td>\n      <td>0.0</td>\n      <td>0.0</td>\n      <td>0.0</td>\n      <td>0.0</td>\n    </tr>\n  </tbody>\n</table>\n<p>1029093 rows × 44 columns</p>\n</div>"
     },
     "execution_count": 250,
     "metadata": {},
     "output_type": "execute_result"
    }
   ],
   "source": [
    "all_train_df= all_train_df[['obj_source_satation_id',\n",
    " 'e_power',\n",
    " 't_power',\n",
    " 'boiler_count',\n",
    " 'turbine_count',\n",
    " 'obj_consumer_station_id',\n",
    " 'obj_consumer_id',\n",
    " 'load_gvs',\n",
    " 'load_fact',\n",
    " 'heat_load',\n",
    " 'vent_load',\n",
    " 'total_area',\n",
    " 'location_district_id',\n",
    " 'location_area_id',\n",
    " 'street',\n",
    " 'house_number',\n",
    " 'b_class',\n",
    " 'floors',\n",
    " 'wear_pct',\n",
    " 'build_year',\n",
    " 'sock_type',\n",
    " 'energy_class',\n",
    " 'operating_mode',\n",
    " 'priority',\n",
    " 'is_dispatch',\n",
    " 'gcal_in_system',\n",
    " 'gcal_out_system',\n",
    " 'gcal_out_system',\n",
    " 'subset',\n",
    " 'leak',\n",
    " 'supply_temp',\n",
    " 'return_temp',\n",
    " 'heat_thermal_energy',\n",
    " 'errors',\n",
    " 'days_of_work',\n",
    " 'time',\n",
    " 'year',\n",
    " 'month',\n",
    " 'season',\n",
    " 'day',\n",
    " 'day_of_week',\n",
    " 'is_weekend',\n",
    " 'last_event_class',\n",
    " 'last_event_days',\n",
    " 'event_class',]]\n",
    "# len(all_train_df['obj_consumer_id'].unique().tolist())\n",
    "all_train_df"
   ],
   "metadata": {
    "collapsed": false,
    "ExecuteTime": {
     "end_time": "2024-06-13T11:27:21.092533Z",
     "start_time": "2024-06-13T11:27:20.810249Z"
    }
   },
   "id": "7c98090a0023070c",
   "execution_count": 250
  },
  {
   "cell_type": "code",
   "outputs": [],
   "source": [
    "df_with_out = all_train_df[all_train_df['last_event_class'].notna()]"
   ],
   "metadata": {
    "collapsed": false,
    "ExecuteTime": {
     "end_time": "2024-06-13T08:35:42.027804Z",
     "start_time": "2024-06-13T08:35:41.870394Z"
    }
   },
   "id": "6255170c5e872ed0",
   "execution_count": 135
  },
  {
   "cell_type": "code",
   "outputs": [],
   "source": [
    "# df_with_out.drop('time', inplace=True, axis=1)"
   ],
   "metadata": {
    "collapsed": false,
    "ExecuteTime": {
     "end_time": "2024-06-13T08:35:42.031367Z",
     "start_time": "2024-06-13T08:35:42.029016Z"
    }
   },
   "id": "4e67f9b962b5d72a",
   "execution_count": 136
  },
  {
   "cell_type": "code",
   "outputs": [
    {
     "data": {
      "text/plain": "         obj_source_satation_id  e_power  t_power  boiler_count  \\\n0                             1     1420     3709            23   \n1                             1     1420     3709            23   \n2                             1     1420     3709            23   \n3                             1     1420     3709            23   \n4                             1     1420     3709            23   \n...                         ...      ...      ...           ...   \n1029088                       1     1420     3709            23   \n1029089                       1     1420     3709            23   \n1029090                       1     1420     3709            23   \n1029091                       1     1420     3709            23   \n1029092                       1     1420     3709            23   \n\n         turbine_count  obj_consumer_station_id  obj_consumer_id load_gvs  \\\n0                    8                        1                2   0.1442   \n1                    8                        1                2   0.1442   \n2                    8                        1                2   0.1442   \n3                    8                        1                2   0.1442   \n4                    8                        1                2   0.1442   \n...                ...                      ...              ...      ...   \n1029088              8                     4391             4391     0.19   \n1029089              8                     4391             4391     0.19   \n1029090              8                     4391             4391     0.19   \n1029091              8                     4391             4391     0.19   \n1029092              8                     4391             4391     0.19   \n\n        load_fact heat_load  ...                      time  event_class  \\\n0          0.3474    0.1678  ... 2024-12-04 00:00:00+00:00          0.0   \n1          0.3474    0.1678  ... 2024-12-03 00:00:00+00:00          0.0   \n2          0.3474    0.1678  ... 2024-12-02 00:00:00+00:00          0.0   \n3          0.3474    0.1678  ... 2024-12-01 00:00:00+00:00          0.0   \n4          0.3474    0.1678  ... 2024-11-04 00:00:00+00:00          0.0   \n...           ...       ...  ...                       ...          ...   \n1029088     0.418      0.36  ... 2023-02-11 00:00:00+00:00          0.0   \n1029089     0.418      0.36  ... 2023-02-10 00:00:00+00:00          0.0   \n1029090     0.418      0.36  ... 2023-01-12 00:00:00+00:00          0.0   \n1029091     0.418      0.36  ... 2023-01-11 00:00:00+00:00          0.0   \n1029092     0.418      0.36  ... 2023-01-10 00:00:00+00:00          0.0   \n\n           year  month  season   day  day_of_week  is_weekend  \\\n0        2024.0   12.0     1.0   4.0          2.0         0.0   \n1        2024.0   12.0     1.0   3.0          1.0         0.0   \n2        2024.0   12.0     1.0   2.0          0.0         0.0   \n3        2024.0   12.0     1.0   1.0          6.0         1.0   \n4        2024.0   11.0     4.0   4.0          0.0         0.0   \n...         ...    ...     ...   ...          ...         ...   \n1029088  2023.0    2.0     1.0  11.0          5.0         1.0   \n1029089  2023.0    2.0     1.0  10.0          4.0         0.0   \n1029090  2023.0    1.0     1.0  12.0          3.0         0.0   \n1029091  2023.0    1.0     1.0  11.0          2.0         0.0   \n1029092  2023.0    1.0     1.0  10.0          1.0         0.0   \n\n        last_event_class  last_event_days  \n0                    3.0            291.0  \n1                    3.0            290.0  \n2                    3.0            289.0  \n3                    3.0            288.0  \n4                    3.0            261.0  \n...                  ...              ...  \n1029088              0.0              0.0  \n1029089              0.0              0.0  \n1029090              0.0              0.0  \n1029091              0.0              0.0  \n1029092              0.0              0.0  \n\n[1027919 rows x 44 columns]",
      "text/html": "<div>\n<style scoped>\n    .dataframe tbody tr th:only-of-type {\n        vertical-align: middle;\n    }\n\n    .dataframe tbody tr th {\n        vertical-align: top;\n    }\n\n    .dataframe thead th {\n        text-align: right;\n    }\n</style>\n<table border=\"1\" class=\"dataframe\">\n  <thead>\n    <tr style=\"text-align: right;\">\n      <th></th>\n      <th>obj_source_satation_id</th>\n      <th>e_power</th>\n      <th>t_power</th>\n      <th>boiler_count</th>\n      <th>turbine_count</th>\n      <th>obj_consumer_station_id</th>\n      <th>obj_consumer_id</th>\n      <th>load_gvs</th>\n      <th>load_fact</th>\n      <th>heat_load</th>\n      <th>...</th>\n      <th>time</th>\n      <th>event_class</th>\n      <th>year</th>\n      <th>month</th>\n      <th>season</th>\n      <th>day</th>\n      <th>day_of_week</th>\n      <th>is_weekend</th>\n      <th>last_event_class</th>\n      <th>last_event_days</th>\n    </tr>\n  </thead>\n  <tbody>\n    <tr>\n      <th>0</th>\n      <td>1</td>\n      <td>1420</td>\n      <td>3709</td>\n      <td>23</td>\n      <td>8</td>\n      <td>1</td>\n      <td>2</td>\n      <td>0.1442</td>\n      <td>0.3474</td>\n      <td>0.1678</td>\n      <td>...</td>\n      <td>2024-12-04 00:00:00+00:00</td>\n      <td>0.0</td>\n      <td>2024.0</td>\n      <td>12.0</td>\n      <td>1.0</td>\n      <td>4.0</td>\n      <td>2.0</td>\n      <td>0.0</td>\n      <td>3.0</td>\n      <td>291.0</td>\n    </tr>\n    <tr>\n      <th>1</th>\n      <td>1</td>\n      <td>1420</td>\n      <td>3709</td>\n      <td>23</td>\n      <td>8</td>\n      <td>1</td>\n      <td>2</td>\n      <td>0.1442</td>\n      <td>0.3474</td>\n      <td>0.1678</td>\n      <td>...</td>\n      <td>2024-12-03 00:00:00+00:00</td>\n      <td>0.0</td>\n      <td>2024.0</td>\n      <td>12.0</td>\n      <td>1.0</td>\n      <td>3.0</td>\n      <td>1.0</td>\n      <td>0.0</td>\n      <td>3.0</td>\n      <td>290.0</td>\n    </tr>\n    <tr>\n      <th>2</th>\n      <td>1</td>\n      <td>1420</td>\n      <td>3709</td>\n      <td>23</td>\n      <td>8</td>\n      <td>1</td>\n      <td>2</td>\n      <td>0.1442</td>\n      <td>0.3474</td>\n      <td>0.1678</td>\n      <td>...</td>\n      <td>2024-12-02 00:00:00+00:00</td>\n      <td>0.0</td>\n      <td>2024.0</td>\n      <td>12.0</td>\n      <td>1.0</td>\n      <td>2.0</td>\n      <td>0.0</td>\n      <td>0.0</td>\n      <td>3.0</td>\n      <td>289.0</td>\n    </tr>\n    <tr>\n      <th>3</th>\n      <td>1</td>\n      <td>1420</td>\n      <td>3709</td>\n      <td>23</td>\n      <td>8</td>\n      <td>1</td>\n      <td>2</td>\n      <td>0.1442</td>\n      <td>0.3474</td>\n      <td>0.1678</td>\n      <td>...</td>\n      <td>2024-12-01 00:00:00+00:00</td>\n      <td>0.0</td>\n      <td>2024.0</td>\n      <td>12.0</td>\n      <td>1.0</td>\n      <td>1.0</td>\n      <td>6.0</td>\n      <td>1.0</td>\n      <td>3.0</td>\n      <td>288.0</td>\n    </tr>\n    <tr>\n      <th>4</th>\n      <td>1</td>\n      <td>1420</td>\n      <td>3709</td>\n      <td>23</td>\n      <td>8</td>\n      <td>1</td>\n      <td>2</td>\n      <td>0.1442</td>\n      <td>0.3474</td>\n      <td>0.1678</td>\n      <td>...</td>\n      <td>2024-11-04 00:00:00+00:00</td>\n      <td>0.0</td>\n      <td>2024.0</td>\n      <td>11.0</td>\n      <td>4.0</td>\n      <td>4.0</td>\n      <td>0.0</td>\n      <td>0.0</td>\n      <td>3.0</td>\n      <td>261.0</td>\n    </tr>\n    <tr>\n      <th>...</th>\n      <td>...</td>\n      <td>...</td>\n      <td>...</td>\n      <td>...</td>\n      <td>...</td>\n      <td>...</td>\n      <td>...</td>\n      <td>...</td>\n      <td>...</td>\n      <td>...</td>\n      <td>...</td>\n      <td>...</td>\n      <td>...</td>\n      <td>...</td>\n      <td>...</td>\n      <td>...</td>\n      <td>...</td>\n      <td>...</td>\n      <td>...</td>\n      <td>...</td>\n      <td>...</td>\n    </tr>\n    <tr>\n      <th>1029088</th>\n      <td>1</td>\n      <td>1420</td>\n      <td>3709</td>\n      <td>23</td>\n      <td>8</td>\n      <td>4391</td>\n      <td>4391</td>\n      <td>0.19</td>\n      <td>0.418</td>\n      <td>0.36</td>\n      <td>...</td>\n      <td>2023-02-11 00:00:00+00:00</td>\n      <td>0.0</td>\n      <td>2023.0</td>\n      <td>2.0</td>\n      <td>1.0</td>\n      <td>11.0</td>\n      <td>5.0</td>\n      <td>1.0</td>\n      <td>0.0</td>\n      <td>0.0</td>\n    </tr>\n    <tr>\n      <th>1029089</th>\n      <td>1</td>\n      <td>1420</td>\n      <td>3709</td>\n      <td>23</td>\n      <td>8</td>\n      <td>4391</td>\n      <td>4391</td>\n      <td>0.19</td>\n      <td>0.418</td>\n      <td>0.36</td>\n      <td>...</td>\n      <td>2023-02-10 00:00:00+00:00</td>\n      <td>0.0</td>\n      <td>2023.0</td>\n      <td>2.0</td>\n      <td>1.0</td>\n      <td>10.0</td>\n      <td>4.0</td>\n      <td>0.0</td>\n      <td>0.0</td>\n      <td>0.0</td>\n    </tr>\n    <tr>\n      <th>1029090</th>\n      <td>1</td>\n      <td>1420</td>\n      <td>3709</td>\n      <td>23</td>\n      <td>8</td>\n      <td>4391</td>\n      <td>4391</td>\n      <td>0.19</td>\n      <td>0.418</td>\n      <td>0.36</td>\n      <td>...</td>\n      <td>2023-01-12 00:00:00+00:00</td>\n      <td>0.0</td>\n      <td>2023.0</td>\n      <td>1.0</td>\n      <td>1.0</td>\n      <td>12.0</td>\n      <td>3.0</td>\n      <td>0.0</td>\n      <td>0.0</td>\n      <td>0.0</td>\n    </tr>\n    <tr>\n      <th>1029091</th>\n      <td>1</td>\n      <td>1420</td>\n      <td>3709</td>\n      <td>23</td>\n      <td>8</td>\n      <td>4391</td>\n      <td>4391</td>\n      <td>0.19</td>\n      <td>0.418</td>\n      <td>0.36</td>\n      <td>...</td>\n      <td>2023-01-11 00:00:00+00:00</td>\n      <td>0.0</td>\n      <td>2023.0</td>\n      <td>1.0</td>\n      <td>1.0</td>\n      <td>11.0</td>\n      <td>2.0</td>\n      <td>0.0</td>\n      <td>0.0</td>\n      <td>0.0</td>\n    </tr>\n    <tr>\n      <th>1029092</th>\n      <td>1</td>\n      <td>1420</td>\n      <td>3709</td>\n      <td>23</td>\n      <td>8</td>\n      <td>4391</td>\n      <td>4391</td>\n      <td>0.19</td>\n      <td>0.418</td>\n      <td>0.36</td>\n      <td>...</td>\n      <td>2023-01-10 00:00:00+00:00</td>\n      <td>0.0</td>\n      <td>2023.0</td>\n      <td>1.0</td>\n      <td>1.0</td>\n      <td>10.0</td>\n      <td>1.0</td>\n      <td>0.0</td>\n      <td>0.0</td>\n      <td>0.0</td>\n    </tr>\n  </tbody>\n</table>\n<p>1027919 rows × 44 columns</p>\n</div>"
     },
     "execution_count": 137,
     "metadata": {},
     "output_type": "execute_result"
    }
   ],
   "source": [
    "df_with_out"
   ],
   "metadata": {
    "collapsed": false,
    "ExecuteTime": {
     "end_time": "2024-06-13T08:35:42.236208Z",
     "start_time": "2024-06-13T08:35:42.033446Z"
    }
   },
   "id": "8f88bf03dd9e9adc",
   "execution_count": 137
  },
  {
   "cell_type": "code",
   "outputs": [],
   "source": [
    "# df_with_out.to_csv('train.csv', index=False)"
   ],
   "metadata": {
    "collapsed": false,
    "ExecuteTime": {
     "end_time": "2024-06-13T08:35:42.248283Z",
     "start_time": "2024-06-13T08:35:42.242099Z"
    }
   },
   "id": "76546217b64616f9",
   "execution_count": 138
  },
  {
   "cell_type": "code",
   "outputs": [
    {
     "name": "stderr",
     "output_type": "stream",
     "text": [
      "/var/folders/qz/qth62xx942x93nyp4rrsdt_w0000gn/T/ipykernel_46209/244292520.py:35: FutureWarning: DataFrame.interpolate with object dtype is deprecated and will raise in a future version. Call obj.infer_objects(copy=False) before interpolating instead.\n",
      "  ss.interpolate(method='linear', inplace=True)\n"
     ]
    },
    {
     "data": {
      "text/plain": "      obj_consumer_id  obj_source_satation_id  e_power  t_power  boiler_count  \\\n0                   1                       1     1420     3709            23   \n1                   2                       1     1420     3709            23   \n2                   3                       1     1420     3709            23   \n3                   4                       1     1420     3709            23   \n4                   5                       1     1420     3709            23   \n...               ...                     ...      ...      ...           ...   \n5504             5571                     148      330      868             7   \n5505             5572                       1     1420     3709            23   \n5506             5573                       1     1420     3709            23   \n5507             5574                       1     1420     3709            23   \n5508             5575                       1     1420     3709            23   \n\n      turbine_count  obj_consumer_station_id  load_gvs  load_fact heat_load  \\\n0                 8                        1      0.01      0.035     0.105   \n1                 8                        1    0.1442     0.3474    0.1678   \n2                 8                        1      0.17  0.3765623     0.379   \n3                 8                        1      0.09      0.198     0.207   \n4                 8                        1   0.13912   0.333364    0.2854   \n...             ...                      ...       ...        ...       ...   \n5504              3                     5571      0.09    0.19865      0.17   \n5505              8                     5572       0.2   0.447956     0.454   \n5506              8                     5572       0.0        0.0      0.15   \n5507              8                     5572  0.112219  0.2504321  0.247551   \n5508              8                     5572       0.0        0.0      0.17   \n\n      ...                       time  event_class  year  month  season  day  \\\n0     ... 2024-06-13 14:13:56.851996            0  2024      6       3   13   \n1     ... 2024-06-13 14:13:56.851996            0  2024      6       3   13   \n2     ... 2024-06-13 14:13:56.851996            0  2024      6       3   13   \n3     ... 2024-06-13 14:13:56.851996            0  2024      6       3   13   \n4     ... 2024-06-13 14:13:56.851996            0  2024      6       3   13   \n...   ...                        ...          ...   ...    ...     ...  ...   \n5504  ... 2024-06-13 14:13:56.851996            0  2024      6       3   13   \n5505  ... 2024-06-13 14:13:56.851996            0  2024      6       3   13   \n5506  ... 2024-06-13 14:13:56.851996            0  2024      6       3   13   \n5507  ... 2024-06-13 14:13:56.851996            0  2024      6       3   13   \n5508  ... 2024-06-13 14:13:56.851996            0  2024      6       3   13   \n\n      day_of_week  is_weekend last_event_class  last_event_days  \n0               3           0              0.0              0.0  \n1               3           0              0.0            291.0  \n2               3           0              0.0            251.0  \n3               3           0              0.0            295.0  \n4               3           0              0.0            186.0  \n...           ...         ...              ...              ...  \n5504            3           0              0.0              0.0  \n5505            3           0              0.0            266.0  \n5506            3           0              0.0            410.0  \n5507            3           0              0.0            378.0  \n5508            3           0              0.0            313.0  \n\n[5509 rows x 44 columns]",
      "text/html": "<div>\n<style scoped>\n    .dataframe tbody tr th:only-of-type {\n        vertical-align: middle;\n    }\n\n    .dataframe tbody tr th {\n        vertical-align: top;\n    }\n\n    .dataframe thead th {\n        text-align: right;\n    }\n</style>\n<table border=\"1\" class=\"dataframe\">\n  <thead>\n    <tr style=\"text-align: right;\">\n      <th></th>\n      <th>obj_consumer_id</th>\n      <th>obj_source_satation_id</th>\n      <th>e_power</th>\n      <th>t_power</th>\n      <th>boiler_count</th>\n      <th>turbine_count</th>\n      <th>obj_consumer_station_id</th>\n      <th>load_gvs</th>\n      <th>load_fact</th>\n      <th>heat_load</th>\n      <th>...</th>\n      <th>time</th>\n      <th>event_class</th>\n      <th>year</th>\n      <th>month</th>\n      <th>season</th>\n      <th>day</th>\n      <th>day_of_week</th>\n      <th>is_weekend</th>\n      <th>last_event_class</th>\n      <th>last_event_days</th>\n    </tr>\n  </thead>\n  <tbody>\n    <tr>\n      <th>0</th>\n      <td>1</td>\n      <td>1</td>\n      <td>1420</td>\n      <td>3709</td>\n      <td>23</td>\n      <td>8</td>\n      <td>1</td>\n      <td>0.01</td>\n      <td>0.035</td>\n      <td>0.105</td>\n      <td>...</td>\n      <td>2024-06-13 14:13:56.851996</td>\n      <td>0</td>\n      <td>2024</td>\n      <td>6</td>\n      <td>3</td>\n      <td>13</td>\n      <td>3</td>\n      <td>0</td>\n      <td>0.0</td>\n      <td>0.0</td>\n    </tr>\n    <tr>\n      <th>1</th>\n      <td>2</td>\n      <td>1</td>\n      <td>1420</td>\n      <td>3709</td>\n      <td>23</td>\n      <td>8</td>\n      <td>1</td>\n      <td>0.1442</td>\n      <td>0.3474</td>\n      <td>0.1678</td>\n      <td>...</td>\n      <td>2024-06-13 14:13:56.851996</td>\n      <td>0</td>\n      <td>2024</td>\n      <td>6</td>\n      <td>3</td>\n      <td>13</td>\n      <td>3</td>\n      <td>0</td>\n      <td>0.0</td>\n      <td>291.0</td>\n    </tr>\n    <tr>\n      <th>2</th>\n      <td>3</td>\n      <td>1</td>\n      <td>1420</td>\n      <td>3709</td>\n      <td>23</td>\n      <td>8</td>\n      <td>1</td>\n      <td>0.17</td>\n      <td>0.3765623</td>\n      <td>0.379</td>\n      <td>...</td>\n      <td>2024-06-13 14:13:56.851996</td>\n      <td>0</td>\n      <td>2024</td>\n      <td>6</td>\n      <td>3</td>\n      <td>13</td>\n      <td>3</td>\n      <td>0</td>\n      <td>0.0</td>\n      <td>251.0</td>\n    </tr>\n    <tr>\n      <th>3</th>\n      <td>4</td>\n      <td>1</td>\n      <td>1420</td>\n      <td>3709</td>\n      <td>23</td>\n      <td>8</td>\n      <td>1</td>\n      <td>0.09</td>\n      <td>0.198</td>\n      <td>0.207</td>\n      <td>...</td>\n      <td>2024-06-13 14:13:56.851996</td>\n      <td>0</td>\n      <td>2024</td>\n      <td>6</td>\n      <td>3</td>\n      <td>13</td>\n      <td>3</td>\n      <td>0</td>\n      <td>0.0</td>\n      <td>295.0</td>\n    </tr>\n    <tr>\n      <th>4</th>\n      <td>5</td>\n      <td>1</td>\n      <td>1420</td>\n      <td>3709</td>\n      <td>23</td>\n      <td>8</td>\n      <td>1</td>\n      <td>0.13912</td>\n      <td>0.333364</td>\n      <td>0.2854</td>\n      <td>...</td>\n      <td>2024-06-13 14:13:56.851996</td>\n      <td>0</td>\n      <td>2024</td>\n      <td>6</td>\n      <td>3</td>\n      <td>13</td>\n      <td>3</td>\n      <td>0</td>\n      <td>0.0</td>\n      <td>186.0</td>\n    </tr>\n    <tr>\n      <th>...</th>\n      <td>...</td>\n      <td>...</td>\n      <td>...</td>\n      <td>...</td>\n      <td>...</td>\n      <td>...</td>\n      <td>...</td>\n      <td>...</td>\n      <td>...</td>\n      <td>...</td>\n      <td>...</td>\n      <td>...</td>\n      <td>...</td>\n      <td>...</td>\n      <td>...</td>\n      <td>...</td>\n      <td>...</td>\n      <td>...</td>\n      <td>...</td>\n      <td>...</td>\n      <td>...</td>\n    </tr>\n    <tr>\n      <th>5504</th>\n      <td>5571</td>\n      <td>148</td>\n      <td>330</td>\n      <td>868</td>\n      <td>7</td>\n      <td>3</td>\n      <td>5571</td>\n      <td>0.09</td>\n      <td>0.19865</td>\n      <td>0.17</td>\n      <td>...</td>\n      <td>2024-06-13 14:13:56.851996</td>\n      <td>0</td>\n      <td>2024</td>\n      <td>6</td>\n      <td>3</td>\n      <td>13</td>\n      <td>3</td>\n      <td>0</td>\n      <td>0.0</td>\n      <td>0.0</td>\n    </tr>\n    <tr>\n      <th>5505</th>\n      <td>5572</td>\n      <td>1</td>\n      <td>1420</td>\n      <td>3709</td>\n      <td>23</td>\n      <td>8</td>\n      <td>5572</td>\n      <td>0.2</td>\n      <td>0.447956</td>\n      <td>0.454</td>\n      <td>...</td>\n      <td>2024-06-13 14:13:56.851996</td>\n      <td>0</td>\n      <td>2024</td>\n      <td>6</td>\n      <td>3</td>\n      <td>13</td>\n      <td>3</td>\n      <td>0</td>\n      <td>0.0</td>\n      <td>266.0</td>\n    </tr>\n    <tr>\n      <th>5506</th>\n      <td>5573</td>\n      <td>1</td>\n      <td>1420</td>\n      <td>3709</td>\n      <td>23</td>\n      <td>8</td>\n      <td>5572</td>\n      <td>0.0</td>\n      <td>0.0</td>\n      <td>0.15</td>\n      <td>...</td>\n      <td>2024-06-13 14:13:56.851996</td>\n      <td>0</td>\n      <td>2024</td>\n      <td>6</td>\n      <td>3</td>\n      <td>13</td>\n      <td>3</td>\n      <td>0</td>\n      <td>0.0</td>\n      <td>410.0</td>\n    </tr>\n    <tr>\n      <th>5507</th>\n      <td>5574</td>\n      <td>1</td>\n      <td>1420</td>\n      <td>3709</td>\n      <td>23</td>\n      <td>8</td>\n      <td>5572</td>\n      <td>0.112219</td>\n      <td>0.2504321</td>\n      <td>0.247551</td>\n      <td>...</td>\n      <td>2024-06-13 14:13:56.851996</td>\n      <td>0</td>\n      <td>2024</td>\n      <td>6</td>\n      <td>3</td>\n      <td>13</td>\n      <td>3</td>\n      <td>0</td>\n      <td>0.0</td>\n      <td>378.0</td>\n    </tr>\n    <tr>\n      <th>5508</th>\n      <td>5575</td>\n      <td>1</td>\n      <td>1420</td>\n      <td>3709</td>\n      <td>23</td>\n      <td>8</td>\n      <td>5572</td>\n      <td>0.0</td>\n      <td>0.0</td>\n      <td>0.17</td>\n      <td>...</td>\n      <td>2024-06-13 14:13:56.851996</td>\n      <td>0</td>\n      <td>2024</td>\n      <td>6</td>\n      <td>3</td>\n      <td>13</td>\n      <td>3</td>\n      <td>0</td>\n      <td>0.0</td>\n      <td>313.0</td>\n    </tr>\n  </tbody>\n</table>\n<p>5509 rows × 44 columns</p>\n</div>"
     },
     "execution_count": 245,
     "metadata": {},
     "output_type": "execute_result"
    }
   ],
   "source": [
    "def split_date(events: pd.DataFrame):\n",
    "    events['year'] = events['time'].dt.year\n",
    "    events['month'] = events['time'].dt.month\n",
    "    events['season'] = events['month'] % 12 // 3 + 1\n",
    "    events['day'] = events['time'].dt.day\n",
    "    # df['work_time'] = (df['event_closed'] - df['event_created']).dt.days\n",
    "    events['day_of_week'] = events['time'].dt.dayofweek\n",
    "    events['is_weekend'] = events['day_of_week'].apply(lambda x: 1 if x >= 5 else 0)\n",
    "    return events\n",
    "\n",
    "ss = all_train_df.groupby(['obj_consumer_id']).first()\n",
    "ss = ss.reset_index()\n",
    "# ss[['obj_consumer_id', 'time']]\n",
    "f = ss[ss['event_class'] != 0]['event_class'].count()\n",
    "ss['time'] = datetime.now()\n",
    "ss['time'] = ss['time'].astype('datetime64[ns]')\n",
    "# ss['time'] = ss['time'].apply(lambda x: x + pd.Timedelta(\"1 day\"))\n",
    "ss = split_date(ss)\n",
    "# ss['time']\n",
    "\n",
    "ss['last_event_days'] = ss.apply(lambda x: x['last_event_days'] if x['event_class'] == 0 else 0, axis=1)\n",
    "ss['last_event_class'] = ss.apply(lambda x: x['event_class'], axis=1)\n",
    "ss['event_class'] = 0\n",
    "# ss = ss[ss['last_event_class'].isnull()]\n",
    "# ss.fillna({\n",
    "#     'gcal_in_system': ss['gcal_in_system'].mean(),\n",
    "#     'gcal_out_system': ss['gcal_out_system'].mean(),\n",
    "#     'subset': ss['subset'].mean(),\n",
    "#     'leak': ss['leak'].mean(),\n",
    "#     'supply_temp': ss['supply_temp'].mean(),\n",
    "#     'return_temp': ss['return_temp'].mean(),\n",
    "# }, inplace=True)\n",
    "# ss = ss.sample(frac=1).reset_index(drop=True)\n",
    "ss = ss.sort_values(by=['leak'], ascending=True, na_position='last')\n",
    "ss.interpolate(method='linear', inplace=True)\n",
    "# ss.infer_objects(copy=True).interpolate(method='spline', inplace=True)\n",
    "# ss = ss[ss['last_event_class'].isnull()]\n",
    "# ss.fillna({\n",
    "#     'gcal_in_system': ss['gcal_in_system'].mean(),\n",
    "#     'gcal_out_system': ss['gcal_out_system'].mean(),\n",
    "#     'subset': ss['subset'].mean(),\n",
    "#     'leak': ss['leak'].mean(),\n",
    "#     'supply_temp': ss['supply_temp'].mean(),\n",
    "#     'return_temp': ss['return_temp'].mean(),\n",
    "# }, inplace=True)\n",
    "# ss[(ss['obj_consumer_id'] == 1) | (ss['obj_consumer_id'] == 10)][['obj_consumer_id', 'gcal_in_system', 'gcal_out_system', 'subset', 'leak', 'supply_temp', 'return_temp']]\n",
    "# ss[['obj_consumer_id', 'gcal_in_system', 'gcal_out_system', 'subset', 'leak', 'supply_temp', 'return_temp']]\n",
    "# 225.2 222.3 1.5\n",
    "ss.isnull().sum()\n",
    "ss = ss.sort_values(by=['obj_consumer_id'], ascending=True)"
   ],
   "metadata": {
    "collapsed": false,
    "ExecuteTime": {
     "end_time": "2024-06-13T11:13:56.962057Z",
     "start_time": "2024-06-13T11:13:56.554184Z"
    }
   },
   "id": "3fcb6b250fcb62e0",
   "execution_count": 245
  },
  {
   "cell_type": "code",
   "outputs": [
    {
     "data": {
      "text/plain": "                          time                  new_time\n0                          NaT                       NaT\n1    2024-12-04 00:00:00+00:00 2024-12-05 00:00:00+00:00\n2    2024-12-04 00:00:00+00:00 2024-12-05 00:00:00+00:00\n3    2024-12-04 00:00:00+00:00 2024-12-05 00:00:00+00:00\n4    2024-12-04 00:00:00+00:00 2024-12-05 00:00:00+00:00\n...                        ...                       ...\n5504 2024-12-04 00:00:00+00:00 2024-12-05 00:00:00+00:00\n5505 2024-12-04 00:00:00+00:00 2024-12-05 00:00:00+00:00\n5506 2024-12-04 00:00:00+00:00 2024-12-05 00:00:00+00:00\n5507 2024-12-04 00:00:00+00:00 2024-12-05 00:00:00+00:00\n5508 2024-12-04 00:00:00+00:00 2024-12-05 00:00:00+00:00\n\n[5509 rows x 2 columns]",
      "text/html": "<div>\n<style scoped>\n    .dataframe tbody tr th:only-of-type {\n        vertical-align: middle;\n    }\n\n    .dataframe tbody tr th {\n        vertical-align: top;\n    }\n\n    .dataframe thead th {\n        text-align: right;\n    }\n</style>\n<table border=\"1\" class=\"dataframe\">\n  <thead>\n    <tr style=\"text-align: right;\">\n      <th></th>\n      <th>time</th>\n      <th>new_time</th>\n    </tr>\n  </thead>\n  <tbody>\n    <tr>\n      <th>0</th>\n      <td>NaT</td>\n      <td>NaT</td>\n    </tr>\n    <tr>\n      <th>1</th>\n      <td>2024-12-04 00:00:00+00:00</td>\n      <td>2024-12-05 00:00:00+00:00</td>\n    </tr>\n    <tr>\n      <th>2</th>\n      <td>2024-12-04 00:00:00+00:00</td>\n      <td>2024-12-05 00:00:00+00:00</td>\n    </tr>\n    <tr>\n      <th>3</th>\n      <td>2024-12-04 00:00:00+00:00</td>\n      <td>2024-12-05 00:00:00+00:00</td>\n    </tr>\n    <tr>\n      <th>4</th>\n      <td>2024-12-04 00:00:00+00:00</td>\n      <td>2024-12-05 00:00:00+00:00</td>\n    </tr>\n    <tr>\n      <th>...</th>\n      <td>...</td>\n      <td>...</td>\n    </tr>\n    <tr>\n      <th>5504</th>\n      <td>2024-12-04 00:00:00+00:00</td>\n      <td>2024-12-05 00:00:00+00:00</td>\n    </tr>\n    <tr>\n      <th>5505</th>\n      <td>2024-12-04 00:00:00+00:00</td>\n      <td>2024-12-05 00:00:00+00:00</td>\n    </tr>\n    <tr>\n      <th>5506</th>\n      <td>2024-12-04 00:00:00+00:00</td>\n      <td>2024-12-05 00:00:00+00:00</td>\n    </tr>\n    <tr>\n      <th>5507</th>\n      <td>2024-12-04 00:00:00+00:00</td>\n      <td>2024-12-05 00:00:00+00:00</td>\n    </tr>\n    <tr>\n      <th>5508</th>\n      <td>2024-12-04 00:00:00+00:00</td>\n      <td>2024-12-05 00:00:00+00:00</td>\n    </tr>\n  </tbody>\n</table>\n<p>5509 rows × 2 columns</p>\n</div>"
     },
     "execution_count": 169,
     "metadata": {},
     "output_type": "execute_result"
    }
   ],
   "source": [
    "\n",
    "\n",
    "# def set_event_class_for_predict():\n",
    "    \n"
   ],
   "metadata": {
    "collapsed": false,
    "ExecuteTime": {
     "end_time": "2024-06-13T09:17:54.759944Z",
     "start_time": "2024-06-13T09:17:54.733857Z"
    }
   },
   "id": "12ed90421cc48777",
   "execution_count": 169
  },
  {
   "cell_type": "code",
   "outputs": [
    {
     "data": {
      "text/plain": "        obj_consumer_id                      time\n679587             5575 2024-12-04 00:00:00+00:00\n679588             5575 2024-12-03 00:00:00+00:00\n679589             5575 2024-12-02 00:00:00+00:00\n679590             5575 2024-12-01 00:00:00+00:00\n679591             5575 2024-11-04 00:00:00+00:00\n...                 ...                       ...\n679807             5575 2023-02-11 00:00:00+00:00\n679808             5575 2023-02-10 00:00:00+00:00\n679809             5575 2023-01-12 00:00:00+00:00\n679810             5575 2023-01-11 00:00:00+00:00\n679811             5575 2023-01-10 00:00:00+00:00\n\n[225 rows x 2 columns]",
      "text/html": "<div>\n<style scoped>\n    .dataframe tbody tr th:only-of-type {\n        vertical-align: middle;\n    }\n\n    .dataframe tbody tr th {\n        vertical-align: top;\n    }\n\n    .dataframe thead th {\n        text-align: right;\n    }\n</style>\n<table border=\"1\" class=\"dataframe\">\n  <thead>\n    <tr style=\"text-align: right;\">\n      <th></th>\n      <th>obj_consumer_id</th>\n      <th>time</th>\n    </tr>\n  </thead>\n  <tbody>\n    <tr>\n      <th>679587</th>\n      <td>5575</td>\n      <td>2024-12-04 00:00:00+00:00</td>\n    </tr>\n    <tr>\n      <th>679588</th>\n      <td>5575</td>\n      <td>2024-12-03 00:00:00+00:00</td>\n    </tr>\n    <tr>\n      <th>679589</th>\n      <td>5575</td>\n      <td>2024-12-02 00:00:00+00:00</td>\n    </tr>\n    <tr>\n      <th>679590</th>\n      <td>5575</td>\n      <td>2024-12-01 00:00:00+00:00</td>\n    </tr>\n    <tr>\n      <th>679591</th>\n      <td>5575</td>\n      <td>2024-11-04 00:00:00+00:00</td>\n    </tr>\n    <tr>\n      <th>...</th>\n      <td>...</td>\n      <td>...</td>\n    </tr>\n    <tr>\n      <th>679807</th>\n      <td>5575</td>\n      <td>2023-02-11 00:00:00+00:00</td>\n    </tr>\n    <tr>\n      <th>679808</th>\n      <td>5575</td>\n      <td>2023-02-10 00:00:00+00:00</td>\n    </tr>\n    <tr>\n      <th>679809</th>\n      <td>5575</td>\n      <td>2023-01-12 00:00:00+00:00</td>\n    </tr>\n    <tr>\n      <th>679810</th>\n      <td>5575</td>\n      <td>2023-01-11 00:00:00+00:00</td>\n    </tr>\n    <tr>\n      <th>679811</th>\n      <td>5575</td>\n      <td>2023-01-10 00:00:00+00:00</td>\n    </tr>\n  </tbody>\n</table>\n<p>225 rows × 2 columns</p>\n</div>"
     },
     "execution_count": 156,
     "metadata": {},
     "output_type": "execute_result"
    }
   ],
   "source": [
    "df_with_out[df_with_out['obj_consumer_id'] == 5575][['obj_consumer_id', 'time']]"
   ],
   "metadata": {
    "collapsed": false,
    "ExecuteTime": {
     "end_time": "2024-06-13T08:46:24.847034Z",
     "start_time": "2024-06-13T08:46:24.811160Z"
    }
   },
   "id": "9a789603266d8d1c",
   "execution_count": 156
  },
  {
   "cell_type": "code",
   "outputs": [],
   "source": [],
   "metadata": {
    "collapsed": false
   },
   "id": "d0c733cfe4627474"
  }
 ],
 "metadata": {
  "kernelspec": {
   "display_name": "Python 3",
   "language": "python",
   "name": "python3"
  },
  "language_info": {
   "codemirror_mode": {
    "name": "ipython",
    "version": 2
   },
   "file_extension": ".py",
   "mimetype": "text/x-python",
   "name": "python",
   "nbconvert_exporter": "python",
   "pygments_lexer": "ipython2",
   "version": "2.7.6"
  }
 },
 "nbformat": 4,
 "nbformat_minor": 5
}
